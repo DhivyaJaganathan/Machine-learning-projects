{
 "cells": [
  {
   "cell_type": "markdown",
   "id": "475a3ded",
   "metadata": {
    "id": "475a3ded"
   },
   "source": [
    "# IMPORTING REQUIRED LIBRARIES"
   ]
  },
  {
   "cell_type": "code",
   "execution_count": 1,
   "id": "611676ca",
   "metadata": {
    "id": "611676ca"
   },
   "outputs": [],
   "source": [
    "# import 'Pandas' \n",
    "import pandas as pd \n",
    "\n",
    "# import 'Numpy' \n",
    "import numpy as np\n",
    "\n",
    "# import subpackage of Matplotlib\n",
    "import matplotlib.pyplot as plt\n",
    "\n",
    "# import 'Seaborn' \n",
    "import seaborn as sns\n",
    "\n",
    "# to suppress warnings \n",
    "from warnings import filterwarnings\n",
    "filterwarnings('ignore')\n",
    "\n",
    "# display all columns of the dataframe\n",
    "pd.options.display.max_columns = None\n",
    "\n",
    "# display all rows of the dataframe\n",
    "pd.options.display.max_rows = None\n",
    " \n",
    "# to display the float values upto 6 decimal places     \n",
    "pd.options.display.float_format = '{:.6f}'.format\n",
    "\n",
    "# import train-test split \n",
    "from sklearn.model_selection import train_test_split\n",
    "\n",
    "# import various functions from statsmodel to perform linear regression\n",
    "import statsmodels\n",
    "import statsmodels.api as sm\n",
    "import statsmodels.stats.api as sms\n",
    "from statsmodels.compat import lzip\n",
    "from statsmodels.stats.outliers_influence import variance_inflation_factor\n",
    "from statsmodels.graphics.gofplots import qqplot\n",
    "from statsmodels.stats.anova import anova_lm\n",
    "from statsmodels.formula.api import ols\n",
    "from statsmodels.tools.eval_measures import rmse\n",
    "\n",
    "# import various functions from scipy\n",
    "from scipy import stats\n",
    "from scipy.stats import shapiro\n",
    "\n",
    "# 'metrics' from sklearn is used for evaluating the model performance\n",
    "\n",
    "\n",
    "from sklearn.metrics import mean_absolute_error\n",
    "from sklearn.metrics import mean_squared_error\n",
    "\n",
    "# import functions to perform feature selection\n",
    "\n",
    "from sklearn.feature_selection import RFE\n",
    "\n",
    "# import function to perform linear regression\n",
    "\n",
    "from sklearn.linear_model import LinearRegression\n",
    "\n",
    "# import functions to perform cross validation\n",
    "from sklearn.model_selection import LeaveOneOut\n",
    "from sklearn.model_selection import cross_val_score\n",
    "from sklearn.model_selection import KFold\n",
    "\n",
    "\n",
    "# ''' REGULARIZATION '''\n",
    "\n",
    "# import function for ridge regression\n",
    "from sklearn.linear_model import Ridge\n",
    "\n",
    "# import function for lasso regression\n",
    "from sklearn.linear_model import Lasso\n",
    "\n",
    "# import function for elastic net regression\n",
    "from sklearn.linear_model import ElasticNet\n",
    "\n",
    "# import function to perform GridSearchCV\n",
    "from sklearn.model_selection import GridSearchCV"
   ]
  },
  {
   "cell_type": "markdown",
   "id": "f57903f6",
   "metadata": {
    "id": "f57903f6"
   },
   "source": [
    "# Reading the data"
   ]
  },
  {
   "cell_type": "code",
   "execution_count": 3,
   "id": "5a97a5f4",
   "metadata": {
    "colab": {
     "base_uri": "https://localhost:8080/",
     "height": 73
    },
    "id": "5a97a5f4",
    "outputId": "584a79b8-faab-4b87-ed31-9ac5a569f71c"
   },
   "outputs": [],
   "source": [
    "\n",
    "df = pd.read_csv('listings.csv')"
   ]
  },
  {
   "cell_type": "code",
   "execution_count": 4,
   "id": "2d4e51a7",
   "metadata": {
    "colab": {
     "base_uri": "https://localhost:8080/",
     "height": 214
    },
    "id": "2d4e51a7",
    "outputId": "b3a9dffa-d0de-4f96-cee6-b28eefd7a4c6"
   },
   "outputs": [
    {
     "data": {
      "text/html": [
       "<div>\n",
       "<style scoped>\n",
       "    .dataframe tbody tr th:only-of-type {\n",
       "        vertical-align: middle;\n",
       "    }\n",
       "\n",
       "    .dataframe tbody tr th {\n",
       "        vertical-align: top;\n",
       "    }\n",
       "\n",
       "    .dataframe thead th {\n",
       "        text-align: right;\n",
       "    }\n",
       "</style>\n",
       "<table border=\"1\" class=\"dataframe\">\n",
       "  <thead>\n",
       "    <tr style=\"text-align: right;\">\n",
       "      <th></th>\n",
       "      <th>id</th>\n",
       "      <th>listing_url</th>\n",
       "      <th>scrape_id</th>\n",
       "      <th>last_scraped</th>\n",
       "      <th>name</th>\n",
       "      <th>description</th>\n",
       "      <th>neighborhood_overview</th>\n",
       "      <th>picture_url</th>\n",
       "      <th>host_id</th>\n",
       "      <th>host_url</th>\n",
       "      <th>host_name</th>\n",
       "      <th>host_since</th>\n",
       "      <th>host_location</th>\n",
       "      <th>host_about</th>\n",
       "      <th>host_response_time</th>\n",
       "      <th>host_response_rate</th>\n",
       "      <th>host_acceptance_rate</th>\n",
       "      <th>host_is_superhost</th>\n",
       "      <th>host_thumbnail_url</th>\n",
       "      <th>host_picture_url</th>\n",
       "      <th>host_neighbourhood</th>\n",
       "      <th>host_listings_count</th>\n",
       "      <th>host_total_listings_count</th>\n",
       "      <th>host_verifications</th>\n",
       "      <th>host_has_profile_pic</th>\n",
       "      <th>host_identity_verified</th>\n",
       "      <th>neighbourhood</th>\n",
       "      <th>neighbourhood_cleansed</th>\n",
       "      <th>neighbourhood_group_cleansed</th>\n",
       "      <th>latitude</th>\n",
       "      <th>longitude</th>\n",
       "      <th>property_type</th>\n",
       "      <th>room_type</th>\n",
       "      <th>accommodates</th>\n",
       "      <th>bathrooms</th>\n",
       "      <th>bathrooms_text</th>\n",
       "      <th>bedrooms</th>\n",
       "      <th>beds</th>\n",
       "      <th>amenities</th>\n",
       "      <th>price</th>\n",
       "      <th>minimum_nights</th>\n",
       "      <th>maximum_nights</th>\n",
       "      <th>minimum_minimum_nights</th>\n",
       "      <th>maximum_minimum_nights</th>\n",
       "      <th>minimum_maximum_nights</th>\n",
       "      <th>maximum_maximum_nights</th>\n",
       "      <th>minimum_nights_avg_ntm</th>\n",
       "      <th>maximum_nights_avg_ntm</th>\n",
       "      <th>calendar_updated</th>\n",
       "      <th>has_availability</th>\n",
       "      <th>availability_30</th>\n",
       "      <th>availability_60</th>\n",
       "      <th>availability_90</th>\n",
       "      <th>availability_365</th>\n",
       "      <th>calendar_last_scraped</th>\n",
       "      <th>number_of_reviews</th>\n",
       "      <th>number_of_reviews_ltm</th>\n",
       "      <th>number_of_reviews_l30d</th>\n",
       "      <th>first_review</th>\n",
       "      <th>last_review</th>\n",
       "      <th>review_scores_rating</th>\n",
       "      <th>review_scores_accuracy</th>\n",
       "      <th>review_scores_cleanliness</th>\n",
       "      <th>review_scores_checkin</th>\n",
       "      <th>review_scores_communication</th>\n",
       "      <th>review_scores_location</th>\n",
       "      <th>review_scores_value</th>\n",
       "      <th>license</th>\n",
       "      <th>instant_bookable</th>\n",
       "      <th>calculated_host_listings_count</th>\n",
       "      <th>calculated_host_listings_count_entire_homes</th>\n",
       "      <th>calculated_host_listings_count_private_rooms</th>\n",
       "      <th>calculated_host_listings_count_shared_rooms</th>\n",
       "      <th>reviews_per_month</th>\n",
       "    </tr>\n",
       "  </thead>\n",
       "  <tbody>\n",
       "    <tr>\n",
       "      <th>0</th>\n",
       "      <td>2595</td>\n",
       "      <td>https://www.airbnb.com/rooms/2595</td>\n",
       "      <td>20211200000000.000000</td>\n",
       "      <td>05-12-2021</td>\n",
       "      <td>Skylit Midtown Castle</td>\n",
       "      <td>Beautiful, spacious skylit studio in the heart...</td>\n",
       "      <td>Centrally located in the heart of Manhattan ju...</td>\n",
       "      <td>https://a0.muscache.com/pictures/f0813a11-40b2...</td>\n",
       "      <td>2845</td>\n",
       "      <td>https://www.airbnb.com/users/show/2845</td>\n",
       "      <td>Jennifer</td>\n",
       "      <td>09-09-2008</td>\n",
       "      <td>New York, New York, United States</td>\n",
       "      <td>A New Yorker since 2000! My passion is creatin...</td>\n",
       "      <td>within a day</td>\n",
       "      <td>80%</td>\n",
       "      <td>17%</td>\n",
       "      <td>f</td>\n",
       "      <td>https://a0.muscache.com/im/pictures/user/50fc5...</td>\n",
       "      <td>https://a0.muscache.com/im/pictures/user/50fc5...</td>\n",
       "      <td>Midtown</td>\n",
       "      <td>8.000000</td>\n",
       "      <td>8.000000</td>\n",
       "      <td>['email', 'phone', 'reviews', 'offline_governm...</td>\n",
       "      <td>t</td>\n",
       "      <td>t</td>\n",
       "      <td>New York, United States</td>\n",
       "      <td>Midtown</td>\n",
       "      <td>Manhattan</td>\n",
       "      <td>40.753560</td>\n",
       "      <td>-73.985590</td>\n",
       "      <td>Entire rental unit</td>\n",
       "      <td>Entire home/apt</td>\n",
       "      <td>1</td>\n",
       "      <td>NaN</td>\n",
       "      <td>1 bath</td>\n",
       "      <td>NaN</td>\n",
       "      <td>1.000000</td>\n",
       "      <td>[\"Extra pillows and blankets\", \"Baking sheet\",...</td>\n",
       "      <td>$150.00</td>\n",
       "      <td>30</td>\n",
       "      <td>1125</td>\n",
       "      <td>30.000000</td>\n",
       "      <td>30.000000</td>\n",
       "      <td>1125.000000</td>\n",
       "      <td>1125.000000</td>\n",
       "      <td>30.000000</td>\n",
       "      <td>1125.000000</td>\n",
       "      <td>NaN</td>\n",
       "      <td>t</td>\n",
       "      <td>3</td>\n",
       "      <td>33</td>\n",
       "      <td>63</td>\n",
       "      <td>338</td>\n",
       "      <td>05-12-2021</td>\n",
       "      <td>48</td>\n",
       "      <td>0</td>\n",
       "      <td>0</td>\n",
       "      <td>21-11-2009</td>\n",
       "      <td>04-11-2019</td>\n",
       "      <td>4.700000</td>\n",
       "      <td>4.720000</td>\n",
       "      <td>4.620000</td>\n",
       "      <td>4.760000</td>\n",
       "      <td>4.790000</td>\n",
       "      <td>4.860000</td>\n",
       "      <td>4.410000</td>\n",
       "      <td>NaN</td>\n",
       "      <td>f</td>\n",
       "      <td>3</td>\n",
       "      <td>3</td>\n",
       "      <td>0</td>\n",
       "      <td>0</td>\n",
       "      <td>0.330000</td>\n",
       "    </tr>\n",
       "  </tbody>\n",
       "</table>\n",
       "</div>"
      ],
      "text/plain": [
       "     id                        listing_url             scrape_id last_scraped  \\\n",
       "0  2595  https://www.airbnb.com/rooms/2595 20211200000000.000000   05-12-2021   \n",
       "\n",
       "                    name                                        description  \\\n",
       "0  Skylit Midtown Castle  Beautiful, spacious skylit studio in the heart...   \n",
       "\n",
       "                               neighborhood_overview  \\\n",
       "0  Centrally located in the heart of Manhattan ju...   \n",
       "\n",
       "                                         picture_url  host_id  \\\n",
       "0  https://a0.muscache.com/pictures/f0813a11-40b2...     2845   \n",
       "\n",
       "                                 host_url host_name  host_since  \\\n",
       "0  https://www.airbnb.com/users/show/2845  Jennifer  09-09-2008   \n",
       "\n",
       "                       host_location  \\\n",
       "0  New York, New York, United States   \n",
       "\n",
       "                                          host_about host_response_time  \\\n",
       "0  A New Yorker since 2000! My passion is creatin...       within a day   \n",
       "\n",
       "  host_response_rate host_acceptance_rate host_is_superhost  \\\n",
       "0                80%                  17%                 f   \n",
       "\n",
       "                                  host_thumbnail_url  \\\n",
       "0  https://a0.muscache.com/im/pictures/user/50fc5...   \n",
       "\n",
       "                                    host_picture_url host_neighbourhood  \\\n",
       "0  https://a0.muscache.com/im/pictures/user/50fc5...            Midtown   \n",
       "\n",
       "   host_listings_count  host_total_listings_count  \\\n",
       "0             8.000000                   8.000000   \n",
       "\n",
       "                                  host_verifications host_has_profile_pic  \\\n",
       "0  ['email', 'phone', 'reviews', 'offline_governm...                    t   \n",
       "\n",
       "  host_identity_verified            neighbourhood neighbourhood_cleansed  \\\n",
       "0                      t  New York, United States                Midtown   \n",
       "\n",
       "  neighbourhood_group_cleansed  latitude  longitude       property_type  \\\n",
       "0                    Manhattan 40.753560 -73.985590  Entire rental unit   \n",
       "\n",
       "         room_type  accommodates  bathrooms bathrooms_text  bedrooms     beds  \\\n",
       "0  Entire home/apt             1        NaN         1 bath       NaN 1.000000   \n",
       "\n",
       "                                           amenities    price  minimum_nights  \\\n",
       "0  [\"Extra pillows and blankets\", \"Baking sheet\",...  $150.00              30   \n",
       "\n",
       "   maximum_nights  minimum_minimum_nights  maximum_minimum_nights  \\\n",
       "0            1125               30.000000               30.000000   \n",
       "\n",
       "   minimum_maximum_nights  maximum_maximum_nights  minimum_nights_avg_ntm  \\\n",
       "0             1125.000000             1125.000000               30.000000   \n",
       "\n",
       "   maximum_nights_avg_ntm  calendar_updated has_availability  availability_30  \\\n",
       "0             1125.000000               NaN                t                3   \n",
       "\n",
       "   availability_60  availability_90  availability_365 calendar_last_scraped  \\\n",
       "0               33               63               338            05-12-2021   \n",
       "\n",
       "   number_of_reviews  number_of_reviews_ltm  number_of_reviews_l30d  \\\n",
       "0                 48                      0                       0   \n",
       "\n",
       "  first_review last_review  review_scores_rating  review_scores_accuracy  \\\n",
       "0   21-11-2009  04-11-2019              4.700000                4.720000   \n",
       "\n",
       "   review_scores_cleanliness  review_scores_checkin  \\\n",
       "0                   4.620000               4.760000   \n",
       "\n",
       "   review_scores_communication  review_scores_location  review_scores_value  \\\n",
       "0                     4.790000                4.860000             4.410000   \n",
       "\n",
       "  license instant_bookable  calculated_host_listings_count  \\\n",
       "0     NaN                f                               3   \n",
       "\n",
       "   calculated_host_listings_count_entire_homes  \\\n",
       "0                                            3   \n",
       "\n",
       "   calculated_host_listings_count_private_rooms  \\\n",
       "0                                             0   \n",
       "\n",
       "   calculated_host_listings_count_shared_rooms  reviews_per_month  \n",
       "0                                            0           0.330000  "
      ]
     },
     "execution_count": 4,
     "metadata": {},
     "output_type": "execute_result"
    }
   ],
   "source": [
    "df.head(1)"
   ]
  },
  {
   "cell_type": "code",
   "execution_count": 5,
   "id": "119d7769",
   "metadata": {
    "colab": {
     "base_uri": "https://localhost:8080/"
    },
    "id": "119d7769",
    "outputId": "99912dcb-defc-4701-9fc2-7c87ce147c41"
   },
   "outputs": [
    {
     "data": {
      "text/plain": [
       "Index(['id', 'listing_url', 'scrape_id', 'last_scraped', 'name', 'description',\n",
       "       'neighborhood_overview', 'picture_url', 'host_id', 'host_url',\n",
       "       'host_name', 'host_since', 'host_location', 'host_about',\n",
       "       'host_response_time', 'host_response_rate', 'host_acceptance_rate',\n",
       "       'host_is_superhost', 'host_thumbnail_url', 'host_picture_url',\n",
       "       'host_neighbourhood', 'host_listings_count',\n",
       "       'host_total_listings_count', 'host_verifications',\n",
       "       'host_has_profile_pic', 'host_identity_verified', 'neighbourhood',\n",
       "       'neighbourhood_cleansed', 'neighbourhood_group_cleansed', 'latitude',\n",
       "       'longitude', 'property_type', 'room_type', 'accommodates', 'bathrooms',\n",
       "       'bathrooms_text', 'bedrooms', 'beds', 'amenities', 'price',\n",
       "       'minimum_nights', 'maximum_nights', 'minimum_minimum_nights',\n",
       "       'maximum_minimum_nights', 'minimum_maximum_nights',\n",
       "       'maximum_maximum_nights', 'minimum_nights_avg_ntm',\n",
       "       'maximum_nights_avg_ntm', 'calendar_updated', 'has_availability',\n",
       "       'availability_30', 'availability_60', 'availability_90',\n",
       "       'availability_365', 'calendar_last_scraped', 'number_of_reviews',\n",
       "       'number_of_reviews_ltm', 'number_of_reviews_l30d', 'first_review',\n",
       "       'last_review', 'review_scores_rating', 'review_scores_accuracy',\n",
       "       'review_scores_cleanliness', 'review_scores_checkin',\n",
       "       'review_scores_communication', 'review_scores_location',\n",
       "       'review_scores_value', 'license', 'instant_bookable',\n",
       "       'calculated_host_listings_count',\n",
       "       'calculated_host_listings_count_entire_homes',\n",
       "       'calculated_host_listings_count_private_rooms',\n",
       "       'calculated_host_listings_count_shared_rooms', 'reviews_per_month'],\n",
       "      dtype='object')"
      ]
     },
     "execution_count": 5,
     "metadata": {},
     "output_type": "execute_result"
    }
   ],
   "source": [
    "df.columns"
   ]
  },
  {
   "cell_type": "code",
   "execution_count": 6,
   "id": "d522d4d8",
   "metadata": {
    "colab": {
     "base_uri": "https://localhost:8080/"
    },
    "id": "d522d4d8",
    "outputId": "550ea3b7-f332-424b-c515-04dfd3fcd4b0"
   },
   "outputs": [
    {
     "data": {
      "text/plain": [
       "(38277, 74)"
      ]
     },
     "execution_count": 6,
     "metadata": {},
     "output_type": "execute_result"
    }
   ],
   "source": [
    "# dimensions of data\n",
    "df.shape"
   ]
  },
  {
   "cell_type": "code",
   "execution_count": 7,
   "id": "cfb19528",
   "metadata": {
    "colab": {
     "base_uri": "https://localhost:8080/"
    },
    "id": "cfb19528",
    "outputId": "4e807025-5bdb-452d-c259-33adcaa961c1"
   },
   "outputs": [
    {
     "name": "stdout",
     "output_type": "stream",
     "text": [
      "<class 'pandas.core.frame.DataFrame'>\n",
      "RangeIndex: 38277 entries, 0 to 38276\n",
      "Data columns (total 74 columns):\n",
      " #   Column                                        Non-Null Count  Dtype  \n",
      "---  ------                                        --------------  -----  \n",
      " 0   id                                            38277 non-null  int64  \n",
      " 1   listing_url                                   38277 non-null  object \n",
      " 2   scrape_id                                     38277 non-null  float64\n",
      " 3   last_scraped                                  38277 non-null  object \n",
      " 4   name                                          38264 non-null  object \n",
      " 5   description                                   37085 non-null  object \n",
      " 6   neighborhood_overview                         22650 non-null  object \n",
      " 7   picture_url                                   38277 non-null  object \n",
      " 8   host_id                                       38277 non-null  int64  \n",
      " 9   host_url                                      38277 non-null  object \n",
      " 10  host_name                                     38243 non-null  object \n",
      " 11  host_since                                    38243 non-null  object \n",
      " 12  host_location                                 38140 non-null  object \n",
      " 13  host_about                                    22128 non-null  object \n",
      " 14  host_response_time                            21084 non-null  object \n",
      " 15  host_response_rate                            21084 non-null  object \n",
      " 16  host_acceptance_rate                          21791 non-null  object \n",
      " 17  host_is_superhost                             38243 non-null  object \n",
      " 18  host_thumbnail_url                            38243 non-null  object \n",
      " 19  host_picture_url                              38243 non-null  object \n",
      " 20  host_neighbourhood                            30813 non-null  object \n",
      " 21  host_listings_count                           38243 non-null  float64\n",
      " 22  host_total_listings_count                     38243 non-null  float64\n",
      " 23  host_verifications                            38277 non-null  object \n",
      " 24  host_has_profile_pic                          38243 non-null  object \n",
      " 25  host_identity_verified                        38243 non-null  object \n",
      " 26  neighbourhood                                 22651 non-null  object \n",
      " 27  neighbourhood_cleansed                        38277 non-null  object \n",
      " 28  neighbourhood_group_cleansed                  38277 non-null  object \n",
      " 29  latitude                                      38277 non-null  float64\n",
      " 30  longitude                                     38277 non-null  float64\n",
      " 31  property_type                                 38277 non-null  object \n",
      " 32  room_type                                     38277 non-null  object \n",
      " 33  accommodates                                  38277 non-null  int64  \n",
      " 34  bathrooms                                     0 non-null      float64\n",
      " 35  bathrooms_text                                38170 non-null  object \n",
      " 36  bedrooms                                      34302 non-null  float64\n",
      " 37  beds                                          35872 non-null  float64\n",
      " 38  amenities                                     38277 non-null  object \n",
      " 39  price                                         38277 non-null  object \n",
      " 40  minimum_nights                                38277 non-null  int64  \n",
      " 41  maximum_nights                                38277 non-null  int64  \n",
      " 42  minimum_minimum_nights                        38259 non-null  float64\n",
      " 43  maximum_minimum_nights                        38259 non-null  float64\n",
      " 44  minimum_maximum_nights                        38259 non-null  float64\n",
      " 45  maximum_maximum_nights                        38259 non-null  float64\n",
      " 46  minimum_nights_avg_ntm                        38259 non-null  float64\n",
      " 47  maximum_nights_avg_ntm                        38259 non-null  float64\n",
      " 48  calendar_updated                              0 non-null      float64\n",
      " 49  has_availability                              38277 non-null  object \n",
      " 50  availability_30                               38277 non-null  int64  \n",
      " 51  availability_60                               38277 non-null  int64  \n",
      " 52  availability_90                               38277 non-null  int64  \n",
      " 53  availability_365                              38277 non-null  int64  \n",
      " 54  calendar_last_scraped                         38277 non-null  object \n",
      " 55  number_of_reviews                             38277 non-null  int64  \n",
      " 56  number_of_reviews_ltm                         38277 non-null  int64  \n",
      " 57  number_of_reviews_l30d                        38277 non-null  int64  \n",
      " 58  first_review                                  28773 non-null  object \n",
      " 59  last_review                                   28773 non-null  object \n",
      " 60  review_scores_rating                          28773 non-null  float64\n",
      " 61  review_scores_accuracy                        28161 non-null  float64\n",
      " 62  review_scores_cleanliness                     28172 non-null  float64\n",
      " 63  review_scores_checkin                         28154 non-null  float64\n",
      " 64  review_scores_communication                   28165 non-null  float64\n",
      " 65  review_scores_location                        28151 non-null  float64\n",
      " 66  review_scores_value                           28150 non-null  float64\n",
      " 67  license                                       1 non-null      object \n",
      " 68  instant_bookable                              38277 non-null  object \n",
      " 69  calculated_host_listings_count                38277 non-null  int64  \n",
      " 70  calculated_host_listings_count_entire_homes   38277 non-null  int64  \n",
      " 71  calculated_host_listings_count_private_rooms  38277 non-null  int64  \n",
      " 72  calculated_host_listings_count_shared_rooms   38277 non-null  int64  \n",
      " 73  reviews_per_month                             28773 non-null  float64\n",
      "dtypes: float64(23), int64(16), object(35)\n",
      "memory usage: 21.6+ MB\n"
     ]
    }
   ],
   "source": [
    "# checking datatypes of data\n",
    "df.info()"
   ]
  },
  {
   "cell_type": "code",
   "execution_count": 8,
   "id": "c481fdd8",
   "metadata": {
    "id": "c481fdd8"
   },
   "outputs": [],
   "source": [
    "# price , host_responserate , host_acceptance have different data types we need to change them to required types\n",
    "# After cleaning the anamolies "
   ]
  },
  {
   "cell_type": "code",
   "execution_count": 9,
   "id": "678bca02",
   "metadata": {
    "colab": {
     "base_uri": "https://localhost:8080/",
     "height": 364
    },
    "id": "678bca02",
    "outputId": "d9843e89-9ddd-47c9-af75-6f78e1eefac1"
   },
   "outputs": [
    {
     "data": {
      "text/html": [
       "<div>\n",
       "<style scoped>\n",
       "    .dataframe tbody tr th:only-of-type {\n",
       "        vertical-align: middle;\n",
       "    }\n",
       "\n",
       "    .dataframe tbody tr th {\n",
       "        vertical-align: top;\n",
       "    }\n",
       "\n",
       "    .dataframe thead th {\n",
       "        text-align: right;\n",
       "    }\n",
       "</style>\n",
       "<table border=\"1\" class=\"dataframe\">\n",
       "  <thead>\n",
       "    <tr style=\"text-align: right;\">\n",
       "      <th></th>\n",
       "      <th>id</th>\n",
       "      <th>scrape_id</th>\n",
       "      <th>host_id</th>\n",
       "      <th>host_listings_count</th>\n",
       "      <th>host_total_listings_count</th>\n",
       "      <th>latitude</th>\n",
       "      <th>longitude</th>\n",
       "      <th>accommodates</th>\n",
       "      <th>bathrooms</th>\n",
       "      <th>bedrooms</th>\n",
       "      <th>beds</th>\n",
       "      <th>minimum_nights</th>\n",
       "      <th>maximum_nights</th>\n",
       "      <th>minimum_minimum_nights</th>\n",
       "      <th>maximum_minimum_nights</th>\n",
       "      <th>minimum_maximum_nights</th>\n",
       "      <th>maximum_maximum_nights</th>\n",
       "      <th>minimum_nights_avg_ntm</th>\n",
       "      <th>maximum_nights_avg_ntm</th>\n",
       "      <th>calendar_updated</th>\n",
       "      <th>availability_30</th>\n",
       "      <th>availability_60</th>\n",
       "      <th>availability_90</th>\n",
       "      <th>availability_365</th>\n",
       "      <th>number_of_reviews</th>\n",
       "      <th>number_of_reviews_ltm</th>\n",
       "      <th>number_of_reviews_l30d</th>\n",
       "      <th>review_scores_rating</th>\n",
       "      <th>review_scores_accuracy</th>\n",
       "      <th>review_scores_cleanliness</th>\n",
       "      <th>review_scores_checkin</th>\n",
       "      <th>review_scores_communication</th>\n",
       "      <th>review_scores_location</th>\n",
       "      <th>review_scores_value</th>\n",
       "      <th>calculated_host_listings_count</th>\n",
       "      <th>calculated_host_listings_count_entire_homes</th>\n",
       "      <th>calculated_host_listings_count_private_rooms</th>\n",
       "      <th>calculated_host_listings_count_shared_rooms</th>\n",
       "      <th>reviews_per_month</th>\n",
       "    </tr>\n",
       "  </thead>\n",
       "  <tbody>\n",
       "    <tr>\n",
       "      <th>count</th>\n",
       "      <td>38277.000000</td>\n",
       "      <td>38277.000000</td>\n",
       "      <td>38277.000000</td>\n",
       "      <td>38243.000000</td>\n",
       "      <td>38243.000000</td>\n",
       "      <td>38277.000000</td>\n",
       "      <td>38277.000000</td>\n",
       "      <td>38277.000000</td>\n",
       "      <td>0.000000</td>\n",
       "      <td>34302.000000</td>\n",
       "      <td>35872.000000</td>\n",
       "      <td>38277.000000</td>\n",
       "      <td>38277.000000</td>\n",
       "      <td>38259.000000</td>\n",
       "      <td>38259.000000</td>\n",
       "      <td>38259.000000</td>\n",
       "      <td>38259.000000</td>\n",
       "      <td>38259.000000</td>\n",
       "      <td>38259.000000</td>\n",
       "      <td>0.000000</td>\n",
       "      <td>38277.000000</td>\n",
       "      <td>38277.000000</td>\n",
       "      <td>38277.000000</td>\n",
       "      <td>38277.000000</td>\n",
       "      <td>38277.000000</td>\n",
       "      <td>38277.000000</td>\n",
       "      <td>38277.000000</td>\n",
       "      <td>28773.000000</td>\n",
       "      <td>28161.000000</td>\n",
       "      <td>28172.000000</td>\n",
       "      <td>28154.000000</td>\n",
       "      <td>28165.000000</td>\n",
       "      <td>28151.000000</td>\n",
       "      <td>28150.000000</td>\n",
       "      <td>38277.000000</td>\n",
       "      <td>38277.000000</td>\n",
       "      <td>38277.000000</td>\n",
       "      <td>38277.000000</td>\n",
       "      <td>28773.000000</td>\n",
       "    </tr>\n",
       "    <tr>\n",
       "      <th>mean</th>\n",
       "      <td>29622391.364945</td>\n",
       "      <td>20211200000000.000000</td>\n",
       "      <td>114830455.233874</td>\n",
       "      <td>49.020056</td>\n",
       "      <td>49.020056</td>\n",
       "      <td>40.729206</td>\n",
       "      <td>-73.948967</td>\n",
       "      <td>2.792094</td>\n",
       "      <td>NaN</td>\n",
       "      <td>1.323567</td>\n",
       "      <td>1.593527</td>\n",
       "      <td>21.623769</td>\n",
       "      <td>57796.642553</td>\n",
       "      <td>21.835620</td>\n",
       "      <td>27.618939</td>\n",
       "      <td>1461230.932225</td>\n",
       "      <td>3538051.803262</td>\n",
       "      <td>27.205186</td>\n",
       "      <td>2247183.247801</td>\n",
       "      <td>NaN</td>\n",
       "      <td>6.905531</td>\n",
       "      <td>19.787523</td>\n",
       "      <td>33.946391</td>\n",
       "      <td>134.290984</td>\n",
       "      <td>23.302871</td>\n",
       "      <td>5.032160</td>\n",
       "      <td>0.539802</td>\n",
       "      <td>4.585140</td>\n",
       "      <td>4.743904</td>\n",
       "      <td>4.612408</td>\n",
       "      <td>4.813884</td>\n",
       "      <td>4.807454</td>\n",
       "      <td>4.750307</td>\n",
       "      <td>4.646892</td>\n",
       "      <td>17.747655</td>\n",
       "      <td>8.042637</td>\n",
       "      <td>9.593934</td>\n",
       "      <td>0.047966</td>\n",
       "      <td>1.721019</td>\n",
       "    </tr>\n",
       "    <tr>\n",
       "      <th>std</th>\n",
       "      <td>17422394.081480</td>\n",
       "      <td>0.000000</td>\n",
       "      <td>129919366.832031</td>\n",
       "      <td>312.947661</td>\n",
       "      <td>312.947661</td>\n",
       "      <td>0.055752</td>\n",
       "      <td>0.050759</td>\n",
       "      <td>1.869736</td>\n",
       "      <td>NaN</td>\n",
       "      <td>0.708327</td>\n",
       "      <td>1.078893</td>\n",
       "      <td>29.573333</td>\n",
       "      <td>10977368.411933</td>\n",
       "      <td>34.363195</td>\n",
       "      <td>69.948235</td>\n",
       "      <td>55964015.090109</td>\n",
       "      <td>87072570.881856</td>\n",
       "      <td>68.146270</td>\n",
       "      <td>65159632.813771</td>\n",
       "      <td>NaN</td>\n",
       "      <td>10.017318</td>\n",
       "      <td>22.038048</td>\n",
       "      <td>34.836649</td>\n",
       "      <td>143.196175</td>\n",
       "      <td>50.415484</td>\n",
       "      <td>14.693768</td>\n",
       "      <td>1.489229</td>\n",
       "      <td>0.835918</td>\n",
       "      <td>0.496406</td>\n",
       "      <td>0.575452</td>\n",
       "      <td>0.439260</td>\n",
       "      <td>0.465544</td>\n",
       "      <td>0.416101</td>\n",
       "      <td>0.518905</td>\n",
       "      <td>59.150451</td>\n",
       "      <td>34.977178</td>\n",
       "      <td>43.310123</td>\n",
       "      <td>0.426789</td>\n",
       "      <td>4.399826</td>\n",
       "    </tr>\n",
       "    <tr>\n",
       "      <th>min</th>\n",
       "      <td>2595.000000</td>\n",
       "      <td>20211200000000.000000</td>\n",
       "      <td>2438.000000</td>\n",
       "      <td>0.000000</td>\n",
       "      <td>0.000000</td>\n",
       "      <td>40.504560</td>\n",
       "      <td>-74.249840</td>\n",
       "      <td>0.000000</td>\n",
       "      <td>NaN</td>\n",
       "      <td>1.000000</td>\n",
       "      <td>1.000000</td>\n",
       "      <td>1.000000</td>\n",
       "      <td>1.000000</td>\n",
       "      <td>1.000000</td>\n",
       "      <td>1.000000</td>\n",
       "      <td>1.000000</td>\n",
       "      <td>1.000000</td>\n",
       "      <td>1.000000</td>\n",
       "      <td>1.000000</td>\n",
       "      <td>NaN</td>\n",
       "      <td>0.000000</td>\n",
       "      <td>0.000000</td>\n",
       "      <td>0.000000</td>\n",
       "      <td>0.000000</td>\n",
       "      <td>0.000000</td>\n",
       "      <td>0.000000</td>\n",
       "      <td>0.000000</td>\n",
       "      <td>0.000000</td>\n",
       "      <td>0.000000</td>\n",
       "      <td>0.000000</td>\n",
       "      <td>0.000000</td>\n",
       "      <td>0.000000</td>\n",
       "      <td>0.000000</td>\n",
       "      <td>0.000000</td>\n",
       "      <td>1.000000</td>\n",
       "      <td>0.000000</td>\n",
       "      <td>0.000000</td>\n",
       "      <td>0.000000</td>\n",
       "      <td>0.010000</td>\n",
       "    </tr>\n",
       "    <tr>\n",
       "      <th>25%</th>\n",
       "      <td>13410478.000000</td>\n",
       "      <td>20211200000000.000000</td>\n",
       "      <td>11394622.000000</td>\n",
       "      <td>1.000000</td>\n",
       "      <td>1.000000</td>\n",
       "      <td>40.689260</td>\n",
       "      <td>-73.983270</td>\n",
       "      <td>2.000000</td>\n",
       "      <td>NaN</td>\n",
       "      <td>1.000000</td>\n",
       "      <td>1.000000</td>\n",
       "      <td>3.000000</td>\n",
       "      <td>60.000000</td>\n",
       "      <td>3.000000</td>\n",
       "      <td>3.000000</td>\n",
       "      <td>360.000000</td>\n",
       "      <td>365.000000</td>\n",
       "      <td>3.000000</td>\n",
       "      <td>365.000000</td>\n",
       "      <td>NaN</td>\n",
       "      <td>0.000000</td>\n",
       "      <td>0.000000</td>\n",
       "      <td>0.000000</td>\n",
       "      <td>0.000000</td>\n",
       "      <td>1.000000</td>\n",
       "      <td>0.000000</td>\n",
       "      <td>0.000000</td>\n",
       "      <td>4.570000</td>\n",
       "      <td>4.700000</td>\n",
       "      <td>4.500000</td>\n",
       "      <td>4.800000</td>\n",
       "      <td>4.810000</td>\n",
       "      <td>4.670000</td>\n",
       "      <td>4.550000</td>\n",
       "      <td>1.000000</td>\n",
       "      <td>0.000000</td>\n",
       "      <td>0.000000</td>\n",
       "      <td>0.000000</td>\n",
       "      <td>0.120000</td>\n",
       "    </tr>\n",
       "    <tr>\n",
       "      <th>50%</th>\n",
       "      <td>30812691.000000</td>\n",
       "      <td>20211200000000.000000</td>\n",
       "      <td>50052968.000000</td>\n",
       "      <td>1.000000</td>\n",
       "      <td>1.000000</td>\n",
       "      <td>40.725180</td>\n",
       "      <td>-73.954770</td>\n",
       "      <td>2.000000</td>\n",
       "      <td>NaN</td>\n",
       "      <td>1.000000</td>\n",
       "      <td>1.000000</td>\n",
       "      <td>30.000000</td>\n",
       "      <td>1125.000000</td>\n",
       "      <td>30.000000</td>\n",
       "      <td>30.000000</td>\n",
       "      <td>1125.000000</td>\n",
       "      <td>1125.000000</td>\n",
       "      <td>30.000000</td>\n",
       "      <td>1125.000000</td>\n",
       "      <td>NaN</td>\n",
       "      <td>1.000000</td>\n",
       "      <td>8.000000</td>\n",
       "      <td>25.000000</td>\n",
       "      <td>73.000000</td>\n",
       "      <td>4.000000</td>\n",
       "      <td>0.000000</td>\n",
       "      <td>0.000000</td>\n",
       "      <td>4.820000</td>\n",
       "      <td>4.900000</td>\n",
       "      <td>4.800000</td>\n",
       "      <td>4.960000</td>\n",
       "      <td>4.970000</td>\n",
       "      <td>4.880000</td>\n",
       "      <td>4.780000</td>\n",
       "      <td>1.000000</td>\n",
       "      <td>1.000000</td>\n",
       "      <td>0.000000</td>\n",
       "      <td>0.000000</td>\n",
       "      <td>0.480000</td>\n",
       "    </tr>\n",
       "    <tr>\n",
       "      <th>75%</th>\n",
       "      <td>46428551.000000</td>\n",
       "      <td>20211200000000.000000</td>\n",
       "      <td>200239515.000000</td>\n",
       "      <td>3.000000</td>\n",
       "      <td>3.000000</td>\n",
       "      <td>40.762680</td>\n",
       "      <td>-73.930430</td>\n",
       "      <td>4.000000</td>\n",
       "      <td>NaN</td>\n",
       "      <td>1.000000</td>\n",
       "      <td>2.000000</td>\n",
       "      <td>30.000000</td>\n",
       "      <td>1125.000000</td>\n",
       "      <td>30.000000</td>\n",
       "      <td>30.000000</td>\n",
       "      <td>1125.000000</td>\n",
       "      <td>1125.000000</td>\n",
       "      <td>30.000000</td>\n",
       "      <td>1125.000000</td>\n",
       "      <td>NaN</td>\n",
       "      <td>11.000000</td>\n",
       "      <td>38.000000</td>\n",
       "      <td>67.000000</td>\n",
       "      <td>302.000000</td>\n",
       "      <td>20.000000</td>\n",
       "      <td>3.000000</td>\n",
       "      <td>0.000000</td>\n",
       "      <td>5.000000</td>\n",
       "      <td>5.000000</td>\n",
       "      <td>5.000000</td>\n",
       "      <td>5.000000</td>\n",
       "      <td>5.000000</td>\n",
       "      <td>5.000000</td>\n",
       "      <td>5.000000</td>\n",
       "      <td>3.000000</td>\n",
       "      <td>1.000000</td>\n",
       "      <td>1.000000</td>\n",
       "      <td>0.000000</td>\n",
       "      <td>1.780000</td>\n",
       "    </tr>\n",
       "    <tr>\n",
       "      <th>max</th>\n",
       "      <td>53665099.000000</td>\n",
       "      <td>20211200000000.000000</td>\n",
       "      <td>434408046.000000</td>\n",
       "      <td>3750.000000</td>\n",
       "      <td>3750.000000</td>\n",
       "      <td>40.914020</td>\n",
       "      <td>-73.710870</td>\n",
       "      <td>16.000000</td>\n",
       "      <td>NaN</td>\n",
       "      <td>16.000000</td>\n",
       "      <td>24.000000</td>\n",
       "      <td>1250.000000</td>\n",
       "      <td>2147483647.000000</td>\n",
       "      <td>1250.000000</td>\n",
       "      <td>1250.000000</td>\n",
       "      <td>2147483647.000000</td>\n",
       "      <td>2147483647.000000</td>\n",
       "      <td>1250.000000</td>\n",
       "      <td>2147483647.000000</td>\n",
       "      <td>NaN</td>\n",
       "      <td>30.000000</td>\n",
       "      <td>60.000000</td>\n",
       "      <td>90.000000</td>\n",
       "      <td>365.000000</td>\n",
       "      <td>1009.000000</td>\n",
       "      <td>669.000000</td>\n",
       "      <td>67.000000</td>\n",
       "      <td>5.000000</td>\n",
       "      <td>5.000000</td>\n",
       "      <td>5.000000</td>\n",
       "      <td>5.000000</td>\n",
       "      <td>5.000000</td>\n",
       "      <td>5.000000</td>\n",
       "      <td>5.000000</td>\n",
       "      <td>421.000000</td>\n",
       "      <td>308.000000</td>\n",
       "      <td>359.000000</td>\n",
       "      <td>8.000000</td>\n",
       "      <td>141.000000</td>\n",
       "    </tr>\n",
       "  </tbody>\n",
       "</table>\n",
       "</div>"
      ],
      "text/plain": [
       "                   id             scrape_id          host_id  \\\n",
       "count    38277.000000          38277.000000     38277.000000   \n",
       "mean  29622391.364945 20211200000000.000000 114830455.233874   \n",
       "std   17422394.081480              0.000000 129919366.832031   \n",
       "min       2595.000000 20211200000000.000000      2438.000000   \n",
       "25%   13410478.000000 20211200000000.000000  11394622.000000   \n",
       "50%   30812691.000000 20211200000000.000000  50052968.000000   \n",
       "75%   46428551.000000 20211200000000.000000 200239515.000000   \n",
       "max   53665099.000000 20211200000000.000000 434408046.000000   \n",
       "\n",
       "       host_listings_count  host_total_listings_count     latitude  \\\n",
       "count         38243.000000               38243.000000 38277.000000   \n",
       "mean             49.020056                  49.020056    40.729206   \n",
       "std             312.947661                 312.947661     0.055752   \n",
       "min               0.000000                   0.000000    40.504560   \n",
       "25%               1.000000                   1.000000    40.689260   \n",
       "50%               1.000000                   1.000000    40.725180   \n",
       "75%               3.000000                   3.000000    40.762680   \n",
       "max            3750.000000                3750.000000    40.914020   \n",
       "\n",
       "         longitude  accommodates  bathrooms     bedrooms         beds  \\\n",
       "count 38277.000000  38277.000000   0.000000 34302.000000 35872.000000   \n",
       "mean    -73.948967      2.792094        NaN     1.323567     1.593527   \n",
       "std       0.050759      1.869736        NaN     0.708327     1.078893   \n",
       "min     -74.249840      0.000000        NaN     1.000000     1.000000   \n",
       "25%     -73.983270      2.000000        NaN     1.000000     1.000000   \n",
       "50%     -73.954770      2.000000        NaN     1.000000     1.000000   \n",
       "75%     -73.930430      4.000000        NaN     1.000000     2.000000   \n",
       "max     -73.710870     16.000000        NaN    16.000000    24.000000   \n",
       "\n",
       "       minimum_nights    maximum_nights  minimum_minimum_nights  \\\n",
       "count    38277.000000      38277.000000            38259.000000   \n",
       "mean        21.623769      57796.642553               21.835620   \n",
       "std         29.573333   10977368.411933               34.363195   \n",
       "min          1.000000          1.000000                1.000000   \n",
       "25%          3.000000         60.000000                3.000000   \n",
       "50%         30.000000       1125.000000               30.000000   \n",
       "75%         30.000000       1125.000000               30.000000   \n",
       "max       1250.000000 2147483647.000000             1250.000000   \n",
       "\n",
       "       maximum_minimum_nights  minimum_maximum_nights  maximum_maximum_nights  \\\n",
       "count            38259.000000            38259.000000            38259.000000   \n",
       "mean                27.618939          1461230.932225          3538051.803262   \n",
       "std                 69.948235         55964015.090109         87072570.881856   \n",
       "min                  1.000000                1.000000                1.000000   \n",
       "25%                  3.000000              360.000000              365.000000   \n",
       "50%                 30.000000             1125.000000             1125.000000   \n",
       "75%                 30.000000             1125.000000             1125.000000   \n",
       "max               1250.000000       2147483647.000000       2147483647.000000   \n",
       "\n",
       "       minimum_nights_avg_ntm  maximum_nights_avg_ntm  calendar_updated  \\\n",
       "count            38259.000000            38259.000000          0.000000   \n",
       "mean                27.205186          2247183.247801               NaN   \n",
       "std                 68.146270         65159632.813771               NaN   \n",
       "min                  1.000000                1.000000               NaN   \n",
       "25%                  3.000000              365.000000               NaN   \n",
       "50%                 30.000000             1125.000000               NaN   \n",
       "75%                 30.000000             1125.000000               NaN   \n",
       "max               1250.000000       2147483647.000000               NaN   \n",
       "\n",
       "       availability_30  availability_60  availability_90  availability_365  \\\n",
       "count     38277.000000     38277.000000     38277.000000      38277.000000   \n",
       "mean          6.905531        19.787523        33.946391        134.290984   \n",
       "std          10.017318        22.038048        34.836649        143.196175   \n",
       "min           0.000000         0.000000         0.000000          0.000000   \n",
       "25%           0.000000         0.000000         0.000000          0.000000   \n",
       "50%           1.000000         8.000000        25.000000         73.000000   \n",
       "75%          11.000000        38.000000        67.000000        302.000000   \n",
       "max          30.000000        60.000000        90.000000        365.000000   \n",
       "\n",
       "       number_of_reviews  number_of_reviews_ltm  number_of_reviews_l30d  \\\n",
       "count       38277.000000           38277.000000            38277.000000   \n",
       "mean           23.302871               5.032160                0.539802   \n",
       "std            50.415484              14.693768                1.489229   \n",
       "min             0.000000               0.000000                0.000000   \n",
       "25%             1.000000               0.000000                0.000000   \n",
       "50%             4.000000               0.000000                0.000000   \n",
       "75%            20.000000               3.000000                0.000000   \n",
       "max          1009.000000             669.000000               67.000000   \n",
       "\n",
       "       review_scores_rating  review_scores_accuracy  \\\n",
       "count          28773.000000            28161.000000   \n",
       "mean               4.585140                4.743904   \n",
       "std                0.835918                0.496406   \n",
       "min                0.000000                0.000000   \n",
       "25%                4.570000                4.700000   \n",
       "50%                4.820000                4.900000   \n",
       "75%                5.000000                5.000000   \n",
       "max                5.000000                5.000000   \n",
       "\n",
       "       review_scores_cleanliness  review_scores_checkin  \\\n",
       "count               28172.000000           28154.000000   \n",
       "mean                    4.612408               4.813884   \n",
       "std                     0.575452               0.439260   \n",
       "min                     0.000000               0.000000   \n",
       "25%                     4.500000               4.800000   \n",
       "50%                     4.800000               4.960000   \n",
       "75%                     5.000000               5.000000   \n",
       "max                     5.000000               5.000000   \n",
       "\n",
       "       review_scores_communication  review_scores_location  \\\n",
       "count                 28165.000000            28151.000000   \n",
       "mean                      4.807454                4.750307   \n",
       "std                       0.465544                0.416101   \n",
       "min                       0.000000                0.000000   \n",
       "25%                       4.810000                4.670000   \n",
       "50%                       4.970000                4.880000   \n",
       "75%                       5.000000                5.000000   \n",
       "max                       5.000000                5.000000   \n",
       "\n",
       "       review_scores_value  calculated_host_listings_count  \\\n",
       "count         28150.000000                    38277.000000   \n",
       "mean              4.646892                       17.747655   \n",
       "std               0.518905                       59.150451   \n",
       "min               0.000000                        1.000000   \n",
       "25%               4.550000                        1.000000   \n",
       "50%               4.780000                        1.000000   \n",
       "75%               5.000000                        3.000000   \n",
       "max               5.000000                      421.000000   \n",
       "\n",
       "       calculated_host_listings_count_entire_homes  \\\n",
       "count                                 38277.000000   \n",
       "mean                                      8.042637   \n",
       "std                                      34.977178   \n",
       "min                                       0.000000   \n",
       "25%                                       0.000000   \n",
       "50%                                       1.000000   \n",
       "75%                                       1.000000   \n",
       "max                                     308.000000   \n",
       "\n",
       "       calculated_host_listings_count_private_rooms  \\\n",
       "count                                  38277.000000   \n",
       "mean                                       9.593934   \n",
       "std                                       43.310123   \n",
       "min                                        0.000000   \n",
       "25%                                        0.000000   \n",
       "50%                                        0.000000   \n",
       "75%                                        1.000000   \n",
       "max                                      359.000000   \n",
       "\n",
       "       calculated_host_listings_count_shared_rooms  reviews_per_month  \n",
       "count                                 38277.000000       28773.000000  \n",
       "mean                                      0.047966           1.721019  \n",
       "std                                       0.426789           4.399826  \n",
       "min                                       0.000000           0.010000  \n",
       "25%                                       0.000000           0.120000  \n",
       "50%                                       0.000000           0.480000  \n",
       "75%                                       0.000000           1.780000  \n",
       "max                                       8.000000         141.000000  "
      ]
     },
     "execution_count": 9,
     "metadata": {},
     "output_type": "execute_result"
    }
   ],
   "source": [
    "df.describe(include = np.number)"
   ]
  },
  {
   "cell_type": "code",
   "execution_count": 10,
   "id": "b896fe34",
   "metadata": {
    "colab": {
     "base_uri": "https://localhost:8080/",
     "height": 325
    },
    "id": "b896fe34",
    "outputId": "7d9e1d4e-65c0-4782-ce5c-17181fca397d"
   },
   "outputs": [
    {
     "data": {
      "text/html": [
       "<div>\n",
       "<style scoped>\n",
       "    .dataframe tbody tr th:only-of-type {\n",
       "        vertical-align: middle;\n",
       "    }\n",
       "\n",
       "    .dataframe tbody tr th {\n",
       "        vertical-align: top;\n",
       "    }\n",
       "\n",
       "    .dataframe thead th {\n",
       "        text-align: right;\n",
       "    }\n",
       "</style>\n",
       "<table border=\"1\" class=\"dataframe\">\n",
       "  <thead>\n",
       "    <tr style=\"text-align: right;\">\n",
       "      <th></th>\n",
       "      <th>listing_url</th>\n",
       "      <th>last_scraped</th>\n",
       "      <th>name</th>\n",
       "      <th>description</th>\n",
       "      <th>neighborhood_overview</th>\n",
       "      <th>picture_url</th>\n",
       "      <th>host_url</th>\n",
       "      <th>host_name</th>\n",
       "      <th>host_since</th>\n",
       "      <th>host_location</th>\n",
       "      <th>host_about</th>\n",
       "      <th>host_response_time</th>\n",
       "      <th>host_response_rate</th>\n",
       "      <th>host_acceptance_rate</th>\n",
       "      <th>host_is_superhost</th>\n",
       "      <th>host_thumbnail_url</th>\n",
       "      <th>host_picture_url</th>\n",
       "      <th>host_neighbourhood</th>\n",
       "      <th>host_verifications</th>\n",
       "      <th>host_has_profile_pic</th>\n",
       "      <th>host_identity_verified</th>\n",
       "      <th>neighbourhood</th>\n",
       "      <th>neighbourhood_cleansed</th>\n",
       "      <th>neighbourhood_group_cleansed</th>\n",
       "      <th>property_type</th>\n",
       "      <th>room_type</th>\n",
       "      <th>bathrooms_text</th>\n",
       "      <th>amenities</th>\n",
       "      <th>price</th>\n",
       "      <th>has_availability</th>\n",
       "      <th>calendar_last_scraped</th>\n",
       "      <th>first_review</th>\n",
       "      <th>last_review</th>\n",
       "      <th>license</th>\n",
       "      <th>instant_bookable</th>\n",
       "    </tr>\n",
       "  </thead>\n",
       "  <tbody>\n",
       "    <tr>\n",
       "      <th>count</th>\n",
       "      <td>38277</td>\n",
       "      <td>38277</td>\n",
       "      <td>38264</td>\n",
       "      <td>37085</td>\n",
       "      <td>22650</td>\n",
       "      <td>38277</td>\n",
       "      <td>38277</td>\n",
       "      <td>38243</td>\n",
       "      <td>38243</td>\n",
       "      <td>38140</td>\n",
       "      <td>22128</td>\n",
       "      <td>21084</td>\n",
       "      <td>21084</td>\n",
       "      <td>21791</td>\n",
       "      <td>38243</td>\n",
       "      <td>38243</td>\n",
       "      <td>38243</td>\n",
       "      <td>30813</td>\n",
       "      <td>38277</td>\n",
       "      <td>38243</td>\n",
       "      <td>38243</td>\n",
       "      <td>22651</td>\n",
       "      <td>38277</td>\n",
       "      <td>38277</td>\n",
       "      <td>38277</td>\n",
       "      <td>38277</td>\n",
       "      <td>38170</td>\n",
       "      <td>38277</td>\n",
       "      <td>38277</td>\n",
       "      <td>38277</td>\n",
       "      <td>38277</td>\n",
       "      <td>28773</td>\n",
       "      <td>28773</td>\n",
       "      <td>1</td>\n",
       "      <td>38277</td>\n",
       "    </tr>\n",
       "    <tr>\n",
       "      <th>unique</th>\n",
       "      <td>38277</td>\n",
       "      <td>2</td>\n",
       "      <td>36869</td>\n",
       "      <td>34133</td>\n",
       "      <td>18614</td>\n",
       "      <td>37148</td>\n",
       "      <td>25904</td>\n",
       "      <td>9123</td>\n",
       "      <td>4289</td>\n",
       "      <td>1747</td>\n",
       "      <td>14424</td>\n",
       "      <td>4</td>\n",
       "      <td>88</td>\n",
       "      <td>101</td>\n",
       "      <td>2</td>\n",
       "      <td>25686</td>\n",
       "      <td>25686</td>\n",
       "      <td>484</td>\n",
       "      <td>526</td>\n",
       "      <td>2</td>\n",
       "      <td>2</td>\n",
       "      <td>207</td>\n",
       "      <td>222</td>\n",
       "      <td>5</td>\n",
       "      <td>78</td>\n",
       "      <td>4</td>\n",
       "      <td>30</td>\n",
       "      <td>31740</td>\n",
       "      <td>949</td>\n",
       "      <td>2</td>\n",
       "      <td>2</td>\n",
       "      <td>3171</td>\n",
       "      <td>2560</td>\n",
       "      <td>1</td>\n",
       "      <td>2</td>\n",
       "    </tr>\n",
       "    <tr>\n",
       "      <th>top</th>\n",
       "      <td>https://www.airbnb.com/rooms/2595</td>\n",
       "      <td>05-12-2021</td>\n",
       "      <td>Water View King Bed Hotel Room</td>\n",
       "      <td>Welcome to UNTITLED (Adj.) at 3 Freeman Alley!...</td>\n",
       "      <td>Walk out of the Cassa  and you’ll immediately ...</td>\n",
       "      <td>https://a0.muscache.com/pictures/6998e77e-4564...</td>\n",
       "      <td>https://www.airbnb.com/users/show/305240193</td>\n",
       "      <td>June</td>\n",
       "      <td>29-10-2019</td>\n",
       "      <td>New York, New York, United States</td>\n",
       "      <td>If you're searching for a place of your own or...</td>\n",
       "      <td>within an hour</td>\n",
       "      <td>100%</td>\n",
       "      <td>100%</td>\n",
       "      <td>f</td>\n",
       "      <td>https://a0.muscache.com/im/pictures/user/4adc1...</td>\n",
       "      <td>https://a0.muscache.com/im/pictures/user/4adc1...</td>\n",
       "      <td>Bedford-Stuyvesant</td>\n",
       "      <td>['email', 'phone']</td>\n",
       "      <td>t</td>\n",
       "      <td>t</td>\n",
       "      <td>New York, United States</td>\n",
       "      <td>Bedford-Stuyvesant</td>\n",
       "      <td>Manhattan</td>\n",
       "      <td>Entire rental unit</td>\n",
       "      <td>Entire home/apt</td>\n",
       "      <td>1 bath</td>\n",
       "      <td>[\"Long term stays allowed\"]</td>\n",
       "      <td>$150.00</td>\n",
       "      <td>t</td>\n",
       "      <td>05-12-2021</td>\n",
       "      <td>01-01-2020</td>\n",
       "      <td>28-11-2021</td>\n",
       "      <td>41662/AL</td>\n",
       "      <td>f</td>\n",
       "    </tr>\n",
       "    <tr>\n",
       "      <th>freq</th>\n",
       "      <td>1</td>\n",
       "      <td>31879</td>\n",
       "      <td>30</td>\n",
       "      <td>61</td>\n",
       "      <td>84</td>\n",
       "      <td>36</td>\n",
       "      <td>421</td>\n",
       "      <td>431</td>\n",
       "      <td>433</td>\n",
       "      <td>21102</td>\n",
       "      <td>421</td>\n",
       "      <td>11151</td>\n",
       "      <td>13299</td>\n",
       "      <td>5342</td>\n",
       "      <td>30865</td>\n",
       "      <td>421</td>\n",
       "      <td>421</td>\n",
       "      <td>2138</td>\n",
       "      <td>4357</td>\n",
       "      <td>37994</td>\n",
       "      <td>31866</td>\n",
       "      <td>9301</td>\n",
       "      <td>2821</td>\n",
       "      <td>16781</td>\n",
       "      <td>16014</td>\n",
       "      <td>20397</td>\n",
       "      <td>19697</td>\n",
       "      <td>142</td>\n",
       "      <td>1307</td>\n",
       "      <td>36159</td>\n",
       "      <td>31879</td>\n",
       "      <td>119</td>\n",
       "      <td>789</td>\n",
       "      <td>1</td>\n",
       "      <td>27851</td>\n",
       "    </tr>\n",
       "  </tbody>\n",
       "</table>\n",
       "</div>"
      ],
      "text/plain": [
       "                              listing_url last_scraped  \\\n",
       "count                               38277        38277   \n",
       "unique                              38277            2   \n",
       "top     https://www.airbnb.com/rooms/2595   05-12-2021   \n",
       "freq                                    1        31879   \n",
       "\n",
       "                                  name  \\\n",
       "count                            38264   \n",
       "unique                           36869   \n",
       "top     Water View King Bed Hotel Room   \n",
       "freq                                30   \n",
       "\n",
       "                                              description  \\\n",
       "count                                               37085   \n",
       "unique                                              34133   \n",
       "top     Welcome to UNTITLED (Adj.) at 3 Freeman Alley!...   \n",
       "freq                                                   61   \n",
       "\n",
       "                                    neighborhood_overview  \\\n",
       "count                                               22650   \n",
       "unique                                              18614   \n",
       "top     Walk out of the Cassa  and you’ll immediately ...   \n",
       "freq                                                   84   \n",
       "\n",
       "                                              picture_url  \\\n",
       "count                                               38277   \n",
       "unique                                              37148   \n",
       "top     https://a0.muscache.com/pictures/6998e77e-4564...   \n",
       "freq                                                   36   \n",
       "\n",
       "                                           host_url host_name  host_since  \\\n",
       "count                                         38277     38243       38243   \n",
       "unique                                        25904      9123        4289   \n",
       "top     https://www.airbnb.com/users/show/305240193      June  29-10-2019   \n",
       "freq                                            421       431         433   \n",
       "\n",
       "                            host_location  \\\n",
       "count                               38140   \n",
       "unique                               1747   \n",
       "top     New York, New York, United States   \n",
       "freq                                21102   \n",
       "\n",
       "                                               host_about host_response_time  \\\n",
       "count                                               22128              21084   \n",
       "unique                                              14424                  4   \n",
       "top     If you're searching for a place of your own or...     within an hour   \n",
       "freq                                                  421              11151   \n",
       "\n",
       "       host_response_rate host_acceptance_rate host_is_superhost  \\\n",
       "count               21084                21791             38243   \n",
       "unique                 88                  101                 2   \n",
       "top                  100%                 100%                 f   \n",
       "freq                13299                 5342             30865   \n",
       "\n",
       "                                       host_thumbnail_url  \\\n",
       "count                                               38243   \n",
       "unique                                              25686   \n",
       "top     https://a0.muscache.com/im/pictures/user/4adc1...   \n",
       "freq                                                  421   \n",
       "\n",
       "                                         host_picture_url  host_neighbourhood  \\\n",
       "count                                               38243               30813   \n",
       "unique                                              25686                 484   \n",
       "top     https://a0.muscache.com/im/pictures/user/4adc1...  Bedford-Stuyvesant   \n",
       "freq                                                  421                2138   \n",
       "\n",
       "        host_verifications host_has_profile_pic host_identity_verified  \\\n",
       "count                38277                38243                  38243   \n",
       "unique                 526                    2                      2   \n",
       "top     ['email', 'phone']                    t                      t   \n",
       "freq                  4357                37994                  31866   \n",
       "\n",
       "                  neighbourhood neighbourhood_cleansed  \\\n",
       "count                     22651                  38277   \n",
       "unique                      207                    222   \n",
       "top     New York, United States     Bedford-Stuyvesant   \n",
       "freq                       9301                   2821   \n",
       "\n",
       "       neighbourhood_group_cleansed       property_type        room_type  \\\n",
       "count                         38277               38277            38277   \n",
       "unique                            5                  78                4   \n",
       "top                       Manhattan  Entire rental unit  Entire home/apt   \n",
       "freq                          16781               16014            20397   \n",
       "\n",
       "       bathrooms_text                    amenities    price has_availability  \\\n",
       "count           38170                        38277    38277            38277   \n",
       "unique             30                        31740      949                2   \n",
       "top            1 bath  [\"Long term stays allowed\"]  $150.00                t   \n",
       "freq            19697                          142     1307            36159   \n",
       "\n",
       "       calendar_last_scraped first_review last_review   license  \\\n",
       "count                  38277        28773       28773         1   \n",
       "unique                     2         3171        2560         1   \n",
       "top               05-12-2021   01-01-2020  28-11-2021  41662/AL   \n",
       "freq                   31879          119         789         1   \n",
       "\n",
       "       instant_bookable  \n",
       "count             38277  \n",
       "unique                2  \n",
       "top                   f  \n",
       "freq              27851  "
      ]
     },
     "execution_count": 10,
     "metadata": {},
     "output_type": "execute_result"
    }
   ],
   "source": [
    "df.describe(include = np.object)"
   ]
  },
  {
   "cell_type": "markdown",
   "id": "c634890e",
   "metadata": {
    "id": "c634890e"
   },
   "source": [
    "# Cleaning the anamolies "
   ]
  },
  {
   "cell_type": "code",
   "execution_count": 11,
   "id": "7b038934",
   "metadata": {
    "id": "7b038934"
   },
   "outputs": [],
   "source": [
    "df['price'] = df['price'].str.replace('$', '')"
   ]
  },
  {
   "cell_type": "code",
   "execution_count": 12,
   "id": "558f34cd",
   "metadata": {
    "id": "558f34cd"
   },
   "outputs": [],
   "source": [
    "df['price'] = df['price'].str.replace(',' , '')"
   ]
  },
  {
   "cell_type": "code",
   "execution_count": 13,
   "id": "f998f952",
   "metadata": {
    "id": "f998f952"
   },
   "outputs": [],
   "source": [
    "df['price'] =df['price'].astype(float)"
   ]
  },
  {
   "cell_type": "code",
   "execution_count": 14,
   "id": "01f99a0b",
   "metadata": {
    "id": "01f99a0b"
   },
   "outputs": [],
   "source": [
    "df['host_response_rate'] = df['host_response_rate'].str.replace('%' , '')\n",
    "df['host_acceptance_rate'] = df['host_acceptance_rate'].str.replace('%' , '')"
   ]
  },
  {
   "cell_type": "code",
   "execution_count": 15,
   "id": "b4b60f73",
   "metadata": {
    "id": "b4b60f73"
   },
   "outputs": [],
   "source": [
    "df['host_response_rate'] =df['host_response_rate'].astype(float)\n",
    "df['host_acceptance_rate'] = df['host_acceptance_rate'].astype(float)"
   ]
  },
  {
   "cell_type": "markdown",
   "id": "0cac896f",
   "metadata": {
    "id": "0cac896f"
   },
   "source": [
    "# Drop unnecessry columns "
   ]
  },
  {
   "cell_type": "code",
   "execution_count": 16,
   "id": "6724f9ea",
   "metadata": {
    "id": "6724f9ea"
   },
   "outputs": [],
   "source": [
    "df.drop(['id','listing_url','scrape_id' , 'last_scraped' , 'name','description','picture_url','host_id',\\\n",
    "         'host_url','host_name','host_location','host_about','host_response_time','host_thumbnail_url','host_picture_url',\\\n",
    "        'host_neighbourhood','host_listings_count','host_verifications','host_has_profile_pic'],axis=1,inplace=True)"
   ]
  },
  {
   "cell_type": "code",
   "execution_count": 17,
   "id": "ffc85d42",
   "metadata": {
    "id": "ffc85d42"
   },
   "outputs": [],
   "source": [
    "df.drop(['neighbourhood','neighbourhood_cleansed','latitude','longitude','property_type','amenities',\\\n",
    "         'has_availability','calendar_last_scraped' , 'number_of_reviews_l30d' , 'first_review' , 'last_review' ],axis =1 , inplace = True)"
   ]
  },
  {
   "cell_type": "code",
   "execution_count": 18,
   "id": "1d8dfad7",
   "metadata": {
    "id": "1d8dfad7"
   },
   "outputs": [],
   "source": [
    "df.drop(['neighborhood_overview' , 'host_since'] ,axis =1 , inplace = True)"
   ]
  },
  {
   "cell_type": "code",
   "execution_count": 19,
   "id": "bddca7fd",
   "metadata": {
    "id": "bddca7fd"
   },
   "outputs": [],
   "source": [
    "#df['host_listings_count'].sum() # drop since both the columns are same "
   ]
  },
  {
   "cell_type": "code",
   "execution_count": 20,
   "id": "2b7cab46",
   "metadata": {
    "id": "2b7cab46"
   },
   "outputs": [],
   "source": [
    "#df['host_total_listings_count'].sum()"
   ]
  },
  {
   "cell_type": "code",
   "execution_count": 21,
   "id": "eb70c583",
   "metadata": {
    "id": "eb70c583"
   },
   "outputs": [],
   "source": [
    "#df['longitude'].std() #instead of the latitude and longitude we going with neighbourhood group cleansed for the location"
   ]
  },
  {
   "cell_type": "code",
   "execution_count": 22,
   "id": "1489bd3a",
   "metadata": {
    "id": "1489bd3a"
   },
   "outputs": [],
   "source": [
    "# neighbourhood_overiview  , 'neighbourhood' , 'neighbourhood_cleansed' == 'neighbourhood_group_cleansed'"
   ]
  },
  {
   "cell_type": "code",
   "execution_count": 23,
   "id": "b9f1f49a",
   "metadata": {
    "id": "b9f1f49a"
   },
   "outputs": [],
   "source": [
    "# host_listings count and host_total_listings_count giving same information "
   ]
  },
  {
   "cell_type": "markdown",
   "id": "653055d0",
   "metadata": {
    "id": "653055d0"
   },
   "source": [
    "# Missing values"
   ]
  },
  {
   "cell_type": "code",
   "execution_count": 24,
   "id": "31d731f5",
   "metadata": {
    "id": "31d731f5"
   },
   "outputs": [],
   "source": [
    "def missing(data):\n",
    "    total = data.isnull().sum()\n",
    "    percentage = total /len(data) *100\n",
    "    missing_percentage = pd.concat([total  , percentage] , axis = 1 , keys = ['Total' , 'Percentage'])\n",
    "    return missing_percentage"
   ]
  },
  {
   "cell_type": "code",
   "execution_count": 25,
   "id": "5c9ae986",
   "metadata": {
    "id": "5c9ae986"
   },
   "outputs": [],
   "source": [
    "missing_data =missing(df).sort_values(by = 'Percentage' , ascending = False)"
   ]
  },
  {
   "cell_type": "code",
   "execution_count": 26,
   "id": "e836c6e6",
   "metadata": {
    "colab": {
     "base_uri": "https://localhost:8080/",
     "height": 143
    },
    "id": "e836c6e6",
    "outputId": "36a4f2ec-cfc1-427a-89fe-a513be8573e5"
   },
   "outputs": [
    {
     "data": {
      "text/html": [
       "<div>\n",
       "<style scoped>\n",
       "    .dataframe tbody tr th:only-of-type {\n",
       "        vertical-align: middle;\n",
       "    }\n",
       "\n",
       "    .dataframe tbody tr th {\n",
       "        vertical-align: top;\n",
       "    }\n",
       "\n",
       "    .dataframe thead th {\n",
       "        text-align: right;\n",
       "    }\n",
       "</style>\n",
       "<table border=\"1\" class=\"dataframe\">\n",
       "  <thead>\n",
       "    <tr style=\"text-align: right;\">\n",
       "      <th></th>\n",
       "      <th>Total</th>\n",
       "      <th>Percentage</th>\n",
       "    </tr>\n",
       "  </thead>\n",
       "  <tbody>\n",
       "    <tr>\n",
       "      <th>calendar_updated</th>\n",
       "      <td>38277</td>\n",
       "      <td>100.000000</td>\n",
       "    </tr>\n",
       "    <tr>\n",
       "      <th>bathrooms</th>\n",
       "      <td>38277</td>\n",
       "      <td>100.000000</td>\n",
       "    </tr>\n",
       "    <tr>\n",
       "      <th>license</th>\n",
       "      <td>38276</td>\n",
       "      <td>99.997387</td>\n",
       "    </tr>\n",
       "  </tbody>\n",
       "</table>\n",
       "</div>"
      ],
      "text/plain": [
       "                  Total  Percentage\n",
       "calendar_updated  38277  100.000000\n",
       "bathrooms         38277  100.000000\n",
       "license           38276   99.997387"
      ]
     },
     "execution_count": 26,
     "metadata": {},
     "output_type": "execute_result"
    }
   ],
   "source": [
    "missing_data[missing_data['Percentage'] > 70.00]"
   ]
  },
  {
   "cell_type": "code",
   "execution_count": 27,
   "id": "47e25444",
   "metadata": {
    "id": "47e25444"
   },
   "outputs": [],
   "source": [
    "df.drop(['bathrooms' , 'calendar_updated' , 'license'] , axis = 1, inplace = True)"
   ]
  },
  {
   "cell_type": "code",
   "execution_count": 28,
   "id": "4c71ebf5",
   "metadata": {
    "colab": {
     "base_uri": "https://localhost:8080/"
    },
    "id": "4c71ebf5",
    "outputId": "a5ca57d8-e365-476c-9673-177ba2b28f0d"
   },
   "outputs": [
    {
     "data": {
      "text/plain": [
       "(38277, 39)"
      ]
     },
     "execution_count": 28,
     "metadata": {},
     "output_type": "execute_result"
    }
   ],
   "source": [
    "df.shape"
   ]
  },
  {
   "cell_type": "code",
   "execution_count": 29,
   "id": "45f00a17",
   "metadata": {
    "colab": {
     "base_uri": "https://localhost:8080/",
     "height": 1000
    },
    "id": "45f00a17",
    "outputId": "c3b90dd9-da23-42f5-87f2-78254f651665"
   },
   "outputs": [
    {
     "data": {
      "text/html": [
       "<div>\n",
       "<style scoped>\n",
       "    .dataframe tbody tr th:only-of-type {\n",
       "        vertical-align: middle;\n",
       "    }\n",
       "\n",
       "    .dataframe tbody tr th {\n",
       "        vertical-align: top;\n",
       "    }\n",
       "\n",
       "    .dataframe thead th {\n",
       "        text-align: right;\n",
       "    }\n",
       "</style>\n",
       "<table border=\"1\" class=\"dataframe\">\n",
       "  <thead>\n",
       "    <tr style=\"text-align: right;\">\n",
       "      <th></th>\n",
       "      <th>Total</th>\n",
       "      <th>Percentage</th>\n",
       "    </tr>\n",
       "  </thead>\n",
       "  <tbody>\n",
       "    <tr>\n",
       "      <th>host_response_rate</th>\n",
       "      <td>17193</td>\n",
       "      <td>44.917313</td>\n",
       "    </tr>\n",
       "    <tr>\n",
       "      <th>host_acceptance_rate</th>\n",
       "      <td>16486</td>\n",
       "      <td>43.070251</td>\n",
       "    </tr>\n",
       "    <tr>\n",
       "      <th>host_is_superhost</th>\n",
       "      <td>34</td>\n",
       "      <td>0.088826</td>\n",
       "    </tr>\n",
       "    <tr>\n",
       "      <th>host_total_listings_count</th>\n",
       "      <td>34</td>\n",
       "      <td>0.088826</td>\n",
       "    </tr>\n",
       "    <tr>\n",
       "      <th>host_identity_verified</th>\n",
       "      <td>34</td>\n",
       "      <td>0.088826</td>\n",
       "    </tr>\n",
       "    <tr>\n",
       "      <th>neighbourhood_group_cleansed</th>\n",
       "      <td>0</td>\n",
       "      <td>0.000000</td>\n",
       "    </tr>\n",
       "    <tr>\n",
       "      <th>room_type</th>\n",
       "      <td>0</td>\n",
       "      <td>0.000000</td>\n",
       "    </tr>\n",
       "    <tr>\n",
       "      <th>accommodates</th>\n",
       "      <td>0</td>\n",
       "      <td>0.000000</td>\n",
       "    </tr>\n",
       "    <tr>\n",
       "      <th>bathrooms_text</th>\n",
       "      <td>107</td>\n",
       "      <td>0.279541</td>\n",
       "    </tr>\n",
       "    <tr>\n",
       "      <th>bedrooms</th>\n",
       "      <td>3975</td>\n",
       "      <td>10.384826</td>\n",
       "    </tr>\n",
       "    <tr>\n",
       "      <th>beds</th>\n",
       "      <td>2405</td>\n",
       "      <td>6.283147</td>\n",
       "    </tr>\n",
       "    <tr>\n",
       "      <th>price</th>\n",
       "      <td>0</td>\n",
       "      <td>0.000000</td>\n",
       "    </tr>\n",
       "    <tr>\n",
       "      <th>minimum_nights</th>\n",
       "      <td>0</td>\n",
       "      <td>0.000000</td>\n",
       "    </tr>\n",
       "    <tr>\n",
       "      <th>maximum_nights</th>\n",
       "      <td>0</td>\n",
       "      <td>0.000000</td>\n",
       "    </tr>\n",
       "    <tr>\n",
       "      <th>minimum_minimum_nights</th>\n",
       "      <td>18</td>\n",
       "      <td>0.047026</td>\n",
       "    </tr>\n",
       "    <tr>\n",
       "      <th>maximum_minimum_nights</th>\n",
       "      <td>18</td>\n",
       "      <td>0.047026</td>\n",
       "    </tr>\n",
       "    <tr>\n",
       "      <th>minimum_maximum_nights</th>\n",
       "      <td>18</td>\n",
       "      <td>0.047026</td>\n",
       "    </tr>\n",
       "    <tr>\n",
       "      <th>maximum_maximum_nights</th>\n",
       "      <td>18</td>\n",
       "      <td>0.047026</td>\n",
       "    </tr>\n",
       "    <tr>\n",
       "      <th>minimum_nights_avg_ntm</th>\n",
       "      <td>18</td>\n",
       "      <td>0.047026</td>\n",
       "    </tr>\n",
       "    <tr>\n",
       "      <th>maximum_nights_avg_ntm</th>\n",
       "      <td>18</td>\n",
       "      <td>0.047026</td>\n",
       "    </tr>\n",
       "    <tr>\n",
       "      <th>availability_30</th>\n",
       "      <td>0</td>\n",
       "      <td>0.000000</td>\n",
       "    </tr>\n",
       "    <tr>\n",
       "      <th>availability_60</th>\n",
       "      <td>0</td>\n",
       "      <td>0.000000</td>\n",
       "    </tr>\n",
       "    <tr>\n",
       "      <th>availability_90</th>\n",
       "      <td>0</td>\n",
       "      <td>0.000000</td>\n",
       "    </tr>\n",
       "    <tr>\n",
       "      <th>availability_365</th>\n",
       "      <td>0</td>\n",
       "      <td>0.000000</td>\n",
       "    </tr>\n",
       "    <tr>\n",
       "      <th>number_of_reviews</th>\n",
       "      <td>0</td>\n",
       "      <td>0.000000</td>\n",
       "    </tr>\n",
       "    <tr>\n",
       "      <th>number_of_reviews_ltm</th>\n",
       "      <td>0</td>\n",
       "      <td>0.000000</td>\n",
       "    </tr>\n",
       "    <tr>\n",
       "      <th>review_scores_rating</th>\n",
       "      <td>9504</td>\n",
       "      <td>24.829532</td>\n",
       "    </tr>\n",
       "    <tr>\n",
       "      <th>review_scores_accuracy</th>\n",
       "      <td>10116</td>\n",
       "      <td>26.428403</td>\n",
       "    </tr>\n",
       "    <tr>\n",
       "      <th>review_scores_cleanliness</th>\n",
       "      <td>10105</td>\n",
       "      <td>26.399666</td>\n",
       "    </tr>\n",
       "    <tr>\n",
       "      <th>review_scores_checkin</th>\n",
       "      <td>10123</td>\n",
       "      <td>26.446691</td>\n",
       "    </tr>\n",
       "    <tr>\n",
       "      <th>review_scores_communication</th>\n",
       "      <td>10112</td>\n",
       "      <td>26.417953</td>\n",
       "    </tr>\n",
       "    <tr>\n",
       "      <th>review_scores_location</th>\n",
       "      <td>10126</td>\n",
       "      <td>26.454529</td>\n",
       "    </tr>\n",
       "    <tr>\n",
       "      <th>review_scores_value</th>\n",
       "      <td>10127</td>\n",
       "      <td>26.457141</td>\n",
       "    </tr>\n",
       "    <tr>\n",
       "      <th>instant_bookable</th>\n",
       "      <td>0</td>\n",
       "      <td>0.000000</td>\n",
       "    </tr>\n",
       "    <tr>\n",
       "      <th>calculated_host_listings_count</th>\n",
       "      <td>0</td>\n",
       "      <td>0.000000</td>\n",
       "    </tr>\n",
       "    <tr>\n",
       "      <th>calculated_host_listings_count_entire_homes</th>\n",
       "      <td>0</td>\n",
       "      <td>0.000000</td>\n",
       "    </tr>\n",
       "    <tr>\n",
       "      <th>calculated_host_listings_count_private_rooms</th>\n",
       "      <td>0</td>\n",
       "      <td>0.000000</td>\n",
       "    </tr>\n",
       "    <tr>\n",
       "      <th>calculated_host_listings_count_shared_rooms</th>\n",
       "      <td>0</td>\n",
       "      <td>0.000000</td>\n",
       "    </tr>\n",
       "    <tr>\n",
       "      <th>reviews_per_month</th>\n",
       "      <td>9504</td>\n",
       "      <td>24.829532</td>\n",
       "    </tr>\n",
       "  </tbody>\n",
       "</table>\n",
       "</div>"
      ],
      "text/plain": [
       "                                              Total  Percentage\n",
       "host_response_rate                            17193   44.917313\n",
       "host_acceptance_rate                          16486   43.070251\n",
       "host_is_superhost                                34    0.088826\n",
       "host_total_listings_count                        34    0.088826\n",
       "host_identity_verified                           34    0.088826\n",
       "neighbourhood_group_cleansed                      0    0.000000\n",
       "room_type                                         0    0.000000\n",
       "accommodates                                      0    0.000000\n",
       "bathrooms_text                                  107    0.279541\n",
       "bedrooms                                       3975   10.384826\n",
       "beds                                           2405    6.283147\n",
       "price                                             0    0.000000\n",
       "minimum_nights                                    0    0.000000\n",
       "maximum_nights                                    0    0.000000\n",
       "minimum_minimum_nights                           18    0.047026\n",
       "maximum_minimum_nights                           18    0.047026\n",
       "minimum_maximum_nights                           18    0.047026\n",
       "maximum_maximum_nights                           18    0.047026\n",
       "minimum_nights_avg_ntm                           18    0.047026\n",
       "maximum_nights_avg_ntm                           18    0.047026\n",
       "availability_30                                   0    0.000000\n",
       "availability_60                                   0    0.000000\n",
       "availability_90                                   0    0.000000\n",
       "availability_365                                  0    0.000000\n",
       "number_of_reviews                                 0    0.000000\n",
       "number_of_reviews_ltm                             0    0.000000\n",
       "review_scores_rating                           9504   24.829532\n",
       "review_scores_accuracy                        10116   26.428403\n",
       "review_scores_cleanliness                     10105   26.399666\n",
       "review_scores_checkin                         10123   26.446691\n",
       "review_scores_communication                   10112   26.417953\n",
       "review_scores_location                        10126   26.454529\n",
       "review_scores_value                           10127   26.457141\n",
       "instant_bookable                                  0    0.000000\n",
       "calculated_host_listings_count                    0    0.000000\n",
       "calculated_host_listings_count_entire_homes       0    0.000000\n",
       "calculated_host_listings_count_private_rooms      0    0.000000\n",
       "calculated_host_listings_count_shared_rooms       0    0.000000\n",
       "reviews_per_month                              9504   24.829532"
      ]
     },
     "execution_count": 29,
     "metadata": {},
     "output_type": "execute_result"
    }
   ],
   "source": [
    "missing(df)"
   ]
  },
  {
   "cell_type": "markdown",
   "id": "0ae4407a",
   "metadata": {
    "id": "0ae4407a"
   },
   "source": [
    "# Missing value Treatment"
   ]
  },
  {
   "cell_type": "code",
   "execution_count": 30,
   "id": "1e92e4b1",
   "metadata": {
    "id": "1e92e4b1"
   },
   "outputs": [],
   "source": [
    "df_feature = df.drop('price' ,axis =1)"
   ]
  },
  {
   "cell_type": "code",
   "execution_count": 31,
   "id": "3b47bcfd",
   "metadata": {
    "colab": {
     "base_uri": "https://localhost:8080/"
    },
    "id": "3b47bcfd",
    "outputId": "e0f03e89-5988-4399-c632-c027e82c6e02"
   },
   "outputs": [
    {
     "data": {
      "text/plain": [
       "(38277, 38)"
      ]
     },
     "execution_count": 31,
     "metadata": {},
     "output_type": "execute_result"
    }
   ],
   "source": [
    "df_feature.shape"
   ]
  },
  {
   "cell_type": "code",
   "execution_count": 32,
   "id": "56b8f4ea",
   "metadata": {
    "id": "56b8f4ea"
   },
   "outputs": [],
   "source": [
    "df_target = df[['price']]"
   ]
  },
  {
   "cell_type": "code",
   "execution_count": 33,
   "id": "ae15ef50",
   "metadata": {
    "colab": {
     "base_uri": "https://localhost:8080/"
    },
    "id": "ae15ef50",
    "outputId": "99a0d658-a586-45d0-bd1d-c371158b34c3"
   },
   "outputs": [
    {
     "data": {
      "text/plain": [
       "(38277, 32)"
      ]
     },
     "execution_count": 33,
     "metadata": {},
     "output_type": "execute_result"
    }
   ],
   "source": [
    "df_num = df_feature.select_dtypes(include = np.number)\n",
    "df_num.shape"
   ]
  },
  {
   "cell_type": "code",
   "execution_count": 34,
   "id": "84cd123b",
   "metadata": {
    "colab": {
     "base_uri": "https://localhost:8080/"
    },
    "id": "84cd123b",
    "outputId": "162a4989-a02f-45b0-a3b6-bee3250a4953"
   },
   "outputs": [
    {
     "data": {
      "text/plain": [
       "(38277, 6)"
      ]
     },
     "execution_count": 34,
     "metadata": {},
     "output_type": "execute_result"
    }
   ],
   "source": [
    "df_cat = df_feature.select_dtypes(include = np.object)\n",
    "df_cat.shape"
   ]
  },
  {
   "cell_type": "markdown",
   "id": "ff865b7a",
   "metadata": {
    "id": "ff865b7a"
   },
   "source": [
    "# Treatment for categorical variables"
   ]
  },
  {
   "cell_type": "code",
   "execution_count": 35,
   "id": "936960c4",
   "metadata": {
    "colab": {
     "base_uri": "https://localhost:8080/"
    },
    "id": "936960c4",
    "outputId": "8317cbb4-2122-415b-c5b4-e30d48c376a2"
   },
   "outputs": [
    {
     "data": {
      "text/plain": [
       "f    30865\n",
       "t     7378\n",
       "Name: host_is_superhost, dtype: int64"
      ]
     },
     "execution_count": 35,
     "metadata": {},
     "output_type": "execute_result"
    }
   ],
   "source": [
    "df_cat['host_is_superhost'].value_counts()"
   ]
  },
  {
   "cell_type": "code",
   "execution_count": 36,
   "id": "acf6adb4",
   "metadata": {},
   "outputs": [
    {
     "data": {
      "text/plain": [
       "0    f\n",
       "dtype: object"
      ]
     },
     "execution_count": 36,
     "metadata": {},
     "output_type": "execute_result"
    }
   ],
   "source": [
    "df_cat['host_is_superhost'].mode()"
   ]
  },
  {
   "cell_type": "code",
   "execution_count": 37,
   "id": "23289434",
   "metadata": {
    "id": "23289434"
   },
   "outputs": [],
   "source": [
    "for i in df_cat.columns :\n",
    "    df_cat[i] = df_cat[i].fillna(df_cat[i].mode()[0])"
   ]
  },
  {
   "cell_type": "code",
   "execution_count": 38,
   "id": "0451e153",
   "metadata": {
    "colab": {
     "base_uri": "https://localhost:8080/",
     "height": 237
    },
    "id": "0451e153",
    "outputId": "27d00a03-bde5-40ef-a074-cd6bb224357d"
   },
   "outputs": [
    {
     "data": {
      "text/html": [
       "<div>\n",
       "<style scoped>\n",
       "    .dataframe tbody tr th:only-of-type {\n",
       "        vertical-align: middle;\n",
       "    }\n",
       "\n",
       "    .dataframe tbody tr th {\n",
       "        vertical-align: top;\n",
       "    }\n",
       "\n",
       "    .dataframe thead th {\n",
       "        text-align: right;\n",
       "    }\n",
       "</style>\n",
       "<table border=\"1\" class=\"dataframe\">\n",
       "  <thead>\n",
       "    <tr style=\"text-align: right;\">\n",
       "      <th></th>\n",
       "      <th>Total</th>\n",
       "      <th>Percentage</th>\n",
       "    </tr>\n",
       "  </thead>\n",
       "  <tbody>\n",
       "    <tr>\n",
       "      <th>host_is_superhost</th>\n",
       "      <td>0</td>\n",
       "      <td>0.000000</td>\n",
       "    </tr>\n",
       "    <tr>\n",
       "      <th>host_identity_verified</th>\n",
       "      <td>0</td>\n",
       "      <td>0.000000</td>\n",
       "    </tr>\n",
       "    <tr>\n",
       "      <th>neighbourhood_group_cleansed</th>\n",
       "      <td>0</td>\n",
       "      <td>0.000000</td>\n",
       "    </tr>\n",
       "    <tr>\n",
       "      <th>room_type</th>\n",
       "      <td>0</td>\n",
       "      <td>0.000000</td>\n",
       "    </tr>\n",
       "    <tr>\n",
       "      <th>bathrooms_text</th>\n",
       "      <td>0</td>\n",
       "      <td>0.000000</td>\n",
       "    </tr>\n",
       "    <tr>\n",
       "      <th>instant_bookable</th>\n",
       "      <td>0</td>\n",
       "      <td>0.000000</td>\n",
       "    </tr>\n",
       "  </tbody>\n",
       "</table>\n",
       "</div>"
      ],
      "text/plain": [
       "                              Total  Percentage\n",
       "host_is_superhost                 0    0.000000\n",
       "host_identity_verified            0    0.000000\n",
       "neighbourhood_group_cleansed      0    0.000000\n",
       "room_type                         0    0.000000\n",
       "bathrooms_text                    0    0.000000\n",
       "instant_bookable                  0    0.000000"
      ]
     },
     "execution_count": 38,
     "metadata": {},
     "output_type": "execute_result"
    }
   ],
   "source": [
    "missing(df_cat)"
   ]
  },
  {
   "cell_type": "markdown",
   "id": "8ac92dec",
   "metadata": {
    "id": "8ac92dec"
   },
   "source": [
    "# Treatment for numerical variables "
   ]
  },
  {
   "cell_type": "code",
   "execution_count": 39,
   "id": "f205d960",
   "metadata": {
    "colab": {
     "base_uri": "https://localhost:8080/",
     "height": 1000
    },
    "id": "f205d960",
    "outputId": "8ea7037b-bdd0-428b-d9cb-b1f098ef7658"
   },
   "outputs": [
    {
     "data": {
      "image/png": "[encoded data removed]",
      "text/plain": [
       "<Figure size 576x3600 with 33 Axes>"
      ]
     },
     "metadata": {
      "needs_background": "light"
     },
     "output_type": "display_data"
    },
    {
     "data": {
      "text/plain": [
       "<Figure size 432x288 with 0 Axes>"
      ]
     },
     "metadata": {},
     "output_type": "display_data"
    }
   ],
   "source": [
    "fig , ax = plt.subplots(11,3,figsize = (8 , 50))\n",
    "for i , subplot in zip(df_num.columns, ax.flatten()):\n",
    "    sns.boxplot( df_num[i], ax = subplot)\n",
    "plt.xlabel(i)\n",
    "\n",
    "plt.show()\n",
    "plt.tight_layout()"
   ]
  },
  {
   "cell_type": "code",
   "execution_count": 40,
   "id": "97cc5206",
   "metadata": {
    "id": "97cc5206"
   },
   "outputs": [],
   "source": [
    "# Treatment based upon the outliers ,since ouliers presence causes huge impact here we are treating them with median \n",
    "# and the rest of variabels with  mean ()"
   ]
  },
  {
   "cell_type": "code",
   "execution_count": 41,
   "id": "cec24f9c",
   "metadata": {
    "id": "cec24f9c"
   },
   "outputs": [],
   "source": [
    "for i in df_num.drop('host_response_rate' , axis = 1).columns:\n",
    "    df_num[i] = df_num[i].fillna(df_num[i].median())  "
   ]
  },
  {
   "cell_type": "code",
   "execution_count": 42,
   "id": "a87f3676",
   "metadata": {
    "id": "a87f3676"
   },
   "outputs": [],
   "source": [
    "df_num['host_response_rate'].fillna(df_num['host_response_rate'].mean() , inplace =  True)"
   ]
  },
  {
   "cell_type": "code",
   "execution_count": 43,
   "id": "b3a995cd",
   "metadata": {
    "colab": {
     "base_uri": "https://localhost:8080/",
     "height": 1000
    },
    "id": "b3a995cd",
    "outputId": "71e87f00-4b12-41ea-b51e-ed80de0fc4e6"
   },
   "outputs": [
    {
     "data": {
      "text/html": [
       "<div>\n",
       "<style scoped>\n",
       "    .dataframe tbody tr th:only-of-type {\n",
       "        vertical-align: middle;\n",
       "    }\n",
       "\n",
       "    .dataframe tbody tr th {\n",
       "        vertical-align: top;\n",
       "    }\n",
       "\n",
       "    .dataframe thead th {\n",
       "        text-align: right;\n",
       "    }\n",
       "</style>\n",
       "<table border=\"1\" class=\"dataframe\">\n",
       "  <thead>\n",
       "    <tr style=\"text-align: right;\">\n",
       "      <th></th>\n",
       "      <th>Total</th>\n",
       "      <th>Percentage</th>\n",
       "    </tr>\n",
       "  </thead>\n",
       "  <tbody>\n",
       "    <tr>\n",
       "      <th>host_response_rate</th>\n",
       "      <td>0</td>\n",
       "      <td>0.000000</td>\n",
       "    </tr>\n",
       "    <tr>\n",
       "      <th>host_acceptance_rate</th>\n",
       "      <td>0</td>\n",
       "      <td>0.000000</td>\n",
       "    </tr>\n",
       "    <tr>\n",
       "      <th>host_total_listings_count</th>\n",
       "      <td>0</td>\n",
       "      <td>0.000000</td>\n",
       "    </tr>\n",
       "    <tr>\n",
       "      <th>accommodates</th>\n",
       "      <td>0</td>\n",
       "      <td>0.000000</td>\n",
       "    </tr>\n",
       "    <tr>\n",
       "      <th>bedrooms</th>\n",
       "      <td>0</td>\n",
       "      <td>0.000000</td>\n",
       "    </tr>\n",
       "    <tr>\n",
       "      <th>beds</th>\n",
       "      <td>0</td>\n",
       "      <td>0.000000</td>\n",
       "    </tr>\n",
       "    <tr>\n",
       "      <th>minimum_nights</th>\n",
       "      <td>0</td>\n",
       "      <td>0.000000</td>\n",
       "    </tr>\n",
       "    <tr>\n",
       "      <th>maximum_nights</th>\n",
       "      <td>0</td>\n",
       "      <td>0.000000</td>\n",
       "    </tr>\n",
       "    <tr>\n",
       "      <th>minimum_minimum_nights</th>\n",
       "      <td>0</td>\n",
       "      <td>0.000000</td>\n",
       "    </tr>\n",
       "    <tr>\n",
       "      <th>maximum_minimum_nights</th>\n",
       "      <td>0</td>\n",
       "      <td>0.000000</td>\n",
       "    </tr>\n",
       "    <tr>\n",
       "      <th>minimum_maximum_nights</th>\n",
       "      <td>0</td>\n",
       "      <td>0.000000</td>\n",
       "    </tr>\n",
       "    <tr>\n",
       "      <th>maximum_maximum_nights</th>\n",
       "      <td>0</td>\n",
       "      <td>0.000000</td>\n",
       "    </tr>\n",
       "    <tr>\n",
       "      <th>minimum_nights_avg_ntm</th>\n",
       "      <td>0</td>\n",
       "      <td>0.000000</td>\n",
       "    </tr>\n",
       "    <tr>\n",
       "      <th>maximum_nights_avg_ntm</th>\n",
       "      <td>0</td>\n",
       "      <td>0.000000</td>\n",
       "    </tr>\n",
       "    <tr>\n",
       "      <th>availability_30</th>\n",
       "      <td>0</td>\n",
       "      <td>0.000000</td>\n",
       "    </tr>\n",
       "    <tr>\n",
       "      <th>availability_60</th>\n",
       "      <td>0</td>\n",
       "      <td>0.000000</td>\n",
       "    </tr>\n",
       "    <tr>\n",
       "      <th>availability_90</th>\n",
       "      <td>0</td>\n",
       "      <td>0.000000</td>\n",
       "    </tr>\n",
       "    <tr>\n",
       "      <th>availability_365</th>\n",
       "      <td>0</td>\n",
       "      <td>0.000000</td>\n",
       "    </tr>\n",
       "    <tr>\n",
       "      <th>number_of_reviews</th>\n",
       "      <td>0</td>\n",
       "      <td>0.000000</td>\n",
       "    </tr>\n",
       "    <tr>\n",
       "      <th>number_of_reviews_ltm</th>\n",
       "      <td>0</td>\n",
       "      <td>0.000000</td>\n",
       "    </tr>\n",
       "    <tr>\n",
       "      <th>review_scores_rating</th>\n",
       "      <td>0</td>\n",
       "      <td>0.000000</td>\n",
       "    </tr>\n",
       "    <tr>\n",
       "      <th>review_scores_accuracy</th>\n",
       "      <td>0</td>\n",
       "      <td>0.000000</td>\n",
       "    </tr>\n",
       "    <tr>\n",
       "      <th>review_scores_cleanliness</th>\n",
       "      <td>0</td>\n",
       "      <td>0.000000</td>\n",
       "    </tr>\n",
       "    <tr>\n",
       "      <th>review_scores_checkin</th>\n",
       "      <td>0</td>\n",
       "      <td>0.000000</td>\n",
       "    </tr>\n",
       "    <tr>\n",
       "      <th>review_scores_communication</th>\n",
       "      <td>0</td>\n",
       "      <td>0.000000</td>\n",
       "    </tr>\n",
       "    <tr>\n",
       "      <th>review_scores_location</th>\n",
       "      <td>0</td>\n",
       "      <td>0.000000</td>\n",
       "    </tr>\n",
       "    <tr>\n",
       "      <th>review_scores_value</th>\n",
       "      <td>0</td>\n",
       "      <td>0.000000</td>\n",
       "    </tr>\n",
       "    <tr>\n",
       "      <th>calculated_host_listings_count</th>\n",
       "      <td>0</td>\n",
       "      <td>0.000000</td>\n",
       "    </tr>\n",
       "    <tr>\n",
       "      <th>calculated_host_listings_count_entire_homes</th>\n",
       "      <td>0</td>\n",
       "      <td>0.000000</td>\n",
       "    </tr>\n",
       "    <tr>\n",
       "      <th>calculated_host_listings_count_private_rooms</th>\n",
       "      <td>0</td>\n",
       "      <td>0.000000</td>\n",
       "    </tr>\n",
       "    <tr>\n",
       "      <th>calculated_host_listings_count_shared_rooms</th>\n",
       "      <td>0</td>\n",
       "      <td>0.000000</td>\n",
       "    </tr>\n",
       "    <tr>\n",
       "      <th>reviews_per_month</th>\n",
       "      <td>0</td>\n",
       "      <td>0.000000</td>\n",
       "    </tr>\n",
       "  </tbody>\n",
       "</table>\n",
       "</div>"
      ],
      "text/plain": [
       "                                              Total  Percentage\n",
       "host_response_rate                                0    0.000000\n",
       "host_acceptance_rate                              0    0.000000\n",
       "host_total_listings_count                         0    0.000000\n",
       "accommodates                                      0    0.000000\n",
       "bedrooms                                          0    0.000000\n",
       "beds                                              0    0.000000\n",
       "minimum_nights                                    0    0.000000\n",
       "maximum_nights                                    0    0.000000\n",
       "minimum_minimum_nights                            0    0.000000\n",
       "maximum_minimum_nights                            0    0.000000\n",
       "minimum_maximum_nights                            0    0.000000\n",
       "maximum_maximum_nights                            0    0.000000\n",
       "minimum_nights_avg_ntm                            0    0.000000\n",
       "maximum_nights_avg_ntm                            0    0.000000\n",
       "availability_30                                   0    0.000000\n",
       "availability_60                                   0    0.000000\n",
       "availability_90                                   0    0.000000\n",
       "availability_365                                  0    0.000000\n",
       "number_of_reviews                                 0    0.000000\n",
       "number_of_reviews_ltm                             0    0.000000\n",
       "review_scores_rating                              0    0.000000\n",
       "review_scores_accuracy                            0    0.000000\n",
       "review_scores_cleanliness                         0    0.000000\n",
       "review_scores_checkin                             0    0.000000\n",
       "review_scores_communication                       0    0.000000\n",
       "review_scores_location                            0    0.000000\n",
       "review_scores_value                               0    0.000000\n",
       "calculated_host_listings_count                    0    0.000000\n",
       "calculated_host_listings_count_entire_homes       0    0.000000\n",
       "calculated_host_listings_count_private_rooms      0    0.000000\n",
       "calculated_host_listings_count_shared_rooms       0    0.000000\n",
       "reviews_per_month                                 0    0.000000"
      ]
     },
     "execution_count": 43,
     "metadata": {},
     "output_type": "execute_result"
    }
   ],
   "source": [
    "missing(df_num)"
   ]
  },
  {
   "cell_type": "markdown",
   "id": "487c47c3",
   "metadata": {
    "id": "487c47c3"
   },
   "source": [
    "# Outlier detection"
   ]
  },
  {
   "cell_type": "code",
   "execution_count": 44,
   "id": "eab9135f",
   "metadata": {
    "colab": {
     "base_uri": "https://localhost:8080/",
     "height": 1000
    },
    "id": "eab9135f",
    "outputId": "cfbe8a38-2320-4856-c58d-a5fc06568183"
   },
   "outputs": [
    {
     "data": {
      "image/png": "[encoded data removed]",
      "text/plain": [
       "<Figure size 576x3600 with 33 Axes>"
      ]
     },
     "metadata": {
      "needs_background": "light"
     },
     "output_type": "display_data"
    },
    {
     "data": {
      "text/plain": [
       "<Figure size 432x288 with 0 Axes>"
      ]
     },
     "metadata": {},
     "output_type": "display_data"
    }
   ],
   "source": [
    "\n",
    "fig , ax = plt.subplots(11 , 3,figsize = (8 , 50))\n",
    "for i , subplot in zip(df_num.columns , ax.flatten()):\n",
    "    sns.boxplot(df_num[i] , ax = subplot)\n",
    "    plt.xlabel(i)\n",
    "    plt.tight_layout()\n",
    "\n",
    "plt.show()\n",
    "plt.tight_layout()\n"
   ]
  },
  {
   "cell_type": "code",
   "execution_count": 45,
   "id": "169af48b",
   "metadata": {
    "colab": {
     "base_uri": "https://localhost:8080/",
     "height": 298
    },
    "id": "169af48b",
    "outputId": "1f1ac9cc-ab0d-4d94-eeef-14131c45b5d9"
   },
   "outputs": [
    {
     "data": {
      "text/plain": [
       "<AxesSubplot:xlabel='host_response_rate'>"
      ]
     },
     "execution_count": 45,
     "metadata": {},
     "output_type": "execute_result"
    },
    {
     "data": {
      "image/png": "[encoded data removed]",
      "text/plain": [
       "<Figure size 432x288 with 1 Axes>"
      ]
     },
     "metadata": {
      "needs_background": "light"
     },
     "output_type": "display_data"
    }
   ],
   "source": [
    "sns.boxplot(df['host_response_rate'])"
   ]
  },
  {
   "cell_type": "code",
   "execution_count": 46,
   "id": "9752292d",
   "metadata": {
    "colab": {
     "base_uri": "https://localhost:8080/"
    },
    "id": "9752292d",
    "outputId": "528f947c-eef2-4d80-e31b-f68d62a113ee"
   },
   "outputs": [
    {
     "data": {
      "text/plain": [
       "count   21084.000000\n",
       "mean       89.073136\n",
       "std        25.110837\n",
       "min         0.000000\n",
       "25%        93.000000\n",
       "50%       100.000000\n",
       "75%       100.000000\n",
       "max       100.000000\n",
       "Name: host_response_rate, dtype: float64"
      ]
     },
     "execution_count": 46,
     "metadata": {},
     "output_type": "execute_result"
    }
   ],
   "source": [
    "df['host_response_rate'].describe()"
   ]
  },
  {
   "cell_type": "markdown",
   "id": "666bc431",
   "metadata": {
    "id": "666bc431"
   },
   "source": [
    "# Outlier Treatment"
   ]
  },
  {
   "cell_type": "code",
   "execution_count": 47,
   "id": "527d580a",
   "metadata": {
    "id": "527d580a"
   },
   "outputs": [],
   "source": [
    "for i in df_num.columns:\n",
    "    Q1 = df_num[i].quantile(0.25)\n",
    "    Q3 = df_num[i].quantile(0.75)\n",
    "    IQR = Q3 -Q1\n",
    "    UL = Q3 +(1.5 * IQR)\n",
    "    LL = Q1 - (1.5* IQR)\n",
    "    for e,j in enumerate(df_num[i]):\n",
    "        if j>UL:\n",
    "            df_num[i][e]=UL\n",
    "        elif j<LL:\n",
    "            df_num[i][e]=LL"
   ]
  },
  {
   "cell_type": "code",
   "execution_count": 48,
   "id": "5b3dd296",
   "metadata": {
    "colab": {
     "base_uri": "https://localhost:8080/",
     "height": 1000
    },
    "id": "5b3dd296",
    "outputId": "f9c7ddfe-2bcb-40d7-97e8-dd73dcecf2a9"
   },
   "outputs": [
    {
     "data": {
      "image/png": "[encoded data removed]",
      "text/plain": [
       "<Figure size 576x3600 with 33 Axes>"
      ]
     },
     "metadata": {
      "needs_background": "light"
     },
     "output_type": "display_data"
    },
    {
     "data": {
      "text/plain": [
       "<Figure size 432x288 with 0 Axes>"
      ]
     },
     "metadata": {},
     "output_type": "display_data"
    }
   ],
   "source": [
    "fig , ax = plt.subplots(11,3,figsize = (8 , 50))\n",
    "for i , subplot in zip(df_num.columns , ax.flatten()):\n",
    "    sns.boxplot(df_num[i] , ax = subplot)\n",
    "    plt.xlabel(i)\n",
    "    plt.tight_layout()\n",
    "\n",
    "plt.show()\n",
    "plt.tight_layout()\n"
   ]
  },
  {
   "cell_type": "code",
   "execution_count": 49,
   "id": "6aa2abea",
   "metadata": {
    "colab": {
     "base_uri": "https://localhost:8080/",
     "height": 297
    },
    "id": "6aa2abea",
    "outputId": "64a39263-f55a-47fb-f06f-d9d474ffaf03"
   },
   "outputs": [
    {
     "data": {
      "text/plain": [
       "<AxesSubplot:xlabel='price'>"
      ]
     },
     "execution_count": 49,
     "metadata": {},
     "output_type": "execute_result"
    },
    {
     "data": {
      "image/png": "[encoded data removed]",
      "text/plain": [
       "<Figure size 432x288 with 1 Axes>"
      ]
     },
     "metadata": {
      "needs_background": "light"
     },
     "output_type": "display_data"
    }
   ],
   "source": [
    "sns.boxplot(df_target['price'])"
   ]
  },
  {
   "cell_type": "code",
   "execution_count": 50,
   "id": "b7b0dabe",
   "metadata": {
    "id": "b7b0dabe"
   },
   "outputs": [],
   "source": [
    "# We are leaving price(target variable and treating rest of them)"
   ]
  },
  {
   "cell_type": "markdown",
   "id": "aa1c766c",
   "metadata": {
    "id": "aa1c766c"
   },
   "source": [
    "# Encoding"
   ]
  },
  {
   "cell_type": "code",
   "execution_count": 51,
   "id": "ae8abd1e",
   "metadata": {
    "colab": {
     "base_uri": "https://localhost:8080/"
    },
    "id": "ae8abd1e",
    "outputId": "5b50ff41-6f0c-480e-e781-b8d64f82bfc1"
   },
   "outputs": [
    {
     "data": {
      "text/plain": [
       "Entire home/apt    20397\n",
       "Private room       17098\n",
       "Shared room          572\n",
       "Hotel room           210\n",
       "Name: room_type, dtype: int64"
      ]
     },
     "execution_count": 51,
     "metadata": {},
     "output_type": "execute_result"
    }
   ],
   "source": [
    "df_cat['room_type'].value_counts()"
   ]
  },
  {
   "cell_type": "code",
   "execution_count": 52,
   "id": "644e29f2",
   "metadata": {
    "id": "644e29f2"
   },
   "outputs": [],
   "source": [
    "df_cat['room_type']= df_cat['room_type'].replace('Entire home/apt' , 'Entire home')"
   ]
  },
  {
   "cell_type": "code",
   "execution_count": 53,
   "id": "47a4be90",
   "metadata": {
    "colab": {
     "base_uri": "https://localhost:8080/"
    },
    "id": "47a4be90",
    "outputId": "1635485e-435b-4930-ded2-3480a27cbc19"
   },
   "outputs": [
    {
     "data": {
      "text/plain": [
       "bathrooms_text\n",
       "4.5 shared baths    1950.000000\n",
       "7 baths             1950.000000\n",
       "8 baths             1461.333333\n",
       "5 baths             1406.909091\n",
       "6 baths             1359.200000\n",
       "5.5 baths           1347.000000\n",
       "4.5 baths           1216.761905\n",
       "6.5 baths            900.000000\n",
       "3.5 baths            882.721519\n",
       "4 baths              810.034483\n",
       "3 baths              689.378378\n",
       "7.5 baths            579.500000\n",
       "2.5 baths            488.221498\n",
       "2 baths              351.451159\n",
       "4 shared baths       290.090909\n",
       "Half-bath            243.875000\n",
       "1.5 baths            226.389798\n",
       "0 baths              220.418605\n",
       "1 private bath       203.358593\n",
       "1 bath               176.384982\n",
       "6 shared baths       139.500000\n",
       "0 shared baths        98.169014\n",
       "Shared half-bath      90.266667\n",
       "1 shared bath         86.633884\n",
       "2 shared baths        83.164894\n",
       "1.5 shared baths      79.248247\n",
       "Private half-bath     78.818182\n",
       "3 shared baths        62.095745\n",
       "2.5 shared baths      58.346939\n",
       "3.5 shared baths      40.500000\n",
       "Name: price, dtype: float64"
      ]
     },
     "execution_count": 53,
     "metadata": {},
     "output_type": "execute_result"
    }
   ],
   "source": [
    "df.groupby('bathrooms_text').mean()['price'].sort_values(ascending = False)"
   ]
  },
  {
   "cell_type": "code",
   "execution_count": 54,
   "id": "aaeb763d",
   "metadata": {
    "id": "aaeb763d"
   },
   "outputs": [],
   "source": [
    "# Here we are replacing based upon the mean price values : bathrooms categorized into three categories "
   ]
  },
  {
   "cell_type": "code",
   "execution_count": 55,
   "id": "c7f4e38c",
   "metadata": {
    "id": "c7f4e38c"
   },
   "outputs": [],
   "source": [
    "df_cat['bathrooms_text'] = df_cat['bathrooms_text'].replace({'0 shared baths' , 'Shared half-bath','1 shared bath' ,'1.5 shared baths',\\\n",
    "                                                             '2 shared baths' , '2.5 shared baths' , '3 shared baths' ,'3.5 shared baths'\\\n",
    "                                                             , '4 shared baths' , '4.5 shared baths' , '6 shared baths'} \\\n",
    "                                                            , 'shared_bathroom')\n",
    "                                                             \n",
    "                                                             "
   ]
  },
  {
   "cell_type": "code",
   "execution_count": 56,
   "id": "43329d5c",
   "metadata": {
    "id": "43329d5c"
   },
   "outputs": [],
   "source": [
    "df_cat['bathrooms_text'] = df_cat['bathrooms_text'].replace({'0 baths' , 'Half-bath' , '1 bath','1.5 baths' , '2 baths','2.5 baths',\\\n",
    "                                                                   '3 baths' ,'3.5 baths','4 baths','4.5 baths',\\\n",
    "                                                                   '5 baths','5.5 baths','6 baths','6.5 baths','7 baths','7.5 baths',\\\n",
    "                                                                   '8 baths'} , 'baths')"
   ]
  },
  {
   "cell_type": "code",
   "execution_count": 57,
   "id": "25211383",
   "metadata": {
    "id": "25211383"
   },
   "outputs": [],
   "source": [
    "df_cat['bathrooms_text'] = df_cat['bathrooms_text'].replace({'Private half-bath' , '1 private bath'} , 'private_bath')"
   ]
  },
  {
   "cell_type": "code",
   "execution_count": 58,
   "id": "90ebc48b",
   "metadata": {
    "colab": {
     "base_uri": "https://localhost:8080/"
    },
    "id": "90ebc48b",
    "outputId": "9a0eea9f-8068-4bcc-f76f-5c1b4fe127d8"
   },
   "outputs": [
    {
     "data": {
      "text/plain": [
       "baths              23805\n",
       "shared_bathroom    11703\n",
       "private_bath        2769\n",
       "Name: bathrooms_text, dtype: int64"
      ]
     },
     "execution_count": 58,
     "metadata": {},
     "output_type": "execute_result"
    }
   ],
   "source": [
    "df_cat['bathrooms_text'].value_counts()"
   ]
  },
  {
   "cell_type": "code",
   "execution_count": 59,
   "id": "5f16311b",
   "metadata": {
    "colab": {
     "base_uri": "https://localhost:8080/",
     "height": 206
    },
    "id": "5f16311b",
    "outputId": "6f19013f-b862-459e-bd96-2a44b08b37e3"
   },
   "outputs": [
    {
     "data": {
      "text/html": [
       "<div>\n",
       "<style scoped>\n",
       "    .dataframe tbody tr th:only-of-type {\n",
       "        vertical-align: middle;\n",
       "    }\n",
       "\n",
       "    .dataframe tbody tr th {\n",
       "        vertical-align: top;\n",
       "    }\n",
       "\n",
       "    .dataframe thead th {\n",
       "        text-align: right;\n",
       "    }\n",
       "</style>\n",
       "<table border=\"1\" class=\"dataframe\">\n",
       "  <thead>\n",
       "    <tr style=\"text-align: right;\">\n",
       "      <th></th>\n",
       "      <th>host_is_superhost</th>\n",
       "      <th>host_identity_verified</th>\n",
       "      <th>neighbourhood_group_cleansed</th>\n",
       "      <th>room_type</th>\n",
       "      <th>bathrooms_text</th>\n",
       "      <th>instant_bookable</th>\n",
       "    </tr>\n",
       "  </thead>\n",
       "  <tbody>\n",
       "    <tr>\n",
       "      <th>0</th>\n",
       "      <td>f</td>\n",
       "      <td>t</td>\n",
       "      <td>Manhattan</td>\n",
       "      <td>Entire home</td>\n",
       "      <td>baths</td>\n",
       "      <td>f</td>\n",
       "    </tr>\n",
       "    <tr>\n",
       "      <th>1</th>\n",
       "      <td>f</td>\n",
       "      <td>t</td>\n",
       "      <td>Brooklyn</td>\n",
       "      <td>Entire home</td>\n",
       "      <td>baths</td>\n",
       "      <td>f</td>\n",
       "    </tr>\n",
       "    <tr>\n",
       "      <th>2</th>\n",
       "      <td>f</td>\n",
       "      <td>t</td>\n",
       "      <td>Brooklyn</td>\n",
       "      <td>Private room</td>\n",
       "      <td>baths</td>\n",
       "      <td>f</td>\n",
       "    </tr>\n",
       "    <tr>\n",
       "      <th>3</th>\n",
       "      <td>f</td>\n",
       "      <td>t</td>\n",
       "      <td>Brooklyn</td>\n",
       "      <td>Entire home</td>\n",
       "      <td>baths</td>\n",
       "      <td>f</td>\n",
       "    </tr>\n",
       "    <tr>\n",
       "      <th>4</th>\n",
       "      <td>f</td>\n",
       "      <td>f</td>\n",
       "      <td>Manhattan</td>\n",
       "      <td>Private room</td>\n",
       "      <td>baths</td>\n",
       "      <td>f</td>\n",
       "    </tr>\n",
       "  </tbody>\n",
       "</table>\n",
       "</div>"
      ],
      "text/plain": [
       "  host_is_superhost host_identity_verified neighbourhood_group_cleansed  \\\n",
       "0                 f                      t                    Manhattan   \n",
       "1                 f                      t                     Brooklyn   \n",
       "2                 f                      t                     Brooklyn   \n",
       "3                 f                      t                     Brooklyn   \n",
       "4                 f                      f                    Manhattan   \n",
       "\n",
       "      room_type bathrooms_text instant_bookable  \n",
       "0   Entire home          baths                f  \n",
       "1   Entire home          baths                f  \n",
       "2  Private room          baths                f  \n",
       "3   Entire home          baths                f  \n",
       "4  Private room          baths                f  "
      ]
     },
     "execution_count": 59,
     "metadata": {},
     "output_type": "execute_result"
    }
   ],
   "source": [
    "df_cat.head(5)"
   ]
  },
  {
   "cell_type": "code",
   "execution_count": 60,
   "id": "fd24b28f",
   "metadata": {
    "colab": {
     "base_uri": "https://localhost:8080/",
     "height": 270
    },
    "id": "fd24b28f",
    "outputId": "fd724fd4-8c02-48ce-a62d-8c053ce971be"
   },
   "outputs": [
    {
     "data": {
      "text/html": [
       "<div>\n",
       "<style scoped>\n",
       "    .dataframe tbody tr th:only-of-type {\n",
       "        vertical-align: middle;\n",
       "    }\n",
       "\n",
       "    .dataframe tbody tr th {\n",
       "        vertical-align: top;\n",
       "    }\n",
       "\n",
       "    .dataframe thead th {\n",
       "        text-align: right;\n",
       "    }\n",
       "</style>\n",
       "<table border=\"1\" class=\"dataframe\">\n",
       "  <thead>\n",
       "    <tr style=\"text-align: right;\">\n",
       "      <th></th>\n",
       "      <th>host_response_rate</th>\n",
       "      <th>host_acceptance_rate</th>\n",
       "      <th>host_total_listings_count</th>\n",
       "      <th>accommodates</th>\n",
       "      <th>bedrooms</th>\n",
       "      <th>beds</th>\n",
       "      <th>minimum_nights</th>\n",
       "      <th>maximum_nights</th>\n",
       "      <th>minimum_minimum_nights</th>\n",
       "      <th>maximum_minimum_nights</th>\n",
       "      <th>minimum_maximum_nights</th>\n",
       "      <th>maximum_maximum_nights</th>\n",
       "      <th>minimum_nights_avg_ntm</th>\n",
       "      <th>maximum_nights_avg_ntm</th>\n",
       "      <th>availability_30</th>\n",
       "      <th>availability_60</th>\n",
       "      <th>availability_90</th>\n",
       "      <th>availability_365</th>\n",
       "      <th>number_of_reviews</th>\n",
       "      <th>number_of_reviews_ltm</th>\n",
       "      <th>review_scores_rating</th>\n",
       "      <th>review_scores_accuracy</th>\n",
       "      <th>review_scores_cleanliness</th>\n",
       "      <th>review_scores_checkin</th>\n",
       "      <th>review_scores_communication</th>\n",
       "      <th>review_scores_location</th>\n",
       "      <th>review_scores_value</th>\n",
       "      <th>calculated_host_listings_count</th>\n",
       "      <th>calculated_host_listings_count_entire_homes</th>\n",
       "      <th>calculated_host_listings_count_private_rooms</th>\n",
       "      <th>calculated_host_listings_count_shared_rooms</th>\n",
       "      <th>reviews_per_month</th>\n",
       "    </tr>\n",
       "  </thead>\n",
       "  <tbody>\n",
       "    <tr>\n",
       "      <th>0</th>\n",
       "      <td>80.000000</td>\n",
       "      <td>73.000000</td>\n",
       "      <td>6.000000</td>\n",
       "      <td>1</td>\n",
       "      <td>1.000000</td>\n",
       "      <td>1.000000</td>\n",
       "      <td>30</td>\n",
       "      <td>1125</td>\n",
       "      <td>30.000000</td>\n",
       "      <td>30.000000</td>\n",
       "      <td>1125.000000</td>\n",
       "      <td>1125.000000</td>\n",
       "      <td>30.000000</td>\n",
       "      <td>1125.000000</td>\n",
       "      <td>3</td>\n",
       "      <td>33</td>\n",
       "      <td>63</td>\n",
       "      <td>338</td>\n",
       "      <td>48</td>\n",
       "      <td>0</td>\n",
       "      <td>4.700000</td>\n",
       "      <td>4.720000</td>\n",
       "      <td>4.620000</td>\n",
       "      <td>4.760000</td>\n",
       "      <td>4.790000</td>\n",
       "      <td>4.860000</td>\n",
       "      <td>4.410000</td>\n",
       "      <td>3</td>\n",
       "      <td>2</td>\n",
       "      <td>0</td>\n",
       "      <td>0</td>\n",
       "      <td>0.330000</td>\n",
       "    </tr>\n",
       "    <tr>\n",
       "      <th>1</th>\n",
       "      <td>72.682840</td>\n",
       "      <td>73.000000</td>\n",
       "      <td>1.000000</td>\n",
       "      <td>3</td>\n",
       "      <td>1.000000</td>\n",
       "      <td>3.000000</td>\n",
       "      <td>1</td>\n",
       "      <td>730</td>\n",
       "      <td>1.000000</td>\n",
       "      <td>1.000000</td>\n",
       "      <td>730.000000</td>\n",
       "      <td>730.000000</td>\n",
       "      <td>1.000000</td>\n",
       "      <td>730.000000</td>\n",
       "      <td>3</td>\n",
       "      <td>6</td>\n",
       "      <td>18</td>\n",
       "      <td>194</td>\n",
       "      <td>48</td>\n",
       "      <td>7</td>\n",
       "      <td>4.450000</td>\n",
       "      <td>4.580000</td>\n",
       "      <td>4.490000</td>\n",
       "      <td>4.780000</td>\n",
       "      <td>4.800000</td>\n",
       "      <td>4.710000</td>\n",
       "      <td>4.640000</td>\n",
       "      <td>1</td>\n",
       "      <td>1</td>\n",
       "      <td>0</td>\n",
       "      <td>0</td>\n",
       "      <td>2.565000</td>\n",
       "    </tr>\n",
       "    <tr>\n",
       "      <th>2</th>\n",
       "      <td>100.000000</td>\n",
       "      <td>100.000000</td>\n",
       "      <td>1.000000</td>\n",
       "      <td>2</td>\n",
       "      <td>1.000000</td>\n",
       "      <td>1.000000</td>\n",
       "      <td>30</td>\n",
       "      <td>730</td>\n",
       "      <td>30.000000</td>\n",
       "      <td>30.000000</td>\n",
       "      <td>730.000000</td>\n",
       "      <td>730.000000</td>\n",
       "      <td>30.000000</td>\n",
       "      <td>730.000000</td>\n",
       "      <td>27</td>\n",
       "      <td>60</td>\n",
       "      <td>90</td>\n",
       "      <td>365</td>\n",
       "      <td>48</td>\n",
       "      <td>0</td>\n",
       "      <td>4.520000</td>\n",
       "      <td>4.500000</td>\n",
       "      <td>4.180000</td>\n",
       "      <td>4.910000</td>\n",
       "      <td>4.910000</td>\n",
       "      <td>4.470000</td>\n",
       "      <td>4.520000</td>\n",
       "      <td>2</td>\n",
       "      <td>0</td>\n",
       "      <td>2</td>\n",
       "      <td>0</td>\n",
       "      <td>0.520000</td>\n",
       "    </tr>\n",
       "    <tr>\n",
       "      <th>3</th>\n",
       "      <td>100.000000</td>\n",
       "      <td>73.000000</td>\n",
       "      <td>1.000000</td>\n",
       "      <td>4</td>\n",
       "      <td>1.000000</td>\n",
       "      <td>2.000000</td>\n",
       "      <td>5</td>\n",
       "      <td>1125</td>\n",
       "      <td>5.000000</td>\n",
       "      <td>5.000000</td>\n",
       "      <td>1125.000000</td>\n",
       "      <td>1125.000000</td>\n",
       "      <td>5.000000</td>\n",
       "      <td>1125.000000</td>\n",
       "      <td>3</td>\n",
       "      <td>3</td>\n",
       "      <td>12</td>\n",
       "      <td>123</td>\n",
       "      <td>2</td>\n",
       "      <td>1</td>\n",
       "      <td>5.000000</td>\n",
       "      <td>5.000000</td>\n",
       "      <td>5.000000</td>\n",
       "      <td>5.000000</td>\n",
       "      <td>5.000000</td>\n",
       "      <td>4.500000</td>\n",
       "      <td>5.000000</td>\n",
       "      <td>1</td>\n",
       "      <td>1</td>\n",
       "      <td>0</td>\n",
       "      <td>0</td>\n",
       "      <td>0.020000</td>\n",
       "    </tr>\n",
       "    <tr>\n",
       "      <th>4</th>\n",
       "      <td>100.000000</td>\n",
       "      <td>100.000000</td>\n",
       "      <td>1.000000</td>\n",
       "      <td>2</td>\n",
       "      <td>1.000000</td>\n",
       "      <td>1.000000</td>\n",
       "      <td>2</td>\n",
       "      <td>14</td>\n",
       "      <td>2.000000</td>\n",
       "      <td>2.000000</td>\n",
       "      <td>14.000000</td>\n",
       "      <td>14.000000</td>\n",
       "      <td>2.000000</td>\n",
       "      <td>14.000000</td>\n",
       "      <td>1</td>\n",
       "      <td>16</td>\n",
       "      <td>34</td>\n",
       "      <td>192</td>\n",
       "      <td>48</td>\n",
       "      <td>7</td>\n",
       "      <td>4.250000</td>\n",
       "      <td>4.500000</td>\n",
       "      <td>4.180000</td>\n",
       "      <td>4.700000</td>\n",
       "      <td>4.725000</td>\n",
       "      <td>4.870000</td>\n",
       "      <td>4.360000</td>\n",
       "      <td>1</td>\n",
       "      <td>0</td>\n",
       "      <td>1</td>\n",
       "      <td>0</td>\n",
       "      <td>2.565000</td>\n",
       "    </tr>\n",
       "  </tbody>\n",
       "</table>\n",
       "</div>"
      ],
      "text/plain": [
       "   host_response_rate  host_acceptance_rate  host_total_listings_count  \\\n",
       "0           80.000000             73.000000                   6.000000   \n",
       "1           72.682840             73.000000                   1.000000   \n",
       "2          100.000000            100.000000                   1.000000   \n",
       "3          100.000000             73.000000                   1.000000   \n",
       "4          100.000000            100.000000                   1.000000   \n",
       "\n",
       "   accommodates  bedrooms     beds  minimum_nights  maximum_nights  \\\n",
       "0             1  1.000000 1.000000              30            1125   \n",
       "1             3  1.000000 3.000000               1             730   \n",
       "2             2  1.000000 1.000000              30             730   \n",
       "3             4  1.000000 2.000000               5            1125   \n",
       "4             2  1.000000 1.000000               2              14   \n",
       "\n",
       "   minimum_minimum_nights  maximum_minimum_nights  minimum_maximum_nights  \\\n",
       "0               30.000000               30.000000             1125.000000   \n",
       "1                1.000000                1.000000              730.000000   \n",
       "2               30.000000               30.000000              730.000000   \n",
       "3                5.000000                5.000000             1125.000000   \n",
       "4                2.000000                2.000000               14.000000   \n",
       "\n",
       "   maximum_maximum_nights  minimum_nights_avg_ntm  maximum_nights_avg_ntm  \\\n",
       "0             1125.000000               30.000000             1125.000000   \n",
       "1              730.000000                1.000000              730.000000   \n",
       "2              730.000000               30.000000              730.000000   \n",
       "3             1125.000000                5.000000             1125.000000   \n",
       "4               14.000000                2.000000               14.000000   \n",
       "\n",
       "   availability_30  availability_60  availability_90  availability_365  \\\n",
       "0                3               33               63               338   \n",
       "1                3                6               18               194   \n",
       "2               27               60               90               365   \n",
       "3                3                3               12               123   \n",
       "4                1               16               34               192   \n",
       "\n",
       "   number_of_reviews  number_of_reviews_ltm  review_scores_rating  \\\n",
       "0                 48                      0              4.700000   \n",
       "1                 48                      7              4.450000   \n",
       "2                 48                      0              4.520000   \n",
       "3                  2                      1              5.000000   \n",
       "4                 48                      7              4.250000   \n",
       "\n",
       "   review_scores_accuracy  review_scores_cleanliness  review_scores_checkin  \\\n",
       "0                4.720000                   4.620000               4.760000   \n",
       "1                4.580000                   4.490000               4.780000   \n",
       "2                4.500000                   4.180000               4.910000   \n",
       "3                5.000000                   5.000000               5.000000   \n",
       "4                4.500000                   4.180000               4.700000   \n",
       "\n",
       "   review_scores_communication  review_scores_location  review_scores_value  \\\n",
       "0                     4.790000                4.860000             4.410000   \n",
       "1                     4.800000                4.710000             4.640000   \n",
       "2                     4.910000                4.470000             4.520000   \n",
       "3                     5.000000                4.500000             5.000000   \n",
       "4                     4.725000                4.870000             4.360000   \n",
       "\n",
       "   calculated_host_listings_count  \\\n",
       "0                               3   \n",
       "1                               1   \n",
       "2                               2   \n",
       "3                               1   \n",
       "4                               1   \n",
       "\n",
       "   calculated_host_listings_count_entire_homes  \\\n",
       "0                                            2   \n",
       "1                                            1   \n",
       "2                                            0   \n",
       "3                                            1   \n",
       "4                                            0   \n",
       "\n",
       "   calculated_host_listings_count_private_rooms  \\\n",
       "0                                             0   \n",
       "1                                             0   \n",
       "2                                             2   \n",
       "3                                             0   \n",
       "4                                             1   \n",
       "\n",
       "   calculated_host_listings_count_shared_rooms  reviews_per_month  \n",
       "0                                            0           0.330000  \n",
       "1                                            0           2.565000  \n",
       "2                                            0           0.520000  \n",
       "3                                            0           0.020000  \n",
       "4                                            0           2.565000  "
      ]
     },
     "execution_count": 60,
     "metadata": {},
     "output_type": "execute_result"
    }
   ],
   "source": [
    "df_num.head()"
   ]
  },
  {
   "cell_type": "markdown",
   "id": "ad4ff8b9",
   "metadata": {
    "id": "ad4ff8b9"
   },
   "source": [
    "# Concatenation "
   ]
  },
  {
   "cell_type": "code",
   "execution_count": 61,
   "id": "ecb153ad",
   "metadata": {
    "id": "ecb153ad"
   },
   "outputs": [],
   "source": [
    "df_new = pd.concat([df_num , df_cat] ,axis =1)"
   ]
  },
  {
   "cell_type": "code",
   "execution_count": 62,
   "id": "d306b154",
   "metadata": {
    "colab": {
     "base_uri": "https://localhost:8080/",
     "height": 176
    },
    "id": "d306b154",
    "outputId": "939ea84c-80ce-474b-c440-ead47b011016"
   },
   "outputs": [
    {
     "data": {
      "text/html": [
       "<div>\n",
       "<style scoped>\n",
       "    .dataframe tbody tr th:only-of-type {\n",
       "        vertical-align: middle;\n",
       "    }\n",
       "\n",
       "    .dataframe tbody tr th {\n",
       "        vertical-align: top;\n",
       "    }\n",
       "\n",
       "    .dataframe thead th {\n",
       "        text-align: right;\n",
       "    }\n",
       "</style>\n",
       "<table border=\"1\" class=\"dataframe\">\n",
       "  <thead>\n",
       "    <tr style=\"text-align: right;\">\n",
       "      <th></th>\n",
       "      <th>host_response_rate</th>\n",
       "      <th>host_acceptance_rate</th>\n",
       "      <th>host_total_listings_count</th>\n",
       "      <th>accommodates</th>\n",
       "      <th>bedrooms</th>\n",
       "      <th>beds</th>\n",
       "      <th>minimum_nights</th>\n",
       "      <th>maximum_nights</th>\n",
       "      <th>minimum_minimum_nights</th>\n",
       "      <th>maximum_minimum_nights</th>\n",
       "      <th>minimum_maximum_nights</th>\n",
       "      <th>maximum_maximum_nights</th>\n",
       "      <th>minimum_nights_avg_ntm</th>\n",
       "      <th>maximum_nights_avg_ntm</th>\n",
       "      <th>availability_30</th>\n",
       "      <th>availability_60</th>\n",
       "      <th>availability_90</th>\n",
       "      <th>availability_365</th>\n",
       "      <th>number_of_reviews</th>\n",
       "      <th>number_of_reviews_ltm</th>\n",
       "      <th>review_scores_rating</th>\n",
       "      <th>review_scores_accuracy</th>\n",
       "      <th>review_scores_cleanliness</th>\n",
       "      <th>review_scores_checkin</th>\n",
       "      <th>review_scores_communication</th>\n",
       "      <th>review_scores_location</th>\n",
       "      <th>review_scores_value</th>\n",
       "      <th>calculated_host_listings_count</th>\n",
       "      <th>calculated_host_listings_count_entire_homes</th>\n",
       "      <th>calculated_host_listings_count_private_rooms</th>\n",
       "      <th>calculated_host_listings_count_shared_rooms</th>\n",
       "      <th>reviews_per_month</th>\n",
       "      <th>host_is_superhost</th>\n",
       "      <th>host_identity_verified</th>\n",
       "      <th>neighbourhood_group_cleansed</th>\n",
       "      <th>room_type</th>\n",
       "      <th>bathrooms_text</th>\n",
       "      <th>instant_bookable</th>\n",
       "    </tr>\n",
       "  </thead>\n",
       "  <tbody>\n",
       "    <tr>\n",
       "      <th>0</th>\n",
       "      <td>80.000000</td>\n",
       "      <td>73.000000</td>\n",
       "      <td>6.000000</td>\n",
       "      <td>1</td>\n",
       "      <td>1.000000</td>\n",
       "      <td>1.000000</td>\n",
       "      <td>30</td>\n",
       "      <td>1125</td>\n",
       "      <td>30.000000</td>\n",
       "      <td>30.000000</td>\n",
       "      <td>1125.000000</td>\n",
       "      <td>1125.000000</td>\n",
       "      <td>30.000000</td>\n",
       "      <td>1125.000000</td>\n",
       "      <td>3</td>\n",
       "      <td>33</td>\n",
       "      <td>63</td>\n",
       "      <td>338</td>\n",
       "      <td>48</td>\n",
       "      <td>0</td>\n",
       "      <td>4.700000</td>\n",
       "      <td>4.720000</td>\n",
       "      <td>4.620000</td>\n",
       "      <td>4.760000</td>\n",
       "      <td>4.790000</td>\n",
       "      <td>4.860000</td>\n",
       "      <td>4.410000</td>\n",
       "      <td>3</td>\n",
       "      <td>2</td>\n",
       "      <td>0</td>\n",
       "      <td>0</td>\n",
       "      <td>0.330000</td>\n",
       "      <td>f</td>\n",
       "      <td>t</td>\n",
       "      <td>Manhattan</td>\n",
       "      <td>Entire home</td>\n",
       "      <td>baths</td>\n",
       "      <td>f</td>\n",
       "    </tr>\n",
       "    <tr>\n",
       "      <th>1</th>\n",
       "      <td>72.682840</td>\n",
       "      <td>73.000000</td>\n",
       "      <td>1.000000</td>\n",
       "      <td>3</td>\n",
       "      <td>1.000000</td>\n",
       "      <td>3.000000</td>\n",
       "      <td>1</td>\n",
       "      <td>730</td>\n",
       "      <td>1.000000</td>\n",
       "      <td>1.000000</td>\n",
       "      <td>730.000000</td>\n",
       "      <td>730.000000</td>\n",
       "      <td>1.000000</td>\n",
       "      <td>730.000000</td>\n",
       "      <td>3</td>\n",
       "      <td>6</td>\n",
       "      <td>18</td>\n",
       "      <td>194</td>\n",
       "      <td>48</td>\n",
       "      <td>7</td>\n",
       "      <td>4.450000</td>\n",
       "      <td>4.580000</td>\n",
       "      <td>4.490000</td>\n",
       "      <td>4.780000</td>\n",
       "      <td>4.800000</td>\n",
       "      <td>4.710000</td>\n",
       "      <td>4.640000</td>\n",
       "      <td>1</td>\n",
       "      <td>1</td>\n",
       "      <td>0</td>\n",
       "      <td>0</td>\n",
       "      <td>2.565000</td>\n",
       "      <td>f</td>\n",
       "      <td>t</td>\n",
       "      <td>Brooklyn</td>\n",
       "      <td>Entire home</td>\n",
       "      <td>baths</td>\n",
       "      <td>f</td>\n",
       "    </tr>\n",
       "  </tbody>\n",
       "</table>\n",
       "</div>"
      ],
      "text/plain": [
       "   host_response_rate  host_acceptance_rate  host_total_listings_count  \\\n",
       "0           80.000000             73.000000                   6.000000   \n",
       "1           72.682840             73.000000                   1.000000   \n",
       "\n",
       "   accommodates  bedrooms     beds  minimum_nights  maximum_nights  \\\n",
       "0             1  1.000000 1.000000              30            1125   \n",
       "1             3  1.000000 3.000000               1             730   \n",
       "\n",
       "   minimum_minimum_nights  maximum_minimum_nights  minimum_maximum_nights  \\\n",
       "0               30.000000               30.000000             1125.000000   \n",
       "1                1.000000                1.000000              730.000000   \n",
       "\n",
       "   maximum_maximum_nights  minimum_nights_avg_ntm  maximum_nights_avg_ntm  \\\n",
       "0             1125.000000               30.000000             1125.000000   \n",
       "1              730.000000                1.000000              730.000000   \n",
       "\n",
       "   availability_30  availability_60  availability_90  availability_365  \\\n",
       "0                3               33               63               338   \n",
       "1                3                6               18               194   \n",
       "\n",
       "   number_of_reviews  number_of_reviews_ltm  review_scores_rating  \\\n",
       "0                 48                      0              4.700000   \n",
       "1                 48                      7              4.450000   \n",
       "\n",
       "   review_scores_accuracy  review_scores_cleanliness  review_scores_checkin  \\\n",
       "0                4.720000                   4.620000               4.760000   \n",
       "1                4.580000                   4.490000               4.780000   \n",
       "\n",
       "   review_scores_communication  review_scores_location  review_scores_value  \\\n",
       "0                     4.790000                4.860000             4.410000   \n",
       "1                     4.800000                4.710000             4.640000   \n",
       "\n",
       "   calculated_host_listings_count  \\\n",
       "0                               3   \n",
       "1                               1   \n",
       "\n",
       "   calculated_host_listings_count_entire_homes  \\\n",
       "0                                            2   \n",
       "1                                            1   \n",
       "\n",
       "   calculated_host_listings_count_private_rooms  \\\n",
       "0                                             0   \n",
       "1                                             0   \n",
       "\n",
       "   calculated_host_listings_count_shared_rooms  reviews_per_month  \\\n",
       "0                                            0           0.330000   \n",
       "1                                            0           2.565000   \n",
       "\n",
       "  host_is_superhost host_identity_verified neighbourhood_group_cleansed  \\\n",
       "0                 f                      t                    Manhattan   \n",
       "1                 f                      t                     Brooklyn   \n",
       "\n",
       "     room_type bathrooms_text instant_bookable  \n",
       "0  Entire home          baths                f  \n",
       "1  Entire home          baths                f  "
      ]
     },
     "execution_count": 62,
     "metadata": {},
     "output_type": "execute_result"
    }
   ],
   "source": [
    "df_new.head(2)"
   ]
  },
  {
   "cell_type": "markdown",
   "id": "c41b2e92",
   "metadata": {
    "id": "c41b2e92"
   },
   "source": [
    "# Creating dummies "
   ]
  },
  {
   "cell_type": "code",
   "execution_count": 63,
   "id": "da809cd7",
   "metadata": {},
   "outputs": [
    {
     "data": {
      "text/plain": [
       "Index(['host_response_rate', 'host_acceptance_rate',\n",
       "       'host_total_listings_count', 'accommodates', 'bedrooms', 'beds',\n",
       "       'minimum_nights', 'maximum_nights', 'minimum_minimum_nights',\n",
       "       'maximum_minimum_nights', 'minimum_maximum_nights',\n",
       "       'maximum_maximum_nights', 'minimum_nights_avg_ntm',\n",
       "       'maximum_nights_avg_ntm', 'availability_30', 'availability_60',\n",
       "       'availability_90', 'availability_365', 'number_of_reviews',\n",
       "       'number_of_reviews_ltm', 'review_scores_rating',\n",
       "       'review_scores_accuracy', 'review_scores_cleanliness',\n",
       "       'review_scores_checkin', 'review_scores_communication',\n",
       "       'review_scores_location', 'review_scores_value',\n",
       "       'calculated_host_listings_count',\n",
       "       'calculated_host_listings_count_entire_homes',\n",
       "       'calculated_host_listings_count_private_rooms',\n",
       "       'calculated_host_listings_count_shared_rooms', 'reviews_per_month',\n",
       "       'host_is_superhost', 'host_identity_verified',\n",
       "       'neighbourhood_group_cleansed', 'room_type', 'bathrooms_text',\n",
       "       'instant_bookable', 'price'],\n",
       "      dtype='object')"
      ]
     },
     "execution_count": 63,
     "metadata": {},
     "output_type": "execute_result"
    }
   ],
   "source": [
    "df_final=pd.concat([df_new,df_target],axis=1)\n",
    "df_final.columns"
   ]
  },
  {
   "cell_type": "code",
   "execution_count": 64,
   "id": "84f1cb15",
   "metadata": {
    "id": "84f1cb15"
   },
   "outputs": [],
   "source": [
    "df_dum = pd.get_dummies(df_cat ,drop_first = True)"
   ]
  },
  {
   "cell_type": "code",
   "execution_count": 65,
   "id": "8479d136",
   "metadata": {
    "id": "8479d136"
   },
   "outputs": [],
   "source": [
    "# Final dataframe"
   ]
  },
  {
   "cell_type": "code",
   "execution_count": 66,
   "id": "0d39dfc8",
   "metadata": {
    "id": "0d39dfc8"
   },
   "outputs": [],
   "source": [
    "df_encoded = pd.concat([df_num , df_dum] , axis =1)"
   ]
  },
  {
   "cell_type": "markdown",
   "id": "4c2e8e77",
   "metadata": {
    "id": "4c2e8e77"
   },
   "source": [
    "# Univariant Analysis "
   ]
  },
  {
   "cell_type": "code",
   "execution_count": 67,
   "id": "c57e1221",
   "metadata": {
    "colab": {
     "base_uri": "https://localhost:8080/",
     "height": 162
    },
    "id": "c57e1221",
    "outputId": "536989c7-3588-4707-d97f-7a6b9b2d3e6d"
   },
   "outputs": [
    {
     "data": {
      "text/html": [
       "<div>\n",
       "<style scoped>\n",
       "    .dataframe tbody tr th:only-of-type {\n",
       "        vertical-align: middle;\n",
       "    }\n",
       "\n",
       "    .dataframe tbody tr th {\n",
       "        vertical-align: top;\n",
       "    }\n",
       "\n",
       "    .dataframe thead th {\n",
       "        text-align: right;\n",
       "    }\n",
       "</style>\n",
       "<table border=\"1\" class=\"dataframe\">\n",
       "  <thead>\n",
       "    <tr style=\"text-align: right;\">\n",
       "      <th></th>\n",
       "      <th>host_response_rate</th>\n",
       "      <th>host_acceptance_rate</th>\n",
       "      <th>host_total_listings_count</th>\n",
       "      <th>accommodates</th>\n",
       "      <th>bedrooms</th>\n",
       "      <th>beds</th>\n",
       "      <th>minimum_nights</th>\n",
       "      <th>maximum_nights</th>\n",
       "      <th>minimum_minimum_nights</th>\n",
       "      <th>maximum_minimum_nights</th>\n",
       "      <th>minimum_maximum_nights</th>\n",
       "      <th>maximum_maximum_nights</th>\n",
       "      <th>minimum_nights_avg_ntm</th>\n",
       "      <th>maximum_nights_avg_ntm</th>\n",
       "      <th>availability_30</th>\n",
       "      <th>availability_60</th>\n",
       "      <th>availability_90</th>\n",
       "      <th>availability_365</th>\n",
       "      <th>number_of_reviews</th>\n",
       "      <th>number_of_reviews_ltm</th>\n",
       "      <th>review_scores_rating</th>\n",
       "      <th>review_scores_accuracy</th>\n",
       "      <th>review_scores_cleanliness</th>\n",
       "      <th>review_scores_checkin</th>\n",
       "      <th>review_scores_communication</th>\n",
       "      <th>review_scores_location</th>\n",
       "      <th>review_scores_value</th>\n",
       "      <th>calculated_host_listings_count</th>\n",
       "      <th>calculated_host_listings_count_entire_homes</th>\n",
       "      <th>calculated_host_listings_count_private_rooms</th>\n",
       "      <th>calculated_host_listings_count_shared_rooms</th>\n",
       "      <th>reviews_per_month</th>\n",
       "      <th>host_is_superhost_t</th>\n",
       "      <th>host_identity_verified_t</th>\n",
       "      <th>neighbourhood_group_cleansed_Brooklyn</th>\n",
       "      <th>neighbourhood_group_cleansed_Manhattan</th>\n",
       "      <th>neighbourhood_group_cleansed_Queens</th>\n",
       "      <th>neighbourhood_group_cleansed_Staten Island</th>\n",
       "      <th>room_type_Hotel room</th>\n",
       "      <th>room_type_Private room</th>\n",
       "      <th>room_type_Shared room</th>\n",
       "      <th>bathrooms_text_private_bath</th>\n",
       "      <th>bathrooms_text_shared_bathroom</th>\n",
       "      <th>instant_bookable_t</th>\n",
       "    </tr>\n",
       "  </thead>\n",
       "  <tbody>\n",
       "    <tr>\n",
       "      <th>0</th>\n",
       "      <td>80.000000</td>\n",
       "      <td>73.000000</td>\n",
       "      <td>6.000000</td>\n",
       "      <td>1</td>\n",
       "      <td>1.000000</td>\n",
       "      <td>1.000000</td>\n",
       "      <td>30</td>\n",
       "      <td>1125</td>\n",
       "      <td>30.000000</td>\n",
       "      <td>30.000000</td>\n",
       "      <td>1125.000000</td>\n",
       "      <td>1125.000000</td>\n",
       "      <td>30.000000</td>\n",
       "      <td>1125.000000</td>\n",
       "      <td>3</td>\n",
       "      <td>33</td>\n",
       "      <td>63</td>\n",
       "      <td>338</td>\n",
       "      <td>48</td>\n",
       "      <td>0</td>\n",
       "      <td>4.700000</td>\n",
       "      <td>4.720000</td>\n",
       "      <td>4.620000</td>\n",
       "      <td>4.760000</td>\n",
       "      <td>4.790000</td>\n",
       "      <td>4.860000</td>\n",
       "      <td>4.410000</td>\n",
       "      <td>3</td>\n",
       "      <td>2</td>\n",
       "      <td>0</td>\n",
       "      <td>0</td>\n",
       "      <td>0.330000</td>\n",
       "      <td>0</td>\n",
       "      <td>1</td>\n",
       "      <td>0</td>\n",
       "      <td>1</td>\n",
       "      <td>0</td>\n",
       "      <td>0</td>\n",
       "      <td>0</td>\n",
       "      <td>0</td>\n",
       "      <td>0</td>\n",
       "      <td>0</td>\n",
       "      <td>0</td>\n",
       "      <td>0</td>\n",
       "    </tr>\n",
       "  </tbody>\n",
       "</table>\n",
       "</div>"
      ],
      "text/plain": [
       "   host_response_rate  host_acceptance_rate  host_total_listings_count  \\\n",
       "0           80.000000             73.000000                   6.000000   \n",
       "\n",
       "   accommodates  bedrooms     beds  minimum_nights  maximum_nights  \\\n",
       "0             1  1.000000 1.000000              30            1125   \n",
       "\n",
       "   minimum_minimum_nights  maximum_minimum_nights  minimum_maximum_nights  \\\n",
       "0               30.000000               30.000000             1125.000000   \n",
       "\n",
       "   maximum_maximum_nights  minimum_nights_avg_ntm  maximum_nights_avg_ntm  \\\n",
       "0             1125.000000               30.000000             1125.000000   \n",
       "\n",
       "   availability_30  availability_60  availability_90  availability_365  \\\n",
       "0                3               33               63               338   \n",
       "\n",
       "   number_of_reviews  number_of_reviews_ltm  review_scores_rating  \\\n",
       "0                 48                      0              4.700000   \n",
       "\n",
       "   review_scores_accuracy  review_scores_cleanliness  review_scores_checkin  \\\n",
       "0                4.720000                   4.620000               4.760000   \n",
       "\n",
       "   review_scores_communication  review_scores_location  review_scores_value  \\\n",
       "0                     4.790000                4.860000             4.410000   \n",
       "\n",
       "   calculated_host_listings_count  \\\n",
       "0                               3   \n",
       "\n",
       "   calculated_host_listings_count_entire_homes  \\\n",
       "0                                            2   \n",
       "\n",
       "   calculated_host_listings_count_private_rooms  \\\n",
       "0                                             0   \n",
       "\n",
       "   calculated_host_listings_count_shared_rooms  reviews_per_month  \\\n",
       "0                                            0           0.330000   \n",
       "\n",
       "   host_is_superhost_t  host_identity_verified_t  \\\n",
       "0                    0                         1   \n",
       "\n",
       "   neighbourhood_group_cleansed_Brooklyn  \\\n",
       "0                                      0   \n",
       "\n",
       "   neighbourhood_group_cleansed_Manhattan  \\\n",
       "0                                       1   \n",
       "\n",
       "   neighbourhood_group_cleansed_Queens  \\\n",
       "0                                    0   \n",
       "\n",
       "   neighbourhood_group_cleansed_Staten Island  room_type_Hotel room  \\\n",
       "0                                           0                     0   \n",
       "\n",
       "   room_type_Private room  room_type_Shared room  bathrooms_text_private_bath  \\\n",
       "0                       0                      0                            0   \n",
       "\n",
       "   bathrooms_text_shared_bathroom  instant_bookable_t  \n",
       "0                               0                   0  "
      ]
     },
     "execution_count": 67,
     "metadata": {},
     "output_type": "execute_result"
    }
   ],
   "source": [
    "df_encoded.head(1)"
   ]
  },
  {
   "cell_type": "code",
   "execution_count": 68,
   "id": "9b4178b1",
   "metadata": {
    "id": "9b4178b1"
   },
   "outputs": [],
   "source": [
    "plt.rcParams['figure.figsize'] = [7,4]"
   ]
  },
  {
   "cell_type": "code",
   "execution_count": 69,
   "id": "e2516271",
   "metadata": {
    "colab": {
     "base_uri": "https://localhost:8080/",
     "height": 298
    },
    "id": "e2516271",
    "outputId": "bc8d9421-fb64-40c6-a2b2-0dd1ea8879a6"
   },
   "outputs": [
    {
     "data": {
      "text/plain": [
       "<AxesSubplot:xlabel='host_response_rate', ylabel='Density'>"
      ]
     },
     "execution_count": 69,
     "metadata": {},
     "output_type": "execute_result"
    },
    {
     "data": {
      "image/png": "[encoded data removed]",
      "text/plain": [
       "<Figure size 504x288 with 1 Axes>"
      ]
     },
     "metadata": {
      "needs_background": "light"
     },
     "output_type": "display_data"
    }
   ],
   "source": [
    "sns.distplot(df_final['host_response_rate'])"
   ]
  },
  {
   "cell_type": "code",
   "execution_count": 70,
   "id": "075a6db0",
   "metadata": {
    "colab": {
     "base_uri": "https://localhost:8080/",
     "height": 298
    },
    "id": "075a6db0",
    "outputId": "d1daf649-d25b-4455-9289-21cb2681133b"
   },
   "outputs": [
    {
     "data": {
      "text/plain": [
       "<AxesSubplot:xlabel='host_acceptance_rate', ylabel='Density'>"
      ]
     },
     "execution_count": 70,
     "metadata": {},
     "output_type": "execute_result"
    },
    {
     "data": {
      "image/png": "[encoded data removed]",
      "text/plain": [
       "<Figure size 504x288 with 1 Axes>"
      ]
     },
     "metadata": {
      "needs_background": "light"
     },
     "output_type": "display_data"
    }
   ],
   "source": [
    "sns.distplot(df_final['host_acceptance_rate'])"
   ]
  },
  {
   "cell_type": "code",
   "execution_count": 71,
   "id": "3e7b7f02",
   "metadata": {
    "id": "3e7b7f02"
   },
   "outputs": [],
   "source": [
    "# There is a maximum probability that the hosts are accepting the customer request"
   ]
  },
  {
   "cell_type": "code",
   "execution_count": 72,
   "id": "1c708d80",
   "metadata": {
    "colab": {
     "base_uri": "https://localhost:8080/",
     "height": 298
    },
    "id": "1c708d80",
    "outputId": "52336f06-ced0-4685-d642-5efd277d21d0"
   },
   "outputs": [
    {
     "data": {
      "text/plain": [
       "<AxesSubplot:xlabel='host_total_listings_count', ylabel='Density'>"
      ]
     },
     "execution_count": 72,
     "metadata": {},
     "output_type": "execute_result"
    },
    {
     "data": {
      "image/png": "[encoded data removed]",
      "text/plain": [
       "<Figure size 504x288 with 1 Axes>"
      ]
     },
     "metadata": {
      "needs_background": "light"
     },
     "output_type": "display_data"
    }
   ],
   "source": [
    "sns.distplot(df_final['host_total_listings_count'])"
   ]
  },
  {
   "cell_type": "code",
   "execution_count": 73,
   "id": "7d8f8c8f",
   "metadata": {
    "colab": {
     "base_uri": "https://localhost:8080/",
     "height": 298
    },
    "id": "7d8f8c8f",
    "outputId": "953177e5-d24b-4705-c8a0-39cc8bd58d53"
   },
   "outputs": [
    {
     "data": {
      "text/plain": [
       "<AxesSubplot:xlabel='host_total_listings_count', ylabel='count'>"
      ]
     },
     "execution_count": 73,
     "metadata": {},
     "output_type": "execute_result"
    },
    {
     "data": {
      "image/png": "[encoded data removed]",
      "text/plain": [
       "<Figure size 504x288 with 1 Axes>"
      ]
     },
     "metadata": {
      "needs_background": "light"
     },
     "output_type": "display_data"
    }
   ],
   "source": [
    "sns.countplot(df_final['host_total_listings_count'])"
   ]
  },
  {
   "cell_type": "code",
   "execution_count": 74,
   "id": "fe331d22",
   "metadata": {
    "id": "fe331d22"
   },
   "outputs": [],
   "source": [
    "# most of the hosts have single listings "
   ]
  },
  {
   "cell_type": "code",
   "execution_count": 75,
   "id": "c73f6395",
   "metadata": {
    "colab": {
     "base_uri": "https://localhost:8080/",
     "height": 297
    },
    "id": "c73f6395",
    "outputId": "60eee9d1-953d-44c0-82df-0d92780301b4"
   },
   "outputs": [
    {
     "data": {
      "text/plain": [
       "<AxesSubplot:xlabel='accommodates', ylabel='count'>"
      ]
     },
     "execution_count": 75,
     "metadata": {},
     "output_type": "execute_result"
    },
    {
     "data": {
      "image/png": "[encoded data removed]",
      "text/plain": [
       "<Figure size 504x288 with 1 Axes>"
      ]
     },
     "metadata": {
      "needs_background": "light"
     },
     "output_type": "display_data"
    }
   ],
   "source": [
    "sns.countplot(df_final['accommodates'])"
   ]
  },
  {
   "cell_type": "code",
   "execution_count": 76,
   "id": "ed8585ba",
   "metadata": {
    "id": "ed8585ba"
   },
   "outputs": [],
   "source": [
    "# There are more number of listings with 2 accomodates "
   ]
  },
  {
   "cell_type": "code",
   "execution_count": 77,
   "id": "5aa0258a",
   "metadata": {
    "colab": {
     "base_uri": "https://localhost:8080/",
     "height": 297
    },
    "id": "5aa0258a",
    "outputId": "c36e85b4-aa14-4248-964b-984af6bf7021"
   },
   "outputs": [
    {
     "data": {
      "text/plain": [
       "<AxesSubplot:xlabel='beds', ylabel='count'>"
      ]
     },
     "execution_count": 77,
     "metadata": {},
     "output_type": "execute_result"
    },
    {
     "data": {
      "image/png": "[encoded data removed]",
      "text/plain": [
       "<Figure size 504x288 with 1 Axes>"
      ]
     },
     "metadata": {
      "needs_background": "light"
     },
     "output_type": "display_data"
    }
   ],
   "source": [
    "sns.countplot(df_final['beds'])"
   ]
  },
  {
   "cell_type": "code",
   "execution_count": 78,
   "id": "ad8a1716",
   "metadata": {
    "id": "ad8a1716"
   },
   "outputs": [],
   "source": [
    "# Most of the listings have single beds in the room "
   ]
  },
  {
   "cell_type": "code",
   "execution_count": 78,
   "id": "8163d6db",
   "metadata": {
    "id": "8163d6db"
   },
   "outputs": [],
   "source": [
    "# Target Variable (distribution)"
   ]
  },
  {
   "cell_type": "code",
   "execution_count": 79,
   "id": "1d8eea2b",
   "metadata": {
    "colab": {
     "base_uri": "https://localhost:8080/",
     "height": 297
    },
    "id": "1d8eea2b",
    "outputId": "81f7ea8f-611e-46a7-d206-dfff6a414fcc"
   },
   "outputs": [
    {
     "data": {
      "text/plain": [
       "<AxesSubplot:xlabel='price', ylabel='Density'>"
      ]
     },
     "execution_count": 79,
     "metadata": {},
     "output_type": "execute_result"
    },
    {
     "data": {
      "image/png": "[encoded data removed]",
      "text/plain": [
       "<Figure size 504x288 with 1 Axes>"
      ]
     },
     "metadata": {
      "needs_background": "light"
     },
     "output_type": "display_data"
    }
   ],
   "source": [
    "sns.distplot(df_target['price'])"
   ]
  },
  {
   "cell_type": "code",
   "execution_count": 80,
   "id": "83595117",
   "metadata": {
    "id": "83595117"
   },
   "outputs": [],
   "source": [
    "# Since price is right skewed we need to transform \n",
    "# our target variable should be always normally distributed "
   ]
  },
  {
   "cell_type": "code",
   "execution_count": 81,
   "id": "6cc8b5ef",
   "metadata": {
    "id": "6cc8b5ef"
   },
   "outputs": [],
   "source": [
    "from sklearn.preprocessing import PowerTransformer\n",
    "pt = PowerTransformer()"
   ]
  },
  {
   "cell_type": "code",
   "execution_count": 82,
   "id": "699ff62e",
   "metadata": {
    "colab": {
     "base_uri": "https://localhost:8080/",
     "height": 297
    },
    "id": "699ff62e",
    "outputId": "5991584b-bda0-47ed-eb69-8bd806a3d4eb"
   },
   "outputs": [
    {
     "data": {
      "text/plain": [
       "<AxesSubplot:xlabel='price', ylabel='Density'>"
      ]
     },
     "execution_count": 82,
     "metadata": {},
     "output_type": "execute_result"
    },
    {
     "data": {
      "image/png": "[encoded data removed]",
      "text/plain": [
       "<Figure size 504x288 with 1 Axes>"
      ]
     },
     "metadata": {
      "needs_background": "light"
     },
     "output_type": "display_data"
    }
   ],
   "source": [
    "sns.distplot(np.sqrt(df_target['price']))"
   ]
  },
  {
   "cell_type": "code",
   "execution_count": 83,
   "id": "9c32a7fa",
   "metadata": {
    "id": "9c32a7fa"
   },
   "outputs": [],
   "source": [
    "# Here price looks near normal distribution "
   ]
  },
  {
   "cell_type": "code",
   "execution_count": 84,
   "id": "cefa4cf8",
   "metadata": {},
   "outputs": [
    {
     "data": {
      "text/plain": [
       "Index(['host_response_rate', 'host_acceptance_rate',\n",
       "       'host_total_listings_count', 'accommodates', 'bedrooms', 'beds',\n",
       "       'minimum_nights', 'maximum_nights', 'minimum_minimum_nights',\n",
       "       'maximum_minimum_nights', 'minimum_maximum_nights',\n",
       "       'maximum_maximum_nights', 'minimum_nights_avg_ntm',\n",
       "       'maximum_nights_avg_ntm', 'availability_30', 'availability_60',\n",
       "       'availability_90', 'availability_365', 'number_of_reviews',\n",
       "       'number_of_reviews_ltm', 'review_scores_rating',\n",
       "       'review_scores_accuracy', 'review_scores_cleanliness',\n",
       "       'review_scores_checkin', 'review_scores_communication',\n",
       "       'review_scores_location', 'review_scores_value',\n",
       "       'calculated_host_listings_count',\n",
       "       'calculated_host_listings_count_entire_homes',\n",
       "       'calculated_host_listings_count_private_rooms',\n",
       "       'calculated_host_listings_count_shared_rooms', 'reviews_per_month',\n",
       "       'host_is_superhost', 'host_identity_verified',\n",
       "       'neighbourhood_group_cleansed', 'room_type', 'bathrooms_text',\n",
       "       'instant_bookable'],\n",
       "      dtype='object')"
      ]
     },
     "execution_count": 84,
     "metadata": {},
     "output_type": "execute_result"
    }
   ],
   "source": [
    "df_new.columns"
   ]
  },
  {
   "cell_type": "markdown",
   "id": "569b05ee",
   "metadata": {
    "id": "569b05ee"
   },
   "source": [
    "# Bivariant Analysis"
   ]
  },
  {
   "cell_type": "raw",
   "id": "c4a5b068",
   "metadata": {
    "id": "c4a5b068"
   },
   "source": [
    "# Location wise pricing"
   ]
  },
  {
   "cell_type": "code",
   "execution_count": 87,
   "id": "419e6cf0",
   "metadata": {},
   "outputs": [
    {
     "data": {
      "text/plain": [
       "Index(['host_response_rate', 'host_acceptance_rate',\n",
       "       'host_total_listings_count', 'accommodates', 'bedrooms', 'beds',\n",
       "       'minimum_nights', 'maximum_nights', 'minimum_minimum_nights',\n",
       "       'maximum_minimum_nights', 'minimum_maximum_nights',\n",
       "       'maximum_maximum_nights', 'minimum_nights_avg_ntm',\n",
       "       'maximum_nights_avg_ntm', 'availability_30', 'availability_60',\n",
       "       'availability_90', 'availability_365', 'number_of_reviews',\n",
       "       'number_of_reviews_ltm', 'review_scores_rating',\n",
       "       'review_scores_accuracy', 'review_scores_cleanliness',\n",
       "       'review_scores_checkin', 'review_scores_communication',\n",
       "       'review_scores_location', 'review_scores_value',\n",
       "       'calculated_host_listings_count',\n",
       "       'calculated_host_listings_count_entire_homes',\n",
       "       'calculated_host_listings_count_private_rooms',\n",
       "       'calculated_host_listings_count_shared_rooms', 'reviews_per_month',\n",
       "       'host_is_superhost', 'host_identity_verified',\n",
       "       'neighbourhood_group_cleansed', 'room_type', 'bathrooms_text',\n",
       "       'instant_bookable', 'price'],\n",
       "      dtype='object')"
      ]
     },
     "execution_count": 87,
     "metadata": {},
     "output_type": "execute_result"
    }
   ],
   "source": [
    "df_final=pd.concat([df_new,df_target],axis=1)\n",
    "df_final.columns"
   ]
  },
  {
   "cell_type": "code",
   "execution_count": 88,
   "id": "bcb87e1e",
   "metadata": {
    "colab": {
     "base_uri": "https://localhost:8080/",
     "height": 524
    },
    "id": "bcb87e1e",
    "outputId": "579d0243-a6f8-4ec4-b9b0-0369a5c5d013"
   },
   "outputs": [],
   "source": [
    "loc =df_final.groupby(['neighbourhood_group_cleansed']).mean()['price']"
   ]
  },
  {
   "cell_type": "code",
   "execution_count": 89,
   "id": "d17e177e",
   "metadata": {
    "id": "d17e177e"
   },
   "outputs": [
    {
     "data": {
      "text/plain": [
       "<AxesSubplot:xlabel='neighbourhood_group_cleansed', ylabel='price'>"
      ]
     },
     "execution_count": 89,
     "metadata": {},
     "output_type": "execute_result"
    },
    {
     "data": {
      "image/png": "[encoded data removed]",
      "text/plain": [
       "<Figure size 504x288 with 1 Axes>"
      ]
     },
     "metadata": {
      "needs_background": "light"
     },
     "output_type": "display_data"
    }
   ],
   "source": [
    "sns.barplot(loc.index , loc)"
   ]
  },
  {
   "cell_type": "code",
   "execution_count": 90,
   "id": "c7dd35bf",
   "metadata": {
    "id": "c7dd35bf"
   },
   "outputs": [],
   "source": [
    "# The Average price is higher in Manhattan compared to other locatios"
   ]
  },
  {
   "cell_type": "raw",
   "id": "08d18f14",
   "metadata": {
    "id": "08d18f14"
   },
   "source": [
    "# Location with most number of bookings "
   ]
  },
  {
   "cell_type": "code",
   "execution_count": 99,
   "id": "98c180d1",
   "metadata": {
    "id": "98c180d1"
   },
   "outputs": [
    {
     "data": {
      "text/html": [
       "<div>\n",
       "<style scoped>\n",
       "    .dataframe tbody tr th:only-of-type {\n",
       "        vertical-align: middle;\n",
       "    }\n",
       "\n",
       "    .dataframe tbody tr th {\n",
       "        vertical-align: top;\n",
       "    }\n",
       "\n",
       "    .dataframe thead th {\n",
       "        text-align: right;\n",
       "    }\n",
       "</style>\n",
       "<table border=\"1\" class=\"dataframe\">\n",
       "  <thead>\n",
       "    <tr style=\"text-align: right;\">\n",
       "      <th>neighbourhood_group_cleansed</th>\n",
       "      <th>Bronx</th>\n",
       "      <th>Brooklyn</th>\n",
       "      <th>Manhattan</th>\n",
       "      <th>Queens</th>\n",
       "      <th>Staten Island</th>\n",
       "    </tr>\n",
       "    <tr>\n",
       "      <th>instant_bookable</th>\n",
       "      <th></th>\n",
       "      <th></th>\n",
       "      <th></th>\n",
       "      <th></th>\n",
       "      <th></th>\n",
       "    </tr>\n",
       "  </thead>\n",
       "  <tbody>\n",
       "    <tr>\n",
       "      <th>f</th>\n",
       "      <td>740</td>\n",
       "      <td>11219</td>\n",
       "      <td>11849</td>\n",
       "      <td>3773</td>\n",
       "      <td>270</td>\n",
       "    </tr>\n",
       "    <tr>\n",
       "      <th>t</th>\n",
       "      <td>364</td>\n",
       "      <td>3497</td>\n",
       "      <td>4932</td>\n",
       "      <td>1550</td>\n",
       "      <td>83</td>\n",
       "    </tr>\n",
       "  </tbody>\n",
       "</table>\n",
       "</div>"
      ],
      "text/plain": [
       "neighbourhood_group_cleansed  Bronx  Brooklyn  Manhattan  Queens  \\\n",
       "instant_bookable                                                   \n",
       "f                               740     11219      11849    3773   \n",
       "t                               364      3497       4932    1550   \n",
       "\n",
       "neighbourhood_group_cleansed  Staten Island  \n",
       "instant_bookable                             \n",
       "f                                       270  \n",
       "t                                        83  "
      ]
     },
     "execution_count": 99,
     "metadata": {},
     "output_type": "execute_result"
    }
   ],
   "source": [
    "pd.crosstab(df_final['instant_bookable'] ,df_final['neighbourhood_group_cleansed'])"
   ]
  },
  {
   "cell_type": "code",
   "execution_count": 89,
   "id": "f8187935",
   "metadata": {
    "id": "f8187935"
   },
   "outputs": [],
   "source": [
    "# Here we can see most number of bookings are happeing in Manhattan\n",
    "# Least number of bookings happening in Staten Island"
   ]
  },
  {
   "cell_type": "raw",
   "id": "e55e2c96",
   "metadata": {
    "id": "e55e2c96"
   },
   "source": [
    "# Price based upon accomodates "
   ]
  },
  {
   "cell_type": "code",
   "execution_count": 100,
   "id": "da62e98e",
   "metadata": {
    "id": "da62e98e"
   },
   "outputs": [],
   "source": [
    "loc2 =df_final.groupby('accommodates').mean()['price']"
   ]
  },
  {
   "cell_type": "code",
   "execution_count": 101,
   "id": "aa6338bd",
   "metadata": {
    "id": "aa6338bd"
   },
   "outputs": [
    {
     "data": {
      "text/plain": [
       "<AxesSubplot:xlabel='accommodates', ylabel='price'>"
      ]
     },
     "execution_count": 101,
     "metadata": {},
     "output_type": "execute_result"
    },
    {
     "data": {
      "image/png": "[encoded data removed]",
      "text/plain": [
       "<Figure size 504x288 with 1 Axes>"
      ]
     },
     "metadata": {
      "needs_background": "light"
     },
     "output_type": "display_data"
    }
   ],
   "source": [
    "sns.barplot(loc2.index , loc2)"
   ]
  },
  {
   "cell_type": "code",
   "execution_count": 92,
   "id": "8b9af41f",
   "metadata": {
    "id": "8b9af41f"
   },
   "outputs": [],
   "source": [
    "# Increase in accomodates increases price "
   ]
  },
  {
   "cell_type": "code",
   "execution_count": 102,
   "id": "c04fe911",
   "metadata": {
    "id": "c04fe911"
   },
   "outputs": [
    {
     "data": {
      "text/plain": [
       "<AxesSubplot:xlabel='price', ylabel='number_of_reviews'>"
      ]
     },
     "execution_count": 102,
     "metadata": {},
     "output_type": "execute_result"
    },
    {
     "data": {
      "image/png": "[encoded data removed]",
      "text/plain": [
       "<Figure size 504x288 with 1 Axes>"
      ]
     },
     "metadata": {
      "needs_background": "light"
     },
     "output_type": "display_data"
    }
   ],
   "source": [
    "sns.scatterplot(df_final['price'] ,df_final['number_of_reviews'])"
   ]
  },
  {
   "cell_type": "code",
   "execution_count": 103,
   "id": "b310db72",
   "metadata": {
    "id": "b310db72"
   },
   "outputs": [],
   "source": [
    "# The effect of reviews on price\n",
    "# increase in price leads to decrease in reviews which means \n",
    "# if the price is high maybe you may not get a booking"
   ]
  },
  {
   "cell_type": "raw",
   "id": "1ebe8e53",
   "metadata": {
    "id": "1ebe8e53"
   },
   "source": [
    "# Price based upon room_type"
   ]
  },
  {
   "cell_type": "code",
   "execution_count": 104,
   "id": "3cc05869",
   "metadata": {
    "id": "3cc05869"
   },
   "outputs": [],
   "source": [
    "loc3 =df_final.groupby(['room_type']).mean()['price']"
   ]
  },
  {
   "cell_type": "code",
   "execution_count": 105,
   "id": "75b53f5c",
   "metadata": {
    "id": "75b53f5c"
   },
   "outputs": [
    {
     "data": {
      "text/plain": [
       "<AxesSubplot:xlabel='room_type', ylabel='price'>"
      ]
     },
     "execution_count": 105,
     "metadata": {},
     "output_type": "execute_result"
    },
    {
     "data": {
      "image/png": "[encoded data removed]",
      "text/plain": [
       "<Figure size 504x288 with 1 Axes>"
      ]
     },
     "metadata": {
      "needs_background": "light"
     },
     "output_type": "display_data"
    }
   ],
   "source": [
    "sns.barplot(loc3.index , loc3)"
   ]
  },
  {
   "cell_type": "code",
   "execution_count": 106,
   "id": "e9908e49",
   "metadata": {
    "id": "e9908e49"
   },
   "outputs": [],
   "source": [
    "# The Average price of Hotel room is higher compared to others "
   ]
  },
  {
   "cell_type": "code",
   "execution_count": 107,
   "id": "0dd43b71",
   "metadata": {
    "id": "0dd43b71"
   },
   "outputs": [
    {
     "data": {
      "text/plain": [
       "<AxesSubplot:xlabel='bathrooms_text', ylabel='price'>"
      ]
     },
     "execution_count": 107,
     "metadata": {},
     "output_type": "execute_result"
    },
    {
     "data": {
      "image/png": "[encoded data removed]",
      "text/plain": [
       "<Figure size 504x288 with 1 Axes>"
      ]
     },
     "metadata": {
      "needs_background": "light"
     },
     "output_type": "display_data"
    }
   ],
   "source": [
    "loc5 =df_final.groupby('bathrooms_text').mean()['price']\n",
    "sns.barplot(loc5.index , loc5)"
   ]
  },
  {
   "cell_type": "code",
   "execution_count": 108,
   "id": "b0c68b95",
   "metadata": {
    "id": "b0c68b95"
   },
   "outputs": [],
   "source": [
    "# The price of shared bathrooms is low (if someone wants a afforadble listings they can choose shared_bathrooms)"
   ]
  },
  {
   "cell_type": "markdown",
   "id": "df10810a",
   "metadata": {
    "id": "df10810a"
   },
   "source": [
    "# Interpretation"
   ]
  },
  {
   "cell_type": "code",
   "execution_count": 100,
   "id": "c47e56da",
   "metadata": {
    "id": "c47e56da"
   },
   "outputs": [],
   "source": [
    "import matplotlib.pyplot as plt"
   ]
  },
  {
   "cell_type": "code",
   "execution_count": 109,
   "id": "434e6a8b",
   "metadata": {
    "colab": {
     "base_uri": "https://localhost:8080/",
     "height": 248
    },
    "id": "434e6a8b",
    "outputId": "18a25a20-0e82-41ac-8789-f44406f18e00"
   },
   "outputs": [
    {
     "data": {
      "image/png": "[encoded data removed]",
      "text/plain": [
       "<Figure size 504x288 with 1 Axes>"
      ]
     },
     "metadata": {},
     "output_type": "display_data"
    }
   ],
   "source": [
    "rtype = df_final['room_type'].value_counts()\n",
    "plt.pie(rtype , labels = rtype.index , autopct = '%.2f' , radius = 1)\n",
    "plt.show()"
   ]
  },
  {
   "cell_type": "code",
   "execution_count": 102,
   "id": "1f114799",
   "metadata": {
    "id": "1f114799"
   },
   "outputs": [],
   "source": [
    "# Out of 100% more than 50% listings are Entire home \n",
    "# More number of listings are entire home followed by Private room \n",
    "# there are only 0.5% listings which are hotel rooms "
   ]
  },
  {
   "cell_type": "code",
   "execution_count": 110,
   "id": "71482709",
   "metadata": {
    "colab": {
     "base_uri": "https://localhost:8080/",
     "height": 248
    },
    "id": "71482709",
    "outputId": "a950ed77-c6f3-4d47-92dc-b57dd2126cf7"
   },
   "outputs": [
    {
     "data": {
      "image/png": "[encoded data removed]",
      "text/plain": [
       "<Figure size 504x288 with 1 Axes>"
      ]
     },
     "metadata": {},
     "output_type": "display_data"
    }
   ],
   "source": [
    "bath =df_final['bathrooms_text'].value_counts()\n",
    "plt.pie(bath , labels =bath.index , autopct = '%.2f')\n",
    "plt.show()"
   ]
  },
  {
   "cell_type": "code",
   "execution_count": 111,
   "id": "d74b92d1",
   "metadata": {
    "id": "d74b92d1"
   },
   "outputs": [],
   "source": [
    "# Out of 100% , 62% bathrooms are individual bathrooms \n",
    "# Private bathrooms percentage is very low "
   ]
  },
  {
   "cell_type": "code",
   "execution_count": 112,
   "id": "b16ab877",
   "metadata": {
    "colab": {
     "base_uri": "https://localhost:8080/",
     "height": 248
    },
    "id": "b16ab877",
    "outputId": "c21ff186-8a2f-4518-f85e-94abf403f7ce"
   },
   "outputs": [
    {
     "data": {
      "image/png": "[encoded data removed]",
      "text/plain": [
       "<Figure size 504x288 with 1 Axes>"
      ]
     },
     "metadata": {},
     "output_type": "display_data"
    }
   ],
   "source": [
    "host = df_final['host_is_superhost'].value_counts() \n",
    "plt.pie(host ,labels = host.index, autopct = '%.2f')\n",
    "plt.show()"
   ]
  },
  {
   "cell_type": "markdown",
   "id": "8c98d7b5",
   "metadata": {
    "id": "8c98d7b5"
   },
   "source": [
    "# Available properties in each location"
   ]
  },
  {
   "cell_type": "code",
   "execution_count": 114,
   "id": "6829a3d0",
   "metadata": {
    "colab": {
     "base_uri": "https://localhost:8080/",
     "height": 237
    },
    "id": "6829a3d0",
    "outputId": "562e201d-f0f0-4a03-a0d9-8af3176cf6e5"
   },
   "outputs": [
    {
     "data": {
      "text/html": [
       "<div>\n",
       "<style scoped>\n",
       "    .dataframe tbody tr th:only-of-type {\n",
       "        vertical-align: middle;\n",
       "    }\n",
       "\n",
       "    .dataframe tbody tr th {\n",
       "        vertical-align: top;\n",
       "    }\n",
       "\n",
       "    .dataframe thead th {\n",
       "        text-align: right;\n",
       "    }\n",
       "</style>\n",
       "<table border=\"1\" class=\"dataframe\">\n",
       "  <thead>\n",
       "    <tr style=\"text-align: right;\">\n",
       "      <th>room_type</th>\n",
       "      <th>Entire home</th>\n",
       "      <th>Hotel room</th>\n",
       "      <th>Private room</th>\n",
       "      <th>Shared room</th>\n",
       "    </tr>\n",
       "    <tr>\n",
       "      <th>neighbourhood_group_cleansed</th>\n",
       "      <th></th>\n",
       "      <th></th>\n",
       "      <th></th>\n",
       "      <th></th>\n",
       "    </tr>\n",
       "  </thead>\n",
       "  <tbody>\n",
       "    <tr>\n",
       "      <th>Bronx</th>\n",
       "      <td>440</td>\n",
       "      <td>1</td>\n",
       "      <td>634</td>\n",
       "      <td>29</td>\n",
       "    </tr>\n",
       "    <tr>\n",
       "      <th>Brooklyn</th>\n",
       "      <td>7529</td>\n",
       "      <td>9</td>\n",
       "      <td>6989</td>\n",
       "      <td>189</td>\n",
       "    </tr>\n",
       "    <tr>\n",
       "      <th>Manhattan</th>\n",
       "      <td>10188</td>\n",
       "      <td>191</td>\n",
       "      <td>6158</td>\n",
       "      <td>244</td>\n",
       "    </tr>\n",
       "    <tr>\n",
       "      <th>Queens</th>\n",
       "      <td>2056</td>\n",
       "      <td>9</td>\n",
       "      <td>3149</td>\n",
       "      <td>109</td>\n",
       "    </tr>\n",
       "    <tr>\n",
       "      <th>Staten Island</th>\n",
       "      <td>184</td>\n",
       "      <td>0</td>\n",
       "      <td>168</td>\n",
       "      <td>1</td>\n",
       "    </tr>\n",
       "  </tbody>\n",
       "</table>\n",
       "</div>"
      ],
      "text/plain": [
       "room_type                     Entire home  Hotel room  Private room  \\\n",
       "neighbourhood_group_cleansed                                          \n",
       "Bronx                                 440           1           634   \n",
       "Brooklyn                             7529           9          6989   \n",
       "Manhattan                           10188         191          6158   \n",
       "Queens                               2056           9          3149   \n",
       "Staten Island                         184           0           168   \n",
       "\n",
       "room_type                     Shared room  \n",
       "neighbourhood_group_cleansed               \n",
       "Bronx                                  29  \n",
       "Brooklyn                              189  \n",
       "Manhattan                             244  \n",
       "Queens                                109  \n",
       "Staten Island                           1  "
      ]
     },
     "execution_count": 114,
     "metadata": {},
     "output_type": "execute_result"
    }
   ],
   "source": [
    "pd.crosstab(df_final['neighbourhood_group_cleansed'],df_final['room_type'])"
   ]
  },
  {
   "cell_type": "code",
   "execution_count": 115,
   "id": "1136f8a2",
   "metadata": {
    "colab": {
     "base_uri": "https://localhost:8080/",
     "height": 298
    },
    "id": "1136f8a2",
    "outputId": "772d81ce-32e0-451f-b76d-dc8f5198d7ab"
   },
   "outputs": [
    {
     "data": {
      "text/plain": [
       "<AxesSubplot:xlabel='neighbourhood_group_cleansed', ylabel='count'>"
      ]
     },
     "execution_count": 115,
     "metadata": {},
     "output_type": "execute_result"
    },
    {
     "data": {
      "image/png": "[encoded data removed]",
      "text/plain": [
       "<Figure size 504x288 with 1 Axes>"
      ]
     },
     "metadata": {
      "needs_background": "light"
     },
     "output_type": "display_data"
    }
   ],
   "source": [
    "sns.countplot(df_final['neighbourhood_group_cleansed'],hue=df_final['room_type'])"
   ]
  },
  {
   "cell_type": "code",
   "execution_count": 116,
   "id": "5e3eebdc",
   "metadata": {
    "colab": {
     "base_uri": "https://localhost:8080/"
    },
    "id": "5e3eebdc",
    "outputId": "663427f4-46bb-4d74-8cf7-acb5f4d44b3f"
   },
   "outputs": [
    {
     "data": {
      "text/plain": [
       "neighbourhood_group_cleansed  room_type      \n",
       "Bronx                         Entire home/apt   153.452273\n",
       "                              Hotel room          0.000000\n",
       "                              Private room       76.047319\n",
       "                              Shared room        59.034483\n",
       "Brooklyn                      Entire home/apt   193.321822\n",
       "                              Hotel room        120.555556\n",
       "                              Private room       77.872800\n",
       "                              Shared room        63.084656\n",
       "Manhattan                     Entire home/apt   252.821457\n",
       "                              Hotel room        405.308901\n",
       "                              Private room      169.031504\n",
       "                              Shared room       175.286885\n",
       "Queens                        Entire home/apt   179.660506\n",
       "                              Hotel room        171.111111\n",
       "                              Private room       72.881867\n",
       "                              Shared room       291.770642\n",
       "Staten Island                 Entire home/apt   155.510870\n",
       "                              Private room       71.571429\n",
       "                              Shared room        40.000000\n",
       "Name: price, dtype: float64"
      ]
     },
     "execution_count": 116,
     "metadata": {},
     "output_type": "execute_result"
    }
   ],
   "source": [
    "df.groupby(['neighbourhood_group_cleansed','room_type']).mean()['price']"
   ]
  },
  {
   "cell_type": "markdown",
   "id": "6eb474c2",
   "metadata": {
    "id": "6eb474c2"
   },
   "source": [
    "# Check for multicollinearity"
   ]
  },
  {
   "cell_type": "code",
   "execution_count": 117,
   "id": "c1c82dd3",
   "metadata": {
    "id": "c1c82dd3"
   },
   "outputs": [],
   "source": [
    "df33 = df_final[['minimum_nights', 'maximum_nights', 'minimum_minimum_nights',\n",
    "       'maximum_minimum_nights', 'minimum_maximum_nights',\n",
    "       'maximum_maximum_nights', 'minimum_nights_avg_ntm',\n",
    "       'maximum_nights_avg_ntm' ]]"
   ]
  },
  {
   "cell_type": "code",
   "execution_count": 118,
   "id": "7ce6cfde",
   "metadata": {
    "colab": {
     "base_uri": "https://localhost:8080/",
     "height": 415
    },
    "id": "7ce6cfde",
    "outputId": "d2a98fee-751b-4ec9-ecae-16f4b115f4f5"
   },
   "outputs": [
    {
     "data": {
      "text/plain": [
       "<AxesSubplot:>"
      ]
     },
     "execution_count": 118,
     "metadata": {},
     "output_type": "execute_result"
    },
    {
     "data": {
      "image/png": "[encoded data removed]",
      "text/plain": [
       "<Figure size 504x288 with 2 Axes>"
      ]
     },
     "metadata": {
      "needs_background": "light"
     },
     "output_type": "display_data"
    }
   ],
   "source": [
    "com = df33.corr()\n",
    "mask = np.triu(com)\n",
    "sns.heatmap(df33.corr() , annot = True , mask = mask)"
   ]
  },
  {
   "cell_type": "code",
   "execution_count": 111,
   "id": "2006a1ee",
   "metadata": {
    "id": "2006a1ee"
   },
   "outputs": [],
   "source": [
    "# Here there is a  lot of multicollinearity exists between these columns"
   ]
  },
  {
   "cell_type": "code",
   "execution_count": 119,
   "id": "60b083da",
   "metadata": {
    "id": "60b083da"
   },
   "outputs": [],
   "source": [
    "df44 = df[['availability_30', 'availability_60',\n",
    "       'availability_90', 'availability_365']]"
   ]
  },
  {
   "cell_type": "code",
   "execution_count": 120,
   "id": "932f0d8f",
   "metadata": {
    "colab": {
     "base_uri": "https://localhost:8080/",
     "height": 284
    },
    "id": "932f0d8f",
    "outputId": "872c5fc8-e6ce-46d4-d29a-3f4b7db0034b"
   },
   "outputs": [
    {
     "data": {
      "text/plain": [
       "<AxesSubplot:>"
      ]
     },
     "execution_count": 120,
     "metadata": {},
     "output_type": "execute_result"
    },
    {
     "data": {
      "image/png": "[encoded data removed]",
      "text/plain": [
       "<Figure size 504x288 with 2 Axes>"
      ]
     },
     "metadata": {
      "needs_background": "light"
     },
     "output_type": "display_data"
    }
   ],
   "source": [
    "coa = df44.corr()\n",
    "mask = np.triu(coa )\n",
    "sns.heatmap(df44.corr() , annot = True , mask = mask)"
   ]
  },
  {
   "cell_type": "code",
   "execution_count": 114,
   "id": "b3c7312e",
   "metadata": {
    "id": "b3c7312e"
   },
   "outputs": [],
   "source": [
    "# Here also lot of multicollinearity exists between columns"
   ]
  },
  {
   "cell_type": "code",
   "execution_count": 121,
   "id": "f28c4357",
   "metadata": {
    "colab": {
     "base_uri": "https://localhost:8080/",
     "height": 305
    },
    "id": "f28c4357",
    "outputId": "7ccb90da-4a39-436e-bfec-3605d8c0a63b"
   },
   "outputs": [
    {
     "data": {
      "text/html": [
       "<div>\n",
       "<style scoped>\n",
       "    .dataframe tbody tr th:only-of-type {\n",
       "        vertical-align: middle;\n",
       "    }\n",
       "\n",
       "    .dataframe tbody tr th {\n",
       "        vertical-align: top;\n",
       "    }\n",
       "\n",
       "    .dataframe thead th {\n",
       "        text-align: right;\n",
       "    }\n",
       "</style>\n",
       "<table border=\"1\" class=\"dataframe\">\n",
       "  <thead>\n",
       "    <tr style=\"text-align: right;\">\n",
       "      <th></th>\n",
       "      <th>host_response_rate</th>\n",
       "      <th>host_acceptance_rate</th>\n",
       "      <th>host_total_listings_count</th>\n",
       "      <th>accommodates</th>\n",
       "      <th>bedrooms</th>\n",
       "      <th>beds</th>\n",
       "      <th>minimum_nights</th>\n",
       "      <th>maximum_nights</th>\n",
       "      <th>minimum_minimum_nights</th>\n",
       "      <th>maximum_minimum_nights</th>\n",
       "      <th>minimum_maximum_nights</th>\n",
       "      <th>maximum_maximum_nights</th>\n",
       "      <th>minimum_nights_avg_ntm</th>\n",
       "      <th>maximum_nights_avg_ntm</th>\n",
       "      <th>availability_30</th>\n",
       "      <th>availability_60</th>\n",
       "      <th>availability_90</th>\n",
       "      <th>availability_365</th>\n",
       "      <th>number_of_reviews</th>\n",
       "      <th>number_of_reviews_ltm</th>\n",
       "      <th>review_scores_rating</th>\n",
       "      <th>review_scores_accuracy</th>\n",
       "      <th>review_scores_cleanliness</th>\n",
       "      <th>review_scores_checkin</th>\n",
       "      <th>review_scores_communication</th>\n",
       "      <th>review_scores_location</th>\n",
       "      <th>review_scores_value</th>\n",
       "      <th>calculated_host_listings_count</th>\n",
       "      <th>calculated_host_listings_count_entire_homes</th>\n",
       "      <th>calculated_host_listings_count_private_rooms</th>\n",
       "      <th>calculated_host_listings_count_shared_rooms</th>\n",
       "      <th>reviews_per_month</th>\n",
       "      <th>host_is_superhost</th>\n",
       "      <th>host_identity_verified</th>\n",
       "      <th>neighbourhood_group_cleansed</th>\n",
       "      <th>room_type</th>\n",
       "      <th>bathrooms_text</th>\n",
       "      <th>instant_bookable</th>\n",
       "      <th>price</th>\n",
       "    </tr>\n",
       "  </thead>\n",
       "  <tbody>\n",
       "    <tr>\n",
       "      <th>0</th>\n",
       "      <td>80.000000</td>\n",
       "      <td>73.000000</td>\n",
       "      <td>6.000000</td>\n",
       "      <td>1</td>\n",
       "      <td>1.000000</td>\n",
       "      <td>1.000000</td>\n",
       "      <td>30</td>\n",
       "      <td>1125</td>\n",
       "      <td>30.000000</td>\n",
       "      <td>30.000000</td>\n",
       "      <td>1125.000000</td>\n",
       "      <td>1125.000000</td>\n",
       "      <td>30.000000</td>\n",
       "      <td>1125.000000</td>\n",
       "      <td>3</td>\n",
       "      <td>33</td>\n",
       "      <td>63</td>\n",
       "      <td>338</td>\n",
       "      <td>48</td>\n",
       "      <td>0</td>\n",
       "      <td>4.700000</td>\n",
       "      <td>4.720000</td>\n",
       "      <td>4.620000</td>\n",
       "      <td>4.760000</td>\n",
       "      <td>4.790000</td>\n",
       "      <td>4.860000</td>\n",
       "      <td>4.410000</td>\n",
       "      <td>3</td>\n",
       "      <td>2</td>\n",
       "      <td>0</td>\n",
       "      <td>0</td>\n",
       "      <td>0.330000</td>\n",
       "      <td>f</td>\n",
       "      <td>t</td>\n",
       "      <td>Manhattan</td>\n",
       "      <td>Entire home</td>\n",
       "      <td>baths</td>\n",
       "      <td>f</td>\n",
       "      <td>150.000000</td>\n",
       "    </tr>\n",
       "    <tr>\n",
       "      <th>1</th>\n",
       "      <td>72.682840</td>\n",
       "      <td>73.000000</td>\n",
       "      <td>1.000000</td>\n",
       "      <td>3</td>\n",
       "      <td>1.000000</td>\n",
       "      <td>3.000000</td>\n",
       "      <td>1</td>\n",
       "      <td>730</td>\n",
       "      <td>1.000000</td>\n",
       "      <td>1.000000</td>\n",
       "      <td>730.000000</td>\n",
       "      <td>730.000000</td>\n",
       "      <td>1.000000</td>\n",
       "      <td>730.000000</td>\n",
       "      <td>3</td>\n",
       "      <td>6</td>\n",
       "      <td>18</td>\n",
       "      <td>194</td>\n",
       "      <td>48</td>\n",
       "      <td>7</td>\n",
       "      <td>4.450000</td>\n",
       "      <td>4.580000</td>\n",
       "      <td>4.490000</td>\n",
       "      <td>4.780000</td>\n",
       "      <td>4.800000</td>\n",
       "      <td>4.710000</td>\n",
       "      <td>4.640000</td>\n",
       "      <td>1</td>\n",
       "      <td>1</td>\n",
       "      <td>0</td>\n",
       "      <td>0</td>\n",
       "      <td>2.565000</td>\n",
       "      <td>f</td>\n",
       "      <td>t</td>\n",
       "      <td>Brooklyn</td>\n",
       "      <td>Entire home</td>\n",
       "      <td>baths</td>\n",
       "      <td>f</td>\n",
       "      <td>75.000000</td>\n",
       "    </tr>\n",
       "    <tr>\n",
       "      <th>2</th>\n",
       "      <td>100.000000</td>\n",
       "      <td>100.000000</td>\n",
       "      <td>1.000000</td>\n",
       "      <td>2</td>\n",
       "      <td>1.000000</td>\n",
       "      <td>1.000000</td>\n",
       "      <td>30</td>\n",
       "      <td>730</td>\n",
       "      <td>30.000000</td>\n",
       "      <td>30.000000</td>\n",
       "      <td>730.000000</td>\n",
       "      <td>730.000000</td>\n",
       "      <td>30.000000</td>\n",
       "      <td>730.000000</td>\n",
       "      <td>27</td>\n",
       "      <td>60</td>\n",
       "      <td>90</td>\n",
       "      <td>365</td>\n",
       "      <td>48</td>\n",
       "      <td>0</td>\n",
       "      <td>4.520000</td>\n",
       "      <td>4.500000</td>\n",
       "      <td>4.180000</td>\n",
       "      <td>4.910000</td>\n",
       "      <td>4.910000</td>\n",
       "      <td>4.470000</td>\n",
       "      <td>4.520000</td>\n",
       "      <td>2</td>\n",
       "      <td>0</td>\n",
       "      <td>2</td>\n",
       "      <td>0</td>\n",
       "      <td>0.520000</td>\n",
       "      <td>f</td>\n",
       "      <td>t</td>\n",
       "      <td>Brooklyn</td>\n",
       "      <td>Private room</td>\n",
       "      <td>baths</td>\n",
       "      <td>f</td>\n",
       "      <td>60.000000</td>\n",
       "    </tr>\n",
       "    <tr>\n",
       "      <th>3</th>\n",
       "      <td>100.000000</td>\n",
       "      <td>73.000000</td>\n",
       "      <td>1.000000</td>\n",
       "      <td>4</td>\n",
       "      <td>1.000000</td>\n",
       "      <td>2.000000</td>\n",
       "      <td>5</td>\n",
       "      <td>1125</td>\n",
       "      <td>5.000000</td>\n",
       "      <td>5.000000</td>\n",
       "      <td>1125.000000</td>\n",
       "      <td>1125.000000</td>\n",
       "      <td>5.000000</td>\n",
       "      <td>1125.000000</td>\n",
       "      <td>3</td>\n",
       "      <td>3</td>\n",
       "      <td>12</td>\n",
       "      <td>123</td>\n",
       "      <td>2</td>\n",
       "      <td>1</td>\n",
       "      <td>5.000000</td>\n",
       "      <td>5.000000</td>\n",
       "      <td>5.000000</td>\n",
       "      <td>5.000000</td>\n",
       "      <td>5.000000</td>\n",
       "      <td>4.500000</td>\n",
       "      <td>5.000000</td>\n",
       "      <td>1</td>\n",
       "      <td>1</td>\n",
       "      <td>0</td>\n",
       "      <td>0</td>\n",
       "      <td>0.020000</td>\n",
       "      <td>f</td>\n",
       "      <td>t</td>\n",
       "      <td>Brooklyn</td>\n",
       "      <td>Entire home</td>\n",
       "      <td>baths</td>\n",
       "      <td>f</td>\n",
       "      <td>275.000000</td>\n",
       "    </tr>\n",
       "    <tr>\n",
       "      <th>4</th>\n",
       "      <td>100.000000</td>\n",
       "      <td>100.000000</td>\n",
       "      <td>1.000000</td>\n",
       "      <td>2</td>\n",
       "      <td>1.000000</td>\n",
       "      <td>1.000000</td>\n",
       "      <td>2</td>\n",
       "      <td>14</td>\n",
       "      <td>2.000000</td>\n",
       "      <td>2.000000</td>\n",
       "      <td>14.000000</td>\n",
       "      <td>14.000000</td>\n",
       "      <td>2.000000</td>\n",
       "      <td>14.000000</td>\n",
       "      <td>1</td>\n",
       "      <td>16</td>\n",
       "      <td>34</td>\n",
       "      <td>192</td>\n",
       "      <td>48</td>\n",
       "      <td>7</td>\n",
       "      <td>4.250000</td>\n",
       "      <td>4.500000</td>\n",
       "      <td>4.180000</td>\n",
       "      <td>4.700000</td>\n",
       "      <td>4.725000</td>\n",
       "      <td>4.870000</td>\n",
       "      <td>4.360000</td>\n",
       "      <td>1</td>\n",
       "      <td>0</td>\n",
       "      <td>1</td>\n",
       "      <td>0</td>\n",
       "      <td>2.565000</td>\n",
       "      <td>f</td>\n",
       "      <td>f</td>\n",
       "      <td>Manhattan</td>\n",
       "      <td>Private room</td>\n",
       "      <td>baths</td>\n",
       "      <td>f</td>\n",
       "      <td>68.000000</td>\n",
       "    </tr>\n",
       "  </tbody>\n",
       "</table>\n",
       "</div>"
      ],
      "text/plain": [
       "   host_response_rate  host_acceptance_rate  host_total_listings_count  \\\n",
       "0           80.000000             73.000000                   6.000000   \n",
       "1           72.682840             73.000000                   1.000000   \n",
       "2          100.000000            100.000000                   1.000000   \n",
       "3          100.000000             73.000000                   1.000000   \n",
       "4          100.000000            100.000000                   1.000000   \n",
       "\n",
       "   accommodates  bedrooms     beds  minimum_nights  maximum_nights  \\\n",
       "0             1  1.000000 1.000000              30            1125   \n",
       "1             3  1.000000 3.000000               1             730   \n",
       "2             2  1.000000 1.000000              30             730   \n",
       "3             4  1.000000 2.000000               5            1125   \n",
       "4             2  1.000000 1.000000               2              14   \n",
       "\n",
       "   minimum_minimum_nights  maximum_minimum_nights  minimum_maximum_nights  \\\n",
       "0               30.000000               30.000000             1125.000000   \n",
       "1                1.000000                1.000000              730.000000   \n",
       "2               30.000000               30.000000              730.000000   \n",
       "3                5.000000                5.000000             1125.000000   \n",
       "4                2.000000                2.000000               14.000000   \n",
       "\n",
       "   maximum_maximum_nights  minimum_nights_avg_ntm  maximum_nights_avg_ntm  \\\n",
       "0             1125.000000               30.000000             1125.000000   \n",
       "1              730.000000                1.000000              730.000000   \n",
       "2              730.000000               30.000000              730.000000   \n",
       "3             1125.000000                5.000000             1125.000000   \n",
       "4               14.000000                2.000000               14.000000   \n",
       "\n",
       "   availability_30  availability_60  availability_90  availability_365  \\\n",
       "0                3               33               63               338   \n",
       "1                3                6               18               194   \n",
       "2               27               60               90               365   \n",
       "3                3                3               12               123   \n",
       "4                1               16               34               192   \n",
       "\n",
       "   number_of_reviews  number_of_reviews_ltm  review_scores_rating  \\\n",
       "0                 48                      0              4.700000   \n",
       "1                 48                      7              4.450000   \n",
       "2                 48                      0              4.520000   \n",
       "3                  2                      1              5.000000   \n",
       "4                 48                      7              4.250000   \n",
       "\n",
       "   review_scores_accuracy  review_scores_cleanliness  review_scores_checkin  \\\n",
       "0                4.720000                   4.620000               4.760000   \n",
       "1                4.580000                   4.490000               4.780000   \n",
       "2                4.500000                   4.180000               4.910000   \n",
       "3                5.000000                   5.000000               5.000000   \n",
       "4                4.500000                   4.180000               4.700000   \n",
       "\n",
       "   review_scores_communication  review_scores_location  review_scores_value  \\\n",
       "0                     4.790000                4.860000             4.410000   \n",
       "1                     4.800000                4.710000             4.640000   \n",
       "2                     4.910000                4.470000             4.520000   \n",
       "3                     5.000000                4.500000             5.000000   \n",
       "4                     4.725000                4.870000             4.360000   \n",
       "\n",
       "   calculated_host_listings_count  \\\n",
       "0                               3   \n",
       "1                               1   \n",
       "2                               2   \n",
       "3                               1   \n",
       "4                               1   \n",
       "\n",
       "   calculated_host_listings_count_entire_homes  \\\n",
       "0                                            2   \n",
       "1                                            1   \n",
       "2                                            0   \n",
       "3                                            1   \n",
       "4                                            0   \n",
       "\n",
       "   calculated_host_listings_count_private_rooms  \\\n",
       "0                                             0   \n",
       "1                                             0   \n",
       "2                                             2   \n",
       "3                                             0   \n",
       "4                                             1   \n",
       "\n",
       "   calculated_host_listings_count_shared_rooms  reviews_per_month  \\\n",
       "0                                            0           0.330000   \n",
       "1                                            0           2.565000   \n",
       "2                                            0           0.520000   \n",
       "3                                            0           0.020000   \n",
       "4                                            0           2.565000   \n",
       "\n",
       "  host_is_superhost host_identity_verified neighbourhood_group_cleansed  \\\n",
       "0                 f                      t                    Manhattan   \n",
       "1                 f                      t                     Brooklyn   \n",
       "2                 f                      t                     Brooklyn   \n",
       "3                 f                      t                     Brooklyn   \n",
       "4                 f                      f                    Manhattan   \n",
       "\n",
       "      room_type bathrooms_text instant_bookable      price  \n",
       "0   Entire home          baths                f 150.000000  \n",
       "1   Entire home          baths                f  75.000000  \n",
       "2  Private room          baths                f  60.000000  \n",
       "3   Entire home          baths                f 275.000000  \n",
       "4  Private room          baths                f  68.000000  "
      ]
     },
     "execution_count": 121,
     "metadata": {},
     "output_type": "execute_result"
    }
   ],
   "source": [
    "df_final.head()"
   ]
  },
  {
   "cell_type": "markdown",
   "id": "c48c41f3",
   "metadata": {
    "id": "c48c41f3"
   },
   "source": [
    "# Statistical tests"
   ]
  },
  {
   "cell_type": "code",
   "execution_count": 116,
   "id": "51c68768",
   "metadata": {
    "id": "51c68768"
   },
   "outputs": [],
   "source": [
    "# Statistical tests are used to prove the dependency of independent variable on target variable "
   ]
  },
  {
   "cell_type": "code",
   "execution_count": 122,
   "id": "fefc0809",
   "metadata": {
    "colab": {
     "base_uri": "https://localhost:8080/"
    },
    "id": "fefc0809",
    "outputId": "55165dfc-e070-4f82-92ea-1d883d9be2cd"
   },
   "outputs": [
    {
     "data": {
      "text/plain": [
       "baths              23805\n",
       "shared_bathroom    11703\n",
       "private_bath        2769\n",
       "Name: bathrooms_text, dtype: int64"
      ]
     },
     "execution_count": 122,
     "metadata": {},
     "output_type": "execute_result"
    }
   ],
   "source": [
    "df_final['bathrooms_text'].value_counts()"
   ]
  },
  {
   "cell_type": "markdown",
   "id": "ce382d55",
   "metadata": {
    "id": "ce382d55"
   },
   "source": [
    "# One way annova"
   ]
  },
  {
   "cell_type": "code",
   "execution_count": 123,
   "id": "mZET-NiL1BW5",
   "metadata": {
    "colab": {
     "base_uri": "https://localhost:8080/"
    },
    "id": "mZET-NiL1BW5",
    "outputId": "1eb9831c-b840-4af5-aff0-dd77ae8d7dd9"
   },
   "outputs": [
    {
     "data": {
      "text/plain": [
       "Index(['host_response_rate', 'host_acceptance_rate',\n",
       "       'host_total_listings_count', 'accommodates', 'bedrooms', 'beds',\n",
       "       'minimum_nights', 'maximum_nights', 'minimum_minimum_nights',\n",
       "       'maximum_minimum_nights', 'minimum_maximum_nights',\n",
       "       'maximum_maximum_nights', 'minimum_nights_avg_ntm',\n",
       "       'maximum_nights_avg_ntm', 'availability_30', 'availability_60',\n",
       "       'availability_90', 'availability_365', 'number_of_reviews',\n",
       "       'number_of_reviews_ltm', 'review_scores_rating',\n",
       "       'review_scores_accuracy', 'review_scores_cleanliness',\n",
       "       'review_scores_checkin', 'review_scores_communication',\n",
       "       'review_scores_location', 'review_scores_value',\n",
       "       'calculated_host_listings_count',\n",
       "       'calculated_host_listings_count_entire_homes',\n",
       "       'calculated_host_listings_count_private_rooms',\n",
       "       'calculated_host_listings_count_shared_rooms', 'reviews_per_month',\n",
       "       'host_is_superhost', 'host_identity_verified',\n",
       "       'neighbourhood_group_cleansed', 'room_type', 'bathrooms_text',\n",
       "       'instant_bookable', 'price'],\n",
       "      dtype='object')"
      ]
     },
     "execution_count": 123,
     "metadata": {},
     "output_type": "execute_result"
    }
   ],
   "source": [
    "df_final=pd.concat([df_new,df_target],axis=1)\n",
    "df_final.columns"
   ]
  },
  {
   "cell_type": "code",
   "execution_count": 124,
   "id": "f1c43e4a",
   "metadata": {
    "id": "f1c43e4a"
   },
   "outputs": [],
   "source": [
    "bath = df_final[df_final['bathrooms_text'] == 'baths']['price']\n",
    "sbath = df_final[df_final['bathrooms_text'] == 'shared_bathroom']['price']\n",
    "pbath = df_final[df_final['bathrooms_text'] == 'private_bath']['price']"
   ]
  },
  {
   "cell_type": "code",
   "execution_count": 125,
   "id": "5fbc4cf3",
   "metadata": {
    "id": "5fbc4cf3"
   },
   "outputs": [],
   "source": [
    "import scipy.stats as stats"
   ]
  },
  {
   "cell_type": "code",
   "execution_count": 126,
   "id": "d7f1af86",
   "metadata": {
    "colab": {
     "base_uri": "https://localhost:8080/"
    },
    "id": "d7f1af86",
    "outputId": "01384ea3-c5c5-4e83-b849-ad8330d14be6"
   },
   "outputs": [
    {
     "name": "stdout",
     "output_type": "stream",
     "text": [
      "P_value 1.218925448838764e-289\n",
      "p_val is less than significance level so reject null All the sample means are equal\n",
      "Accept alternate Atleast one sample mean is different\n"
     ]
    }
   ],
   "source": [
    "HN = 'All the sample means are equal'\n",
    "HA = 'Atleast one sample mean is different'\n",
    "stat , p_val =stats.f_oneway(bath , sbath ,pbath)\n",
    "print('P_value' , p_val)\n",
    "print('p_val is less than significance level so reject null' , HN )\n",
    "print('Accept alternate' , HA)"
   ]
  },
  {
   "cell_type": "code",
   "execution_count": 127,
   "id": "11fe5d09",
   "metadata": {
    "colab": {
     "base_uri": "https://localhost:8080/",
     "height": 297
    },
    "id": "11fe5d09",
    "outputId": "d743306b-92f1-4b5a-cdad-e46f08b00780"
   },
   "outputs": [
    {
     "data": {
      "text/plain": [
       "<AxesSubplot:xlabel='price', ylabel='Density'>"
      ]
     },
     "execution_count": 127,
     "metadata": {},
     "output_type": "execute_result"
    },
    {
     "data": {
      "image/png": "[encoded data removed]",
      "text/plain": [
       "<Figure size 504x288 with 1 Axes>"
      ]
     },
     "metadata": {
      "needs_background": "light"
     },
     "output_type": "display_data"
    }
   ],
   "source": [
    "sns.distplot(bath , color = 'red')\n",
    "sns.distplot(sbath , color = 'yellow')\n",
    "sns.distplot(pbath)"
   ]
  },
  {
   "cell_type": "code",
   "execution_count": 128,
   "id": "567a50d4",
   "metadata": {
    "id": "567a50d4"
   },
   "outputs": [],
   "source": [
    "# Clearly we can see the price is varying based up on bathrooms\n",
    "# Shared bathrom the price is low"
   ]
  },
  {
   "cell_type": "code",
   "execution_count": 129,
   "id": "26b11e76",
   "metadata": {
    "id": "26b11e76"
   },
   "outputs": [],
   "source": [
    "# Price based upon location"
   ]
  },
  {
   "cell_type": "code",
   "execution_count": 130,
   "id": "0596e954",
   "metadata": {
    "colab": {
     "base_uri": "https://localhost:8080/"
    },
    "id": "0596e954",
    "outputId": "f9695f93-9b37-42df-ae73-9336fb1b2fde"
   },
   "outputs": [
    {
     "data": {
      "text/plain": [
       "Manhattan        16781\n",
       "Brooklyn         14716\n",
       "Queens            5323\n",
       "Bronx             1104\n",
       "Staten Island      353\n",
       "Name: neighbourhood_group_cleansed, dtype: int64"
      ]
     },
     "execution_count": 130,
     "metadata": {},
     "output_type": "execute_result"
    }
   ],
   "source": [
    "df_final['neighbourhood_group_cleansed'].value_counts()"
   ]
  },
  {
   "cell_type": "code",
   "execution_count": 131,
   "id": "b20a92b1",
   "metadata": {
    "id": "b20a92b1"
   },
   "outputs": [],
   "source": [
    "Man = df_final[df_final['neighbourhood_group_cleansed'] == 'Manhattan']['price']\n",
    "Brooklyn = df_final[df_final['neighbourhood_group_cleansed'] == 'Brooklyn']['price']\n",
    "Queens = df_final[df_final['neighbourhood_group_cleansed'] == 'Queens']['price']\n",
    "Bronx = df_final[df_final['neighbourhood_group_cleansed'] == 'Bronx']['price']\n",
    "Staten = df_final[df_final['neighbourhood_group_cleansed'] == 'Staten Island']['price']"
   ]
  },
  {
   "cell_type": "code",
   "execution_count": 132,
   "id": "c582ee45",
   "metadata": {
    "colab": {
     "base_uri": "https://localhost:8080/"
    },
    "id": "c582ee45",
    "outputId": "2fb9dba6-8a35-456a-ff50-3529cd7d205d"
   },
   "outputs": [
    {
     "name": "stdout",
     "output_type": "stream",
     "text": [
      "P_value 2.8999651277351186e-192\n",
      "p_val is less than significance level so reject null All the sample means are equal\n",
      "Accept alternate Atleast one sample mean is different\n"
     ]
    }
   ],
   "source": [
    "HN = 'All the sample means are equal'\n",
    "HA = 'Atleast one sample mean is different'\n",
    "stat , p_val =stats.f_oneway(Man , Brooklyn , Queens , Bronx , Staten)\n",
    "print('P_value' , p_val)\n",
    "print('p_val is less than significance level so reject null' , HN )\n",
    "print('Accept alternate' , HA)"
   ]
  },
  {
   "cell_type": "code",
   "execution_count": 133,
   "id": "e8f776da",
   "metadata": {
    "colab": {
     "base_uri": "https://localhost:8080/",
     "height": 297
    },
    "id": "e8f776da",
    "outputId": "01ca771f-ce76-4657-8b02-32523c4db028"
   },
   "outputs": [
    {
     "data": {
      "text/plain": [
       "<matplotlib.legend.Legend at 0x19e01b15eb0>"
      ]
     },
     "execution_count": 133,
     "metadata": {},
     "output_type": "execute_result"
    },
    {
     "data": {
      "image/png": "[encoded data removed]",
      "text/plain": [
       "<Figure size 504x288 with 1 Axes>"
      ]
     },
     "metadata": {
      "needs_background": "light"
     },
     "output_type": "display_data"
    }
   ],
   "source": [
    "sns.distplot(df_final[df_final['neighbourhood_group_cleansed']=='Manhattan']['price'],color='m' ,label = 'Manhattan' )\n",
    "sns.distplot(df_final[df_final['neighbourhood_group_cleansed']=='Brooklyn']['price'],color='b' , label = 'Brooklyn')\n",
    "sns.distplot(df_final[df_final['neighbourhood_group_cleansed']=='Queens']['price'],color='black' , label = 'Queens')\n",
    "sns.distplot(df_final[df_final['neighbourhood_group_cleansed']=='Bronx']['price'],color='y' , label ='Bronx')\n",
    "sns.distplot(df_final[df_final['neighbourhood_group_cleansed']=='Staten Island']['price'],color='r' , label = 'Staten Island')\n",
    "plt.legend()"
   ]
  },
  {
   "cell_type": "markdown",
   "id": "f4a95af4",
   "metadata": {
    "id": "f4a95af4"
   },
   "source": [
    "# 2 Sample t_test"
   ]
  },
  {
   "cell_type": "code",
   "execution_count": 134,
   "id": "5b94495f",
   "metadata": {
    "id": "5b94495f"
   },
   "outputs": [],
   "source": [
    "df_dom =df[df['host_is_superhost'] == 'f']['price']\n",
    "df_dum = df[df['host_is_superhost'] == 't']['price']"
   ]
  },
  {
   "cell_type": "code",
   "execution_count": 135,
   "id": "3b10315d",
   "metadata": {
    "colab": {
     "base_uri": "https://localhost:8080/",
     "height": 297
    },
    "id": "3b10315d",
    "outputId": "593f5597-64ab-4f25-82c9-c2c2e68496f1"
   },
   "outputs": [
    {
     "data": {
      "text/plain": [
       "<AxesSubplot:xlabel='price', ylabel='Density'>"
      ]
     },
     "execution_count": 135,
     "metadata": {},
     "output_type": "execute_result"
    },
    {
     "data": {
      "image/png": "[encoded data removed]",
      "text/plain": [
       "<Figure size 504x288 with 1 Axes>"
      ]
     },
     "metadata": {
      "needs_background": "light"
     },
     "output_type": "display_data"
    }
   ],
   "source": [
    "sns.distplot(df_dum , color = 'yellow')\n",
    "sns.distplot(df_dom)"
   ]
  },
  {
   "cell_type": "code",
   "execution_count": 136,
   "id": "e0eafd49",
   "metadata": {
    "colab": {
     "base_uri": "https://localhost:8080/"
    },
    "id": "e0eafd49",
    "outputId": "116fb6e2-5601-4675-fff7-664686983ec1"
   },
   "outputs": [
    {
     "name": "stdout",
     "output_type": "stream",
     "text": [
      "LeveneResult(statistic=10.555526499039635, pvalue=0.0011594118582387688)\n",
      "p_val less than 0.5 so reject null \n",
      "varibales doesnt have equal variance\n"
     ]
    }
   ],
   "source": [
    "import scipy.stats as stats\n",
    "print(stats.levene(df_dom , df_dum))\n",
    "print('p_val less than 0.5 so reject null ')\n",
    "print('varibales doesnt have equal variance')"
   ]
  },
  {
   "cell_type": "code",
   "execution_count": 137,
   "id": "3937264d",
   "metadata": {
    "colab": {
     "base_uri": "https://localhost:8080/"
    },
    "id": "3937264d",
    "outputId": "ee973718-8c52-48cc-cca2-5b916f0e2e4c"
   },
   "outputs": [
    {
     "name": "stdout",
     "output_type": "stream",
     "text": [
      "ShapiroResult(statistic=0.270064115524292, pvalue=0.0)\n",
      "ShapiroResult(statistic=0.4581143856048584, pvalue=0.0)\n",
      "p_value is <0.5 so reject null data is not normal\n"
     ]
    }
   ],
   "source": [
    "print(stats.shapiro(df_dom ))\n",
    "print(stats.shapiro(df_dum))\n",
    "print('p_value is <0.5 so reject null data is not normal')"
   ]
  },
  {
   "cell_type": "code",
   "execution_count": 138,
   "id": "67af4584",
   "metadata": {
    "id": "67af4584"
   },
   "outputs": [],
   "source": [
    "# It is a non_parametric test\n",
    "HN = 'mu(t) = Mu(f)'\n",
    "HA = 'mu(t) != Mu(f)'"
   ]
  },
  {
   "cell_type": "code",
   "execution_count": 139,
   "id": "92370e02",
   "metadata": {
    "colab": {
     "base_uri": "https://localhost:8080/"
    },
    "id": "92370e02",
    "outputId": "68230ee5-cd48-4f17-9ded-765a458cf04a"
   },
   "outputs": [
    {
     "name": "stdout",
     "output_type": "stream",
     "text": [
      "Ttest_indResult(statistic=1.4083683776346778, pvalue=0.1590301476571377)\n",
      "p_value greater than 0.5 so fail to reject null\n",
      "Means are not varying much\n"
     ]
    }
   ],
   "source": [
    "print(stats.ttest_ind(df_dom , df_dum))\n",
    "print('p_value greater than 0.5 so fail to reject null')\n",
    "print('Means are not varying much')"
   ]
  },
  {
   "cell_type": "code",
   "execution_count": 140,
   "id": "6b638e18",
   "metadata": {
    "id": "6b638e18"
   },
   "outputs": [
    {
     "data": {
      "text/html": [
       "<div>\n",
       "<style scoped>\n",
       "    .dataframe tbody tr th:only-of-type {\n",
       "        vertical-align: middle;\n",
       "    }\n",
       "\n",
       "    .dataframe tbody tr th {\n",
       "        vertical-align: top;\n",
       "    }\n",
       "\n",
       "    .dataframe thead th {\n",
       "        text-align: right;\n",
       "    }\n",
       "</style>\n",
       "<table border=\"1\" class=\"dataframe\">\n",
       "  <thead>\n",
       "    <tr style=\"text-align: right;\">\n",
       "      <th></th>\n",
       "      <th>host_response_rate</th>\n",
       "      <th>host_acceptance_rate</th>\n",
       "      <th>host_total_listings_count</th>\n",
       "      <th>accommodates</th>\n",
       "      <th>bedrooms</th>\n",
       "      <th>beds</th>\n",
       "      <th>minimum_nights</th>\n",
       "      <th>maximum_nights</th>\n",
       "      <th>minimum_minimum_nights</th>\n",
       "      <th>maximum_minimum_nights</th>\n",
       "      <th>minimum_maximum_nights</th>\n",
       "      <th>maximum_maximum_nights</th>\n",
       "      <th>minimum_nights_avg_ntm</th>\n",
       "      <th>maximum_nights_avg_ntm</th>\n",
       "      <th>availability_30</th>\n",
       "      <th>availability_60</th>\n",
       "      <th>availability_90</th>\n",
       "      <th>availability_365</th>\n",
       "      <th>number_of_reviews</th>\n",
       "      <th>number_of_reviews_ltm</th>\n",
       "      <th>review_scores_rating</th>\n",
       "      <th>review_scores_accuracy</th>\n",
       "      <th>review_scores_cleanliness</th>\n",
       "      <th>review_scores_checkin</th>\n",
       "      <th>review_scores_communication</th>\n",
       "      <th>review_scores_location</th>\n",
       "      <th>review_scores_value</th>\n",
       "      <th>calculated_host_listings_count</th>\n",
       "      <th>calculated_host_listings_count_entire_homes</th>\n",
       "      <th>calculated_host_listings_count_private_rooms</th>\n",
       "      <th>calculated_host_listings_count_shared_rooms</th>\n",
       "      <th>reviews_per_month</th>\n",
       "      <th>host_is_superhost</th>\n",
       "      <th>host_identity_verified</th>\n",
       "      <th>neighbourhood_group_cleansed</th>\n",
       "      <th>room_type</th>\n",
       "      <th>bathrooms_text</th>\n",
       "      <th>instant_bookable</th>\n",
       "    </tr>\n",
       "  </thead>\n",
       "  <tbody>\n",
       "    <tr>\n",
       "      <th>0</th>\n",
       "      <td>80.000000</td>\n",
       "      <td>73.000000</td>\n",
       "      <td>6.000000</td>\n",
       "      <td>1</td>\n",
       "      <td>1.000000</td>\n",
       "      <td>1.000000</td>\n",
       "      <td>30</td>\n",
       "      <td>1125</td>\n",
       "      <td>30.000000</td>\n",
       "      <td>30.000000</td>\n",
       "      <td>1125.000000</td>\n",
       "      <td>1125.000000</td>\n",
       "      <td>30.000000</td>\n",
       "      <td>1125.000000</td>\n",
       "      <td>3</td>\n",
       "      <td>33</td>\n",
       "      <td>63</td>\n",
       "      <td>338</td>\n",
       "      <td>48</td>\n",
       "      <td>0</td>\n",
       "      <td>4.700000</td>\n",
       "      <td>4.720000</td>\n",
       "      <td>4.620000</td>\n",
       "      <td>4.760000</td>\n",
       "      <td>4.790000</td>\n",
       "      <td>4.860000</td>\n",
       "      <td>4.410000</td>\n",
       "      <td>3</td>\n",
       "      <td>2</td>\n",
       "      <td>0</td>\n",
       "      <td>0</td>\n",
       "      <td>0.330000</td>\n",
       "      <td>f</td>\n",
       "      <td>t</td>\n",
       "      <td>Manhattan</td>\n",
       "      <td>Entire home</td>\n",
       "      <td>baths</td>\n",
       "      <td>f</td>\n",
       "    </tr>\n",
       "    <tr>\n",
       "      <th>1</th>\n",
       "      <td>72.682840</td>\n",
       "      <td>73.000000</td>\n",
       "      <td>1.000000</td>\n",
       "      <td>3</td>\n",
       "      <td>1.000000</td>\n",
       "      <td>3.000000</td>\n",
       "      <td>1</td>\n",
       "      <td>730</td>\n",
       "      <td>1.000000</td>\n",
       "      <td>1.000000</td>\n",
       "      <td>730.000000</td>\n",
       "      <td>730.000000</td>\n",
       "      <td>1.000000</td>\n",
       "      <td>730.000000</td>\n",
       "      <td>3</td>\n",
       "      <td>6</td>\n",
       "      <td>18</td>\n",
       "      <td>194</td>\n",
       "      <td>48</td>\n",
       "      <td>7</td>\n",
       "      <td>4.450000</td>\n",
       "      <td>4.580000</td>\n",
       "      <td>4.490000</td>\n",
       "      <td>4.780000</td>\n",
       "      <td>4.800000</td>\n",
       "      <td>4.710000</td>\n",
       "      <td>4.640000</td>\n",
       "      <td>1</td>\n",
       "      <td>1</td>\n",
       "      <td>0</td>\n",
       "      <td>0</td>\n",
       "      <td>2.565000</td>\n",
       "      <td>f</td>\n",
       "      <td>t</td>\n",
       "      <td>Brooklyn</td>\n",
       "      <td>Entire home</td>\n",
       "      <td>baths</td>\n",
       "      <td>f</td>\n",
       "    </tr>\n",
       "    <tr>\n",
       "      <th>2</th>\n",
       "      <td>100.000000</td>\n",
       "      <td>100.000000</td>\n",
       "      <td>1.000000</td>\n",
       "      <td>2</td>\n",
       "      <td>1.000000</td>\n",
       "      <td>1.000000</td>\n",
       "      <td>30</td>\n",
       "      <td>730</td>\n",
       "      <td>30.000000</td>\n",
       "      <td>30.000000</td>\n",
       "      <td>730.000000</td>\n",
       "      <td>730.000000</td>\n",
       "      <td>30.000000</td>\n",
       "      <td>730.000000</td>\n",
       "      <td>27</td>\n",
       "      <td>60</td>\n",
       "      <td>90</td>\n",
       "      <td>365</td>\n",
       "      <td>48</td>\n",
       "      <td>0</td>\n",
       "      <td>4.520000</td>\n",
       "      <td>4.500000</td>\n",
       "      <td>4.180000</td>\n",
       "      <td>4.910000</td>\n",
       "      <td>4.910000</td>\n",
       "      <td>4.470000</td>\n",
       "      <td>4.520000</td>\n",
       "      <td>2</td>\n",
       "      <td>0</td>\n",
       "      <td>2</td>\n",
       "      <td>0</td>\n",
       "      <td>0.520000</td>\n",
       "      <td>f</td>\n",
       "      <td>t</td>\n",
       "      <td>Brooklyn</td>\n",
       "      <td>Private room</td>\n",
       "      <td>baths</td>\n",
       "      <td>f</td>\n",
       "    </tr>\n",
       "    <tr>\n",
       "      <th>3</th>\n",
       "      <td>100.000000</td>\n",
       "      <td>73.000000</td>\n",
       "      <td>1.000000</td>\n",
       "      <td>4</td>\n",
       "      <td>1.000000</td>\n",
       "      <td>2.000000</td>\n",
       "      <td>5</td>\n",
       "      <td>1125</td>\n",
       "      <td>5.000000</td>\n",
       "      <td>5.000000</td>\n",
       "      <td>1125.000000</td>\n",
       "      <td>1125.000000</td>\n",
       "      <td>5.000000</td>\n",
       "      <td>1125.000000</td>\n",
       "      <td>3</td>\n",
       "      <td>3</td>\n",
       "      <td>12</td>\n",
       "      <td>123</td>\n",
       "      <td>2</td>\n",
       "      <td>1</td>\n",
       "      <td>5.000000</td>\n",
       "      <td>5.000000</td>\n",
       "      <td>5.000000</td>\n",
       "      <td>5.000000</td>\n",
       "      <td>5.000000</td>\n",
       "      <td>4.500000</td>\n",
       "      <td>5.000000</td>\n",
       "      <td>1</td>\n",
       "      <td>1</td>\n",
       "      <td>0</td>\n",
       "      <td>0</td>\n",
       "      <td>0.020000</td>\n",
       "      <td>f</td>\n",
       "      <td>t</td>\n",
       "      <td>Brooklyn</td>\n",
       "      <td>Entire home</td>\n",
       "      <td>baths</td>\n",
       "      <td>f</td>\n",
       "    </tr>\n",
       "    <tr>\n",
       "      <th>4</th>\n",
       "      <td>100.000000</td>\n",
       "      <td>100.000000</td>\n",
       "      <td>1.000000</td>\n",
       "      <td>2</td>\n",
       "      <td>1.000000</td>\n",
       "      <td>1.000000</td>\n",
       "      <td>2</td>\n",
       "      <td>14</td>\n",
       "      <td>2.000000</td>\n",
       "      <td>2.000000</td>\n",
       "      <td>14.000000</td>\n",
       "      <td>14.000000</td>\n",
       "      <td>2.000000</td>\n",
       "      <td>14.000000</td>\n",
       "      <td>1</td>\n",
       "      <td>16</td>\n",
       "      <td>34</td>\n",
       "      <td>192</td>\n",
       "      <td>48</td>\n",
       "      <td>7</td>\n",
       "      <td>4.250000</td>\n",
       "      <td>4.500000</td>\n",
       "      <td>4.180000</td>\n",
       "      <td>4.700000</td>\n",
       "      <td>4.725000</td>\n",
       "      <td>4.870000</td>\n",
       "      <td>4.360000</td>\n",
       "      <td>1</td>\n",
       "      <td>0</td>\n",
       "      <td>1</td>\n",
       "      <td>0</td>\n",
       "      <td>2.565000</td>\n",
       "      <td>f</td>\n",
       "      <td>f</td>\n",
       "      <td>Manhattan</td>\n",
       "      <td>Private room</td>\n",
       "      <td>baths</td>\n",
       "      <td>f</td>\n",
       "    </tr>\n",
       "  </tbody>\n",
       "</table>\n",
       "</div>"
      ],
      "text/plain": [
       "   host_response_rate  host_acceptance_rate  host_total_listings_count  \\\n",
       "0           80.000000             73.000000                   6.000000   \n",
       "1           72.682840             73.000000                   1.000000   \n",
       "2          100.000000            100.000000                   1.000000   \n",
       "3          100.000000             73.000000                   1.000000   \n",
       "4          100.000000            100.000000                   1.000000   \n",
       "\n",
       "   accommodates  bedrooms     beds  minimum_nights  maximum_nights  \\\n",
       "0             1  1.000000 1.000000              30            1125   \n",
       "1             3  1.000000 3.000000               1             730   \n",
       "2             2  1.000000 1.000000              30             730   \n",
       "3             4  1.000000 2.000000               5            1125   \n",
       "4             2  1.000000 1.000000               2              14   \n",
       "\n",
       "   minimum_minimum_nights  maximum_minimum_nights  minimum_maximum_nights  \\\n",
       "0               30.000000               30.000000             1125.000000   \n",
       "1                1.000000                1.000000              730.000000   \n",
       "2               30.000000               30.000000              730.000000   \n",
       "3                5.000000                5.000000             1125.000000   \n",
       "4                2.000000                2.000000               14.000000   \n",
       "\n",
       "   maximum_maximum_nights  minimum_nights_avg_ntm  maximum_nights_avg_ntm  \\\n",
       "0             1125.000000               30.000000             1125.000000   \n",
       "1              730.000000                1.000000              730.000000   \n",
       "2              730.000000               30.000000              730.000000   \n",
       "3             1125.000000                5.000000             1125.000000   \n",
       "4               14.000000                2.000000               14.000000   \n",
       "\n",
       "   availability_30  availability_60  availability_90  availability_365  \\\n",
       "0                3               33               63               338   \n",
       "1                3                6               18               194   \n",
       "2               27               60               90               365   \n",
       "3                3                3               12               123   \n",
       "4                1               16               34               192   \n",
       "\n",
       "   number_of_reviews  number_of_reviews_ltm  review_scores_rating  \\\n",
       "0                 48                      0              4.700000   \n",
       "1                 48                      7              4.450000   \n",
       "2                 48                      0              4.520000   \n",
       "3                  2                      1              5.000000   \n",
       "4                 48                      7              4.250000   \n",
       "\n",
       "   review_scores_accuracy  review_scores_cleanliness  review_scores_checkin  \\\n",
       "0                4.720000                   4.620000               4.760000   \n",
       "1                4.580000                   4.490000               4.780000   \n",
       "2                4.500000                   4.180000               4.910000   \n",
       "3                5.000000                   5.000000               5.000000   \n",
       "4                4.500000                   4.180000               4.700000   \n",
       "\n",
       "   review_scores_communication  review_scores_location  review_scores_value  \\\n",
       "0                     4.790000                4.860000             4.410000   \n",
       "1                     4.800000                4.710000             4.640000   \n",
       "2                     4.910000                4.470000             4.520000   \n",
       "3                     5.000000                4.500000             5.000000   \n",
       "4                     4.725000                4.870000             4.360000   \n",
       "\n",
       "   calculated_host_listings_count  \\\n",
       "0                               3   \n",
       "1                               1   \n",
       "2                               2   \n",
       "3                               1   \n",
       "4                               1   \n",
       "\n",
       "   calculated_host_listings_count_entire_homes  \\\n",
       "0                                            2   \n",
       "1                                            1   \n",
       "2                                            0   \n",
       "3                                            1   \n",
       "4                                            0   \n",
       "\n",
       "   calculated_host_listings_count_private_rooms  \\\n",
       "0                                             0   \n",
       "1                                             0   \n",
       "2                                             2   \n",
       "3                                             0   \n",
       "4                                             1   \n",
       "\n",
       "   calculated_host_listings_count_shared_rooms  reviews_per_month  \\\n",
       "0                                            0           0.330000   \n",
       "1                                            0           2.565000   \n",
       "2                                            0           0.520000   \n",
       "3                                            0           0.020000   \n",
       "4                                            0           2.565000   \n",
       "\n",
       "  host_is_superhost host_identity_verified neighbourhood_group_cleansed  \\\n",
       "0                 f                      t                    Manhattan   \n",
       "1                 f                      t                     Brooklyn   \n",
       "2                 f                      t                     Brooklyn   \n",
       "3                 f                      t                     Brooklyn   \n",
       "4                 f                      f                    Manhattan   \n",
       "\n",
       "      room_type bathrooms_text instant_bookable  \n",
       "0   Entire home          baths                f  \n",
       "1   Entire home          baths                f  \n",
       "2  Private room          baths                f  \n",
       "3   Entire home          baths                f  \n",
       "4  Private room          baths                f  "
      ]
     },
     "execution_count": 140,
     "metadata": {},
     "output_type": "execute_result"
    }
   ],
   "source": [
    "df_new.head()"
   ]
  },
  {
   "cell_type": "code",
   "execution_count": 141,
   "id": "2b7954a3",
   "metadata": {
    "id": "2b7954a3"
   },
   "outputs": [],
   "source": [
    "#df_new.drop('host_is_superhost' , axis = 1 , inplace = True)"
   ]
  },
  {
   "cell_type": "code",
   "execution_count": 142,
   "id": "4cbcc16f",
   "metadata": {
    "id": "4cbcc16f"
   },
   "outputs": [],
   "source": [
    "# Numerical vs Numerical\n",
    "HN = 'Variables doesnot have corelation'\n",
    "HA = 'Variables are corelated'"
   ]
  },
  {
   "cell_type": "code",
   "execution_count": 143,
   "id": "438e6081",
   "metadata": {
    "colab": {
     "base_uri": "https://localhost:8080/"
    },
    "id": "438e6081",
    "outputId": "8cde90d2-c857-4425-e97c-a085e25030ec"
   },
   "outputs": [
    {
     "name": "stdout",
     "output_type": "stream",
     "text": [
      "host_response_rate Is significant p_val is 9.234805030888731e-07\n",
      "host_acceptance_rate Is significant p_val is 3.958346094806481e-28\n",
      "host_total_listings_count Is significant p_val is 2.610543335665879e-09\n",
      "accommodates Is significant p_val is 0.0\n",
      "bedrooms Is significant p_val is nan\n",
      "beds Is significant p_val is 0.0\n",
      "minimum_nights Is significant p_val is 3.600781915740181e-153\n",
      "maximum_nights Is significant p_val is 0.00779526439523833\n",
      "minimum_minimum_nights Is significant p_val is 3.418198346067513e-153\n",
      "maximum_minimum_nights Is significant p_val is 8.113174390459153e-91\n",
      "minimum_maximum_nights Is significant p_val is 0.007760314617211279\n",
      "maximum_maximum_nights Is insignificant p_val is0.13095001736371867\n",
      "minimum_nights_avg_ntm Is significant p_val is 7.547856043099395e-99\n",
      "maximum_nights_avg_ntm Is insignificant p_val is0.6648858332967185\n",
      "availability_30 Is significant p_val is 7.200222689679929e-171\n",
      "availability_60 Is significant p_val is 9.463298413583627e-175\n",
      "availability_90 Is significant p_val is 3.3287171480447694e-172\n",
      "availability_365 Is significant p_val is 1.9007663371527896e-120\n",
      "number_of_reviews Is significant p_val is 2.41501765076479e-07\n",
      "number_of_reviews_ltm Is significant p_val is 6.090507551529676e-28\n",
      "review_scores_rating Is significant p_val is 1.1278040049722326e-35\n",
      "review_scores_accuracy Is significant p_val is 3.173329437958756e-05\n",
      "review_scores_cleanliness Is significant p_val is 7.587006616031395e-61\n",
      "review_scores_checkin Is significant p_val is 0.006978906136342763\n",
      "review_scores_communication Is significant p_val is 2.615692919852556e-07\n",
      "review_scores_location Is significant p_val is 1.260763202674523e-120\n",
      "review_scores_value Is significant p_val is 0.003937793792741071\n",
      "calculated_host_listings_count Is significant p_val is 0.007183350937432354\n",
      "calculated_host_listings_count_entire_homes Is significant p_val is 0.0\n",
      "calculated_host_listings_count_private_rooms Is significant p_val is 0.0\n",
      "calculated_host_listings_count_shared_rooms Is significant p_val is nan\n",
      "reviews_per_month Is significant p_val is 3.7639169896652013e-11\n"
     ]
    }
   ],
   "source": [
    "for i in df_new.select_dtypes(include = np.number).columns:\n",
    "    stat , p_val = stats.pearsonr(df_new[i] , np.sqrt(df_target['price']))\n",
    "    if p_val > 0.05:\n",
    "        print('{} Is insignificant p_val is{}'.format(i ,p_val))\n",
    "    else :\n",
    "        print('{} Is significant p_val is {}'.format(i , p_val))\n",
    "    "
   ]
  },
  {
   "cell_type": "code",
   "execution_count": 144,
   "id": "5206b0dd",
   "metadata": {
    "id": "5206b0dd"
   },
   "outputs": [],
   "source": [
    "p_value = []\n",
    "for i in df_new.select_dtypes(include = np.number).columns:\n",
    "    stat , p_val = stats.pearsonr(df_new[i] , np.sqrt(df_target['price']))\n",
    "    p_value.append(p_val)   \n"
   ]
  },
  {
   "cell_type": "code",
   "execution_count": 145,
   "id": "8fbe2cb8",
   "metadata": {
    "colab": {
     "base_uri": "https://localhost:8080/",
     "height": 1000
    },
    "id": "8fbe2cb8",
    "outputId": "f0a79905-d76b-41ca-b6e9-55921ab965dd"
   },
   "outputs": [
    {
     "data": {
      "text/html": [
       "<div>\n",
       "<style scoped>\n",
       "    .dataframe tbody tr th:only-of-type {\n",
       "        vertical-align: middle;\n",
       "    }\n",
       "\n",
       "    .dataframe tbody tr th {\n",
       "        vertical-align: top;\n",
       "    }\n",
       "\n",
       "    .dataframe thead th {\n",
       "        text-align: right;\n",
       "    }\n",
       "</style>\n",
       "<table border=\"1\" class=\"dataframe\">\n",
       "  <thead>\n",
       "    <tr style=\"text-align: right;\">\n",
       "      <th></th>\n",
       "      <th>p_values</th>\n",
       "      <th>features</th>\n",
       "    </tr>\n",
       "  </thead>\n",
       "  <tbody>\n",
       "    <tr>\n",
       "      <th>0</th>\n",
       "      <td>0.000001</td>\n",
       "      <td>host_response_rate</td>\n",
       "    </tr>\n",
       "    <tr>\n",
       "      <th>1</th>\n",
       "      <td>0.000000</td>\n",
       "      <td>host_acceptance_rate</td>\n",
       "    </tr>\n",
       "    <tr>\n",
       "      <th>2</th>\n",
       "      <td>0.000000</td>\n",
       "      <td>host_total_listings_count</td>\n",
       "    </tr>\n",
       "    <tr>\n",
       "      <th>3</th>\n",
       "      <td>0.000000</td>\n",
       "      <td>accommodates</td>\n",
       "    </tr>\n",
       "    <tr>\n",
       "      <th>4</th>\n",
       "      <td>NaN</td>\n",
       "      <td>bedrooms</td>\n",
       "    </tr>\n",
       "    <tr>\n",
       "      <th>5</th>\n",
       "      <td>0.000000</td>\n",
       "      <td>beds</td>\n",
       "    </tr>\n",
       "    <tr>\n",
       "      <th>6</th>\n",
       "      <td>0.000000</td>\n",
       "      <td>minimum_nights</td>\n",
       "    </tr>\n",
       "    <tr>\n",
       "      <th>7</th>\n",
       "      <td>0.007795</td>\n",
       "      <td>maximum_nights</td>\n",
       "    </tr>\n",
       "    <tr>\n",
       "      <th>8</th>\n",
       "      <td>0.000000</td>\n",
       "      <td>minimum_minimum_nights</td>\n",
       "    </tr>\n",
       "    <tr>\n",
       "      <th>9</th>\n",
       "      <td>0.000000</td>\n",
       "      <td>maximum_minimum_nights</td>\n",
       "    </tr>\n",
       "    <tr>\n",
       "      <th>10</th>\n",
       "      <td>0.007760</td>\n",
       "      <td>minimum_maximum_nights</td>\n",
       "    </tr>\n",
       "    <tr>\n",
       "      <th>11</th>\n",
       "      <td>0.130950</td>\n",
       "      <td>maximum_maximum_nights</td>\n",
       "    </tr>\n",
       "    <tr>\n",
       "      <th>12</th>\n",
       "      <td>0.000000</td>\n",
       "      <td>minimum_nights_avg_ntm</td>\n",
       "    </tr>\n",
       "    <tr>\n",
       "      <th>13</th>\n",
       "      <td>0.664886</td>\n",
       "      <td>maximum_nights_avg_ntm</td>\n",
       "    </tr>\n",
       "    <tr>\n",
       "      <th>14</th>\n",
       "      <td>0.000000</td>\n",
       "      <td>availability_30</td>\n",
       "    </tr>\n",
       "    <tr>\n",
       "      <th>15</th>\n",
       "      <td>0.000000</td>\n",
       "      <td>availability_60</td>\n",
       "    </tr>\n",
       "    <tr>\n",
       "      <th>16</th>\n",
       "      <td>0.000000</td>\n",
       "      <td>availability_90</td>\n",
       "    </tr>\n",
       "    <tr>\n",
       "      <th>17</th>\n",
       "      <td>0.000000</td>\n",
       "      <td>availability_365</td>\n",
       "    </tr>\n",
       "    <tr>\n",
       "      <th>18</th>\n",
       "      <td>0.000000</td>\n",
       "      <td>number_of_reviews</td>\n",
       "    </tr>\n",
       "    <tr>\n",
       "      <th>19</th>\n",
       "      <td>0.000000</td>\n",
       "      <td>number_of_reviews_ltm</td>\n",
       "    </tr>\n",
       "    <tr>\n",
       "      <th>20</th>\n",
       "      <td>0.000000</td>\n",
       "      <td>review_scores_rating</td>\n",
       "    </tr>\n",
       "    <tr>\n",
       "      <th>21</th>\n",
       "      <td>0.000032</td>\n",
       "      <td>review_scores_accuracy</td>\n",
       "    </tr>\n",
       "    <tr>\n",
       "      <th>22</th>\n",
       "      <td>0.000000</td>\n",
       "      <td>review_scores_cleanliness</td>\n",
       "    </tr>\n",
       "    <tr>\n",
       "      <th>23</th>\n",
       "      <td>0.006979</td>\n",
       "      <td>review_scores_checkin</td>\n",
       "    </tr>\n",
       "    <tr>\n",
       "      <th>24</th>\n",
       "      <td>0.000000</td>\n",
       "      <td>review_scores_communication</td>\n",
       "    </tr>\n",
       "    <tr>\n",
       "      <th>25</th>\n",
       "      <td>0.000000</td>\n",
       "      <td>review_scores_location</td>\n",
       "    </tr>\n",
       "    <tr>\n",
       "      <th>26</th>\n",
       "      <td>0.003938</td>\n",
       "      <td>review_scores_value</td>\n",
       "    </tr>\n",
       "    <tr>\n",
       "      <th>27</th>\n",
       "      <td>0.007183</td>\n",
       "      <td>calculated_host_listings_count</td>\n",
       "    </tr>\n",
       "    <tr>\n",
       "      <th>28</th>\n",
       "      <td>0.000000</td>\n",
       "      <td>calculated_host_listings_count_entire_homes</td>\n",
       "    </tr>\n",
       "    <tr>\n",
       "      <th>29</th>\n",
       "      <td>0.000000</td>\n",
       "      <td>calculated_host_listings_count_private_rooms</td>\n",
       "    </tr>\n",
       "    <tr>\n",
       "      <th>30</th>\n",
       "      <td>NaN</td>\n",
       "      <td>calculated_host_listings_count_shared_rooms</td>\n",
       "    </tr>\n",
       "    <tr>\n",
       "      <th>31</th>\n",
       "      <td>0.000000</td>\n",
       "      <td>reviews_per_month</td>\n",
       "    </tr>\n",
       "  </tbody>\n",
       "</table>\n",
       "</div>"
      ],
      "text/plain": [
       "    p_values                                      features\n",
       "0   0.000001                            host_response_rate\n",
       "1   0.000000                          host_acceptance_rate\n",
       "2   0.000000                     host_total_listings_count\n",
       "3   0.000000                                  accommodates\n",
       "4        NaN                                      bedrooms\n",
       "5   0.000000                                          beds\n",
       "6   0.000000                                minimum_nights\n",
       "7   0.007795                                maximum_nights\n",
       "8   0.000000                        minimum_minimum_nights\n",
       "9   0.000000                        maximum_minimum_nights\n",
       "10  0.007760                        minimum_maximum_nights\n",
       "11  0.130950                        maximum_maximum_nights\n",
       "12  0.000000                        minimum_nights_avg_ntm\n",
       "13  0.664886                        maximum_nights_avg_ntm\n",
       "14  0.000000                               availability_30\n",
       "15  0.000000                               availability_60\n",
       "16  0.000000                               availability_90\n",
       "17  0.000000                              availability_365\n",
       "18  0.000000                             number_of_reviews\n",
       "19  0.000000                         number_of_reviews_ltm\n",
       "20  0.000000                          review_scores_rating\n",
       "21  0.000032                        review_scores_accuracy\n",
       "22  0.000000                     review_scores_cleanliness\n",
       "23  0.006979                         review_scores_checkin\n",
       "24  0.000000                   review_scores_communication\n",
       "25  0.000000                        review_scores_location\n",
       "26  0.003938                           review_scores_value\n",
       "27  0.007183                calculated_host_listings_count\n",
       "28  0.000000   calculated_host_listings_count_entire_homes\n",
       "29  0.000000  calculated_host_listings_count_private_rooms\n",
       "30       NaN   calculated_host_listings_count_shared_rooms\n",
       "31  0.000000                             reviews_per_month"
      ]
     },
     "execution_count": 145,
     "metadata": {},
     "output_type": "execute_result"
    }
   ],
   "source": [
    "df_pval = pd.DataFrame(data = p_value , columns = ['p_values'])\n",
    "df_pval['features'] = df_new.select_dtypes(include = np.number).columns\n",
    "df_pval"
   ]
  },
  {
   "cell_type": "code",
   "execution_count": 146,
   "id": "9f05941a",
   "metadata": {
    "id": "9f05941a"
   },
   "outputs": [],
   "source": [
    "# All the numerical features are co_related with target"
   ]
  },
  {
   "cell_type": "markdown",
   "id": "5437395b",
   "metadata": {
    "id": "5437395b"
   },
   "source": [
    "# Model Building"
   ]
  },
  {
   "cell_type": "code",
   "execution_count": 147,
   "id": "8b05be74",
   "metadata": {
    "id": "8b05be74"
   },
   "outputs": [],
   "source": [
    "df_encoded['constant'] = np.ones(len(df_encoded))"
   ]
  },
  {
   "cell_type": "markdown",
   "id": "4b9ed13d",
   "metadata": {
    "id": "4b9ed13d"
   },
   "source": [
    "# Base model "
   ]
  },
  {
   "cell_type": "code",
   "execution_count": 148,
   "id": "72289521",
   "metadata": {
    "colab": {
     "base_uri": "https://localhost:8080/",
     "height": 283
    },
    "id": "72289521",
    "outputId": "07c56d3c-53c9-46ba-f200-6536054d0c4e"
   },
   "outputs": [
    {
     "data": {
      "text/plain": [
       "<AxesSubplot:ylabel='Density'>"
      ]
     },
     "execution_count": 148,
     "metadata": {},
     "output_type": "execute_result"
    },
    {
     "data": {
      "image/png": "[encoded data removed]",
      "text/plain": [
       "<Figure size 504x288 with 1 Axes>"
      ]
     },
     "metadata": {
      "needs_background": "light"
     },
     "output_type": "display_data"
    }
   ],
   "source": [
    "sns.distplot(df_target)"
   ]
  },
  {
   "cell_type": "code",
   "execution_count": 149,
   "id": "e8f68a2d",
   "metadata": {
    "colab": {
     "base_uri": "https://localhost:8080/",
     "height": 206
    },
    "id": "e8f68a2d",
    "outputId": "fe658e4d-98a7-41e6-f67e-3324e6e8b9e8"
   },
   "outputs": [
    {
     "data": {
      "text/html": [
       "<div>\n",
       "<style scoped>\n",
       "    .dataframe tbody tr th:only-of-type {\n",
       "        vertical-align: middle;\n",
       "    }\n",
       "\n",
       "    .dataframe tbody tr th {\n",
       "        vertical-align: top;\n",
       "    }\n",
       "\n",
       "    .dataframe thead th {\n",
       "        text-align: right;\n",
       "    }\n",
       "</style>\n",
       "<table border=\"1\" class=\"dataframe\">\n",
       "  <thead>\n",
       "    <tr style=\"text-align: right;\">\n",
       "      <th></th>\n",
       "      <th>price</th>\n",
       "    </tr>\n",
       "  </thead>\n",
       "  <tbody>\n",
       "    <tr>\n",
       "      <th>0</th>\n",
       "      <td>150.000000</td>\n",
       "    </tr>\n",
       "    <tr>\n",
       "      <th>1</th>\n",
       "      <td>75.000000</td>\n",
       "    </tr>\n",
       "    <tr>\n",
       "      <th>2</th>\n",
       "      <td>60.000000</td>\n",
       "    </tr>\n",
       "    <tr>\n",
       "      <th>3</th>\n",
       "      <td>275.000000</td>\n",
       "    </tr>\n",
       "    <tr>\n",
       "      <th>4</th>\n",
       "      <td>68.000000</td>\n",
       "    </tr>\n",
       "  </tbody>\n",
       "</table>\n",
       "</div>"
      ],
      "text/plain": [
       "       price\n",
       "0 150.000000\n",
       "1  75.000000\n",
       "2  60.000000\n",
       "3 275.000000\n",
       "4  68.000000"
      ]
     },
     "execution_count": 149,
     "metadata": {},
     "output_type": "execute_result"
    }
   ],
   "source": [
    "df_target.head()"
   ]
  },
  {
   "cell_type": "code",
   "execution_count": 150,
   "id": "8d57c14d",
   "metadata": {
    "id": "8d57c14d"
   },
   "outputs": [],
   "source": [
    "from sklearn.model_selection import train_test_split"
   ]
  },
  {
   "cell_type": "code",
   "execution_count": 151,
   "id": "3b212a7a",
   "metadata": {
    "id": "3b212a7a"
   },
   "outputs": [],
   "source": [
    "from sklearn.preprocessing import PowerTransformer\n",
    "pt = PowerTransformer()\n",
    "df_target['price'] = pt.fit_transform(df_target[['price']])"
   ]
  },
  {
   "cell_type": "code",
   "execution_count": 152,
   "id": "ff037d22",
   "metadata": {
    "id": "ff037d22"
   },
   "outputs": [],
   "source": [
    "xtrain,xtest,ytrain,ytest = train_test_split(df_encoded , df_target, test_size = 0.3, random_state =2)"
   ]
  },
  {
   "cell_type": "code",
   "execution_count": 153,
   "id": "7d71497d",
   "metadata": {
    "id": "7d71497d"
   },
   "outputs": [],
   "source": [
    "base_model = sm.OLS(ytrain , xtrain).fit()"
   ]
  },
  {
   "cell_type": "code",
   "execution_count": 154,
   "id": "2dc786a8",
   "metadata": {
    "colab": {
     "base_uri": "https://localhost:8080/"
    },
    "id": "2dc786a8",
    "outputId": "b41e7075-7a04-4afc-94f7-f1e0f1139efc"
   },
   "outputs": [
    {
     "name": "stdout",
     "output_type": "stream",
     "text": [
      "                            OLS Regression Results                            \n",
      "==============================================================================\n",
      "Dep. Variable:                  price   R-squared:                       0.572\n",
      "Model:                            OLS   Adj. R-squared:                  0.571\n",
      "Method:                 Least Squares   F-statistic:                     849.9\n",
      "Date:                Wed, 16 Nov 2022   Prob (F-statistic):               0.00\n",
      "Time:                        17:59:54   Log-Likelihood:                -26641.\n",
      "No. Observations:               26793   AIC:                         5.337e+04\n",
      "Df Residuals:                   26750   BIC:                         5.372e+04\n",
      "Df Model:                          42                                         \n",
      "Covariance Type:            nonrobust                                         \n",
      "================================================================================================================\n",
      "                                                   coef    std err          t      P>|t|      [0.025      0.975]\n",
      "----------------------------------------------------------------------------------------------------------------\n",
      "host_response_rate                               0.0004      0.001      0.726      0.468      -0.001       0.002\n",
      "host_acceptance_rate                             0.0036      0.001      6.963      0.000       0.003       0.005\n",
      "host_total_listings_count                        0.0244      0.004      6.733      0.000       0.017       0.032\n",
      "accommodates                                     0.2026      0.004     45.396      0.000       0.194       0.211\n",
      "bedrooms                                        -1.6301      0.128    -12.749      0.000      -1.881      -1.379\n",
      "beds                                             0.0433      0.008      5.300      0.000       0.027       0.059\n",
      "minimum_nights                                  -0.0035      0.002     -2.012      0.044      -0.007   -8.96e-05\n",
      "maximum_nights                                   0.0001    1.2e-05     11.887      0.000       0.000       0.000\n",
      "minimum_minimum_nights                          -0.0215      0.002    -11.978      0.000      -0.025      -0.018\n",
      "maximum_minimum_nights                          -0.0079      0.003     -2.807      0.005      -0.013      -0.002\n",
      "minimum_maximum_nights                          -0.0005   4.68e-05    -11.198      0.000      -0.001      -0.000\n",
      "maximum_maximum_nights                           0.0006      0.000      5.251      0.000       0.000       0.001\n",
      "minimum_nights_avg_ntm                           0.0208      0.003      6.547      0.000       0.015       0.027\n",
      "maximum_nights_avg_ntm                          -0.0002      0.000     -1.301      0.193      -0.000    8.61e-05\n",
      "availability_30                                  0.0186      0.001     16.494      0.000       0.016       0.021\n",
      "availability_60                                 -0.0047      0.001     -4.024      0.000      -0.007      -0.002\n",
      "availability_90                                  0.0037      0.001      5.977      0.000       0.002       0.005\n",
      "availability_365                             -6.514e-05   4.57e-05     -1.426      0.154      -0.000    2.44e-05\n",
      "number_of_reviews                               -0.0018      0.000     -5.222      0.000      -0.002      -0.001\n",
      "number_of_reviews_ltm                           -0.0104      0.003     -3.956      0.000      -0.016      -0.005\n",
      "review_scores_rating                             0.2593      0.029      9.037      0.000       0.203       0.315\n",
      "review_scores_accuracy                          -0.1193      0.040     -2.996      0.003      -0.197      -0.041\n",
      "review_scores_cleanliness                        0.1933      0.022      8.838      0.000       0.150       0.236\n",
      "review_scores_checkin                           -0.1260      0.056     -2.239      0.025      -0.236      -0.016\n",
      "review_scores_communication                      0.0730      0.062      1.179      0.239      -0.048       0.194\n",
      "review_scores_location                           0.5354      0.025     21.027      0.000       0.485       0.585\n",
      "review_scores_value                             -0.3161      0.030    -10.521      0.000      -0.375      -0.257\n",
      "calculated_host_listings_count                  -0.0180      0.005     -3.752      0.000      -0.027      -0.009\n",
      "calculated_host_listings_count_entire_homes     -0.1001      0.010     -9.797      0.000      -0.120      -0.080\n",
      "calculated_host_listings_count_private_rooms    -0.0611      0.011     -5.607      0.000      -0.082      -0.040\n",
      "calculated_host_listings_count_shared_rooms    8.41e-16   1.26e-16      6.690      0.000    5.95e-16    1.09e-15\n",
      "reviews_per_month                               -0.0431      0.008     -5.070      0.000      -0.060      -0.026\n",
      "host_is_superhost_t                              0.0196      0.012      1.631      0.103      -0.004       0.043\n",
      "host_identity_verified_t                         0.0185      0.011      1.685      0.092      -0.003       0.040\n",
      "neighbourhood_group_cleansed_Brooklyn            0.3049      0.024     12.466      0.000       0.257       0.353\n",
      "neighbourhood_group_cleansed_Manhattan           0.7054      0.025     28.577      0.000       0.657       0.754\n",
      "neighbourhood_group_cleansed_Queens              0.0869      0.026      3.369      0.001       0.036       0.138\n",
      "neighbourhood_group_cleansed_Staten Island      -0.1119      0.048     -2.318      0.020      -0.207      -0.017\n",
      "room_type_Hotel room                            -1.3307      0.058    -22.860      0.000      -1.445      -1.217\n",
      "room_type_Private room                          -0.6094      0.022    -28.025      0.000      -0.652      -0.567\n",
      "room_type_Shared room                           -0.8630      0.039    -22.138      0.000      -0.939      -0.787\n",
      "bathrooms_text_private_bath                      0.3904      0.021     18.696      0.000       0.349       0.431\n",
      "bathrooms_text_shared_bathroom                  -0.2073      0.016    -13.017      0.000      -0.238      -0.176\n",
      "instant_bookable_t                               0.1034      0.010     10.191      0.000       0.084       0.123\n",
      "constant                                        -1.6301      0.128    -12.749      0.000      -1.881      -1.379\n",
      "==============================================================================\n",
      "Omnibus:                     6090.559   Durbin-Watson:                   2.004\n",
      "Prob(Omnibus):                  0.000   Jarque-Bera (JB):           246759.391\n",
      "Skew:                          -0.296   Prob(JB):                         0.00\n",
      "Kurtosis:                      17.856   Cond. No.                     1.16e+16\n",
      "==============================================================================\n",
      "\n",
      "Notes:\n",
      "[1] Standard Errors assume that the covariance matrix of the errors is correctly specified.\n",
      "[2] The smallest eigenvalue is 6.4e-22. This might indicate that there are\n",
      "strong multicollinearity problems or that the design matrix is singular.\n"
     ]
    }
   ],
   "source": [
    "print(base_model.summary())"
   ]
  },
  {
   "cell_type": "code",
   "execution_count": 155,
   "id": "158f59ce",
   "metadata": {
    "colab": {
     "base_uri": "https://localhost:8080/"
    },
    "id": "158f59ce",
    "outputId": "caf483ab-b5ce-4a19-ca6d-58f3130e4d66"
   },
   "outputs": [
    {
     "data": {
      "text/plain": [
       "0.5716173770046638"
      ]
     },
     "execution_count": 155,
     "metadata": {},
     "output_type": "execute_result"
    }
   ],
   "source": [
    "# Analysing the summary \n",
    "base_model.rsquared"
   ]
  },
  {
   "cell_type": "code",
   "execution_count": 156,
   "id": "03b195b7",
   "metadata": {
    "id": "03b195b7"
   },
   "outputs": [],
   "source": [
    "# Durbin Watson = 2.004 (equal to 2)\n",
    "# so no auto correlation\n",
    "# prob(jarque_bera) < 0.5\n",
    "# errors are not following normal distribution\n",
    "# cond_no >1000 \n",
    "# implies severe multicollinearity\n",
    "# there are some insignificant columns "
   ]
  },
  {
   "cell_type": "code",
   "execution_count": 157,
   "id": "5513b7e4",
   "metadata": {
    "colab": {
     "base_uri": "https://localhost:8080/"
    },
    "id": "5513b7e4",
    "outputId": "3a9bdaef-387c-4f7f-ab6c-4fe6e2f1f0e5"
   },
   "outputs": [
    {
     "data": {
      "text/plain": [
       "0.5650696707896753"
      ]
     },
     "execution_count": 157,
     "metadata": {},
     "output_type": "execute_result"
    }
   ],
   "source": [
    "from sklearn.metrics import r2_score\n",
    "test_pred = base_model.predict(xtest)\n",
    "pred_score = r2_score(ytest , test_pred)\n",
    "pred_score"
   ]
  },
  {
   "cell_type": "code",
   "execution_count": 158,
   "id": "430eda7a",
   "metadata": {
    "id": "430eda7a"
   },
   "outputs": [],
   "source": [
    "# To improve model we need to remove multicollinearity "
   ]
  },
  {
   "cell_type": "code",
   "execution_count": 159,
   "id": "169249ea",
   "metadata": {
    "id": "169249ea"
   },
   "outputs": [],
   "source": [
    "# create a generalized function to calculate the RMSE values for train set\n",
    "def get_train_rmse(model):\n",
    "    \n",
    "    # For training set:\n",
    "    # train_pred: prediction made by the model on the training dataset 'X_train'\n",
    "    # y_train: actual values ofthe target variable for the train dataset\n",
    "\n",
    "    # predict the output of the target variable from the train data \n",
    "    train_pred = model.predict(xtrain)\n",
    "\n",
    "    # calculate the MSE using the \"mean_squared_error\" function\n",
    "\n",
    "    # MSE for the train data\n",
    "    mse_train = mean_squared_error(ytrain, train_pred)\n",
    "\n",
    "    # take the square root of the MSE to calculate the RMSE\n",
    "    # round the value upto 4 digits using 'round()'\n",
    "    rmse_train = round(np.sqrt(mse_train), 6)\n",
    "    \n",
    "    # return the training RMSE\n",
    "    return(rmse_train)"
   ]
  },
  {
   "cell_type": "code",
   "execution_count": 160,
   "id": "792fce42",
   "metadata": {
    "id": "792fce42"
   },
   "outputs": [],
   "source": [
    "# create a generalized function to calculate the RMSE values test set\n",
    "def get_test_rmse(model):\n",
    "    \n",
    "    # For testing set:\n",
    "    # test_pred: prediction made by the model on the test dataset 'X_test'\n",
    "    # y_test: actual values of the target variable for the test dataset\n",
    "\n",
    "    # predict the output of the target variable from the test data\n",
    "    test_pred = model.predict(xtest)\n",
    "\n",
    "    # MSE for the test data\n",
    "    mse_test = mean_squared_error(ytest, test_pred)\n",
    "\n",
    "    # take the square root of the MSE to calculate the RMSE\n",
    "    # round the value upto 4 digits using 'round()'\n",
    "    rmse_test = round(np.sqrt(mse_test), 6)\n",
    "\n",
    "    # return the test RMSE\n",
    "    return(rmse_test)"
   ]
  },
  {
   "cell_type": "code",
   "execution_count": 161,
   "id": "19e8b20d",
   "metadata": {
    "colab": {
     "base_uri": "https://localhost:8080/"
    },
    "id": "19e8b20d",
    "outputId": "8838d686-8c03-4bcd-b0b7-c2bb3eac8c8f"
   },
   "outputs": [
    {
     "name": "stdout",
     "output_type": "stream",
     "text": [
      "train rmse : 0.654022\n",
      "test rmse : 0.660636\n",
      "Model doesnot have overfitting\n"
     ]
    }
   ],
   "source": [
    "print('train rmse :' , get_train_rmse(base_model))\n",
    "print('test rmse :' , get_test_rmse(base_model))\n",
    "print('Model doesnot have overfitting')"
   ]
  },
  {
   "cell_type": "code",
   "execution_count": 162,
   "id": "e753da77",
   "metadata": {
    "id": "e753da77"
   },
   "outputs": [],
   "source": [
    "def mape(actual, predicted):\n",
    "    return (np.mean(np.abs((actual - predicted) / actual)) * 100)\n",
    "train_pred=base_model.predict(xtrain)\n",
    "test_pred=base_model.predict(xtest)"
   ]
  },
  {
   "cell_type": "code",
   "execution_count": 163,
   "id": "d5cae089",
   "metadata": {
    "colab": {
     "base_uri": "https://localhost:8080/"
    },
    "id": "d5cae089",
    "outputId": "0e951254-9b32-4a58-8498-ea5eab52c39d"
   },
   "outputs": [
    {
     "name": "stdout",
     "output_type": "stream",
     "text": [
      "Mean Absolute Percentage Error (MAPE) on training set:  198.0052\n"
     ]
    }
   ],
   "source": [
    "mape_train = round(mape(ytrain['price'], train_pred),4)\n",
    "\n",
    "# print the MAPE for the training set\n",
    "print(\"Mean Absolute Percentage Error (MAPE) on training set: \", mape_train)"
   ]
  },
  {
   "cell_type": "code",
   "execution_count": 164,
   "id": "30b480de",
   "metadata": {
    "colab": {
     "base_uri": "https://localhost:8080/"
    },
    "id": "30b480de",
    "outputId": "429e7726-b7d8-4dc1-f8c9-1f8f50891f0a"
   },
   "outputs": [
    {
     "name": "stdout",
     "output_type": "stream",
     "text": [
      "Mean Absolute Percentage Error (MAPE) on test set:  197.7984\n"
     ]
    }
   ],
   "source": [
    "mape_test = round(mape(ytest['price'], test_pred),4)\n",
    "\n",
    "# print the MAPE for the training set\n",
    "print(\"Mean Absolute Percentage Error (MAPE) on test set: \", mape_test)"
   ]
  },
  {
   "cell_type": "code",
   "execution_count": 165,
   "id": "fb57d258",
   "metadata": {
    "id": "fb57d258"
   },
   "outputs": [],
   "source": [
    "def train_score(model) :\n",
    "    train_pred = model.predict(xtrain)\n",
    "    score = r2_score(ytrain , train_pred)\n",
    "    return score    "
   ]
  },
  {
   "cell_type": "code",
   "execution_count": 166,
   "id": "7c2b8303",
   "metadata": {
    "id": "7c2b8303"
   },
   "outputs": [],
   "source": [
    "def test_score(model) :\n",
    "    test_pred = model.predict(xtest)\n",
    "    score = r2_score(ytest , test_pred)\n",
    "    return score"
   ]
  },
  {
   "cell_type": "code",
   "execution_count": null,
   "id": "b70b3fad",
   "metadata": {},
   "outputs": [],
   "source": []
  },
  {
   "cell_type": "code",
   "execution_count": null,
   "id": "8c466cbc",
   "metadata": {},
   "outputs": [],
   "source": []
  },
  {
   "cell_type": "code",
   "execution_count": null,
   "id": "fe1325f2",
   "metadata": {},
   "outputs": [],
   "source": []
  },
  {
   "cell_type": "code",
   "execution_count": null,
   "id": "7e66314b",
   "metadata": {},
   "outputs": [],
   "source": []
  }
 ],
 "metadata": {
  "colab": {
   "provenance": []
  },
  "kernelspec": {
   "display_name": "Python 3 (ipykernel)",
   "language": "python",
   "name": "python3"
  },
  "language_info": {
   "codemirror_mode": {
    "name": "ipython",
    "version": 3
   },
   "file_extension": ".py",
   "mimetype": "text/x-python",
   "name": "python",
   "nbconvert_exporter": "python",
   "pygments_lexer": "ipython3",
   "version": "3.9.7"
  }
 },
 "nbformat": 4,
 "nbformat_minor": 5
}
